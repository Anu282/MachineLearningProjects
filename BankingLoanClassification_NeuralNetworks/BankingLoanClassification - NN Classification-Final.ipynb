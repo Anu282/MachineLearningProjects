{
 "cells": [
  {
   "cell_type": "markdown",
   "metadata": {},
   "source": [
    "# Banking Loan Classification - Neural Network - Classification"
   ]
  },
  {
   "cell_type": "markdown",
   "metadata": {},
   "source": [
    "Dataset has about the home loans of 2,500 bank clients. Each row represents a single loan. The columns include the characteristics of the client who used the loan. This is a binary classification task: predict whether a loan will be bad or not (1=Yes, 0=No). This is an important task for banks to prevent bad loans from being issued."
   ]
  },
  {
   "cell_type": "markdown",
   "metadata": {},
   "source": [
    "## Description of Variables\n",
    "\n",
    "The description of variables are provided in \"Loan - Data Dictionary.docx\""
   ]
  },
  {
   "cell_type": "markdown",
   "metadata": {},
   "source": [
    "## Goal\n",
    "\n",
    "Use the **loan.csv** data set and build a model to predict **BAD**. Build at least **two neural network models**.<br>\n",
    "\n",
    "Since we have a relatively small data set, I utilized cross-validation to evaluate the accuracy."
   ]
  },
  {
   "cell_type": "markdown",
   "metadata": {},
   "source": [
    "# Read and Prepare the Data\n",
    "## feature engineering: create one new variable from existing ones"
   ]
  },
  {
   "cell_type": "code",
   "execution_count": 1,
   "metadata": {},
   "outputs": [],
   "source": [
    "# Insert as many cells as you need for data prep\n",
    "# Common imports\n",
    "import numpy as np\n",
    "import pandas as pd\n",
    "\n",
    "np.random.seed(42)\n"
   ]
  },
  {
   "cell_type": "code",
   "execution_count": 2,
   "metadata": {},
   "outputs": [
    {
     "data": {
      "text/html": [
       "<div>\n",
       "<style scoped>\n",
       "    .dataframe tbody tr th:only-of-type {\n",
       "        vertical-align: middle;\n",
       "    }\n",
       "\n",
       "    .dataframe tbody tr th {\n",
       "        vertical-align: top;\n",
       "    }\n",
       "\n",
       "    .dataframe thead th {\n",
       "        text-align: right;\n",
       "    }\n",
       "</style>\n",
       "<table border=\"1\" class=\"dataframe\">\n",
       "  <thead>\n",
       "    <tr style=\"text-align: right;\">\n",
       "      <th></th>\n",
       "      <th>BAD</th>\n",
       "      <th>LOAN</th>\n",
       "      <th>MORTDUE</th>\n",
       "      <th>VALUE</th>\n",
       "      <th>REASON</th>\n",
       "      <th>JOB</th>\n",
       "      <th>YOJ</th>\n",
       "      <th>DEROG</th>\n",
       "      <th>DELINQ</th>\n",
       "      <th>CLAGE</th>\n",
       "      <th>NINQ</th>\n",
       "      <th>CLNO</th>\n",
       "      <th>DEBTINC</th>\n",
       "    </tr>\n",
       "  </thead>\n",
       "  <tbody>\n",
       "    <tr>\n",
       "      <th>0</th>\n",
       "      <td>0</td>\n",
       "      <td>25900</td>\n",
       "      <td>61064.0</td>\n",
       "      <td>94714.0</td>\n",
       "      <td>DebtCon</td>\n",
       "      <td>Office</td>\n",
       "      <td>2.0</td>\n",
       "      <td>0.0</td>\n",
       "      <td>0.0</td>\n",
       "      <td>98.809375</td>\n",
       "      <td>0.0</td>\n",
       "      <td>23.0</td>\n",
       "      <td>34.565944</td>\n",
       "    </tr>\n",
       "    <tr>\n",
       "      <th>1</th>\n",
       "      <td>0</td>\n",
       "      <td>26100</td>\n",
       "      <td>113266.0</td>\n",
       "      <td>182082.0</td>\n",
       "      <td>DebtCon</td>\n",
       "      <td>Sales</td>\n",
       "      <td>18.0</td>\n",
       "      <td>0.0</td>\n",
       "      <td>0.0</td>\n",
       "      <td>304.852469</td>\n",
       "      <td>1.0</td>\n",
       "      <td>31.0</td>\n",
       "      <td>33.193949</td>\n",
       "    </tr>\n",
       "    <tr>\n",
       "      <th>2</th>\n",
       "      <td>1</td>\n",
       "      <td>50000</td>\n",
       "      <td>220528.0</td>\n",
       "      <td>300900.0</td>\n",
       "      <td>HomeImp</td>\n",
       "      <td>Self</td>\n",
       "      <td>5.0</td>\n",
       "      <td>0.0</td>\n",
       "      <td>0.0</td>\n",
       "      <td>0.000000</td>\n",
       "      <td>0.0</td>\n",
       "      <td>2.0</td>\n",
       "      <td>NaN</td>\n",
       "    </tr>\n",
       "    <tr>\n",
       "      <th>3</th>\n",
       "      <td>1</td>\n",
       "      <td>22400</td>\n",
       "      <td>51470.0</td>\n",
       "      <td>68139.0</td>\n",
       "      <td>DebtCon</td>\n",
       "      <td>Mgr</td>\n",
       "      <td>9.0</td>\n",
       "      <td>0.0</td>\n",
       "      <td>0.0</td>\n",
       "      <td>31.168696</td>\n",
       "      <td>2.0</td>\n",
       "      <td>8.0</td>\n",
       "      <td>37.952180</td>\n",
       "    </tr>\n",
       "    <tr>\n",
       "      <th>4</th>\n",
       "      <td>0</td>\n",
       "      <td>20900</td>\n",
       "      <td>62615.0</td>\n",
       "      <td>87904.0</td>\n",
       "      <td>DebtCon</td>\n",
       "      <td>Office</td>\n",
       "      <td>5.0</td>\n",
       "      <td>NaN</td>\n",
       "      <td>NaN</td>\n",
       "      <td>177.864849</td>\n",
       "      <td>NaN</td>\n",
       "      <td>15.0</td>\n",
       "      <td>36.831076</td>\n",
       "    </tr>\n",
       "  </tbody>\n",
       "</table>\n",
       "</div>"
      ],
      "text/plain": [
       "   BAD   LOAN   MORTDUE     VALUE   REASON     JOB   YOJ  DEROG  DELINQ  \\\n",
       "0    0  25900   61064.0   94714.0  DebtCon  Office   2.0    0.0     0.0   \n",
       "1    0  26100  113266.0  182082.0  DebtCon   Sales  18.0    0.0     0.0   \n",
       "2    1  50000  220528.0  300900.0  HomeImp    Self   5.0    0.0     0.0   \n",
       "3    1  22400   51470.0   68139.0  DebtCon     Mgr   9.0    0.0     0.0   \n",
       "4    0  20900   62615.0   87904.0  DebtCon  Office   5.0    NaN     NaN   \n",
       "\n",
       "        CLAGE  NINQ  CLNO    DEBTINC  \n",
       "0   98.809375   0.0  23.0  34.565944  \n",
       "1  304.852469   1.0  31.0  33.193949  \n",
       "2    0.000000   0.0   2.0        NaN  \n",
       "3   31.168696   2.0   8.0  37.952180  \n",
       "4  177.864849   NaN  15.0  36.831076  "
      ]
     },
     "execution_count": 2,
     "metadata": {},
     "output_type": "execute_result"
    }
   ],
   "source": [
    "loan = pd.read_csv(\"loan.csv\")\n",
    "loan.head()"
   ]
  },
  {
   "cell_type": "code",
   "execution_count": 3,
   "metadata": {},
   "outputs": [],
   "source": [
    "from sklearn.model_selection import train_test_split\n",
    "\n",
    "train_set, test_set = train_test_split(loan, test_size=0.3)"
   ]
  },
  {
   "cell_type": "code",
   "execution_count": 4,
   "metadata": {},
   "outputs": [
    {
     "data": {
      "text/plain": [
       "BAD          0\n",
       "LOAN         0\n",
       "MORTDUE    151\n",
       "VALUE       61\n",
       "REASON      89\n",
       "JOB         74\n",
       "YOJ        156\n",
       "DEROG      194\n",
       "DELINQ     165\n",
       "CLAGE      105\n",
       "NINQ       153\n",
       "CLNO        76\n",
       "DEBTINC    556\n",
       "dtype: int64"
      ]
     },
     "execution_count": 4,
     "metadata": {},
     "output_type": "execute_result"
    }
   ],
   "source": [
    "train_set.isna().sum()"
   ]
  },
  {
   "cell_type": "code",
   "execution_count": 5,
   "metadata": {},
   "outputs": [
    {
     "data": {
      "text/plain": [
       "BAD          0\n",
       "LOAN         0\n",
       "MORTDUE     71\n",
       "VALUE       30\n",
       "REASON      30\n",
       "JOB         32\n",
       "YOJ         60\n",
       "DEROG       76\n",
       "DELINQ      61\n",
       "CLAGE       41\n",
       "NINQ        59\n",
       "CLNO        29\n",
       "DEBTINC    262\n",
       "dtype: int64"
      ]
     },
     "execution_count": 5,
     "metadata": {},
     "output_type": "execute_result"
    }
   ],
   "source": [
    "test_set.isna().sum()"
   ]
  },
  {
   "cell_type": "code",
   "execution_count": 6,
   "metadata": {},
   "outputs": [],
   "source": [
    "from sklearn.compose import ColumnTransformer\n",
    "from sklearn.pipeline import Pipeline\n",
    "from sklearn.impute import SimpleImputer\n",
    "from sklearn.preprocessing import StandardScaler\n",
    "from sklearn.preprocessing import OneHotEncoder\n",
    "\n",
    "from sklearn.preprocessing import FunctionTransformer"
   ]
  },
  {
   "cell_type": "code",
   "execution_count": 7,
   "metadata": {},
   "outputs": [],
   "source": [
    "\n",
    "#train = train_set.drop(['BAD'], axis=1)\n",
    "#test = test_set.drop(['BAD'], axis=1)"
   ]
  },
  {
   "cell_type": "code",
   "execution_count": 8,
   "metadata": {},
   "outputs": [],
   "source": [
    "train_y = train_set['BAD']\n",
    "test_y = test_set['BAD']\n",
    "\n",
    "train_inputs = train_set.drop(['BAD'], axis=1)\n",
    "test_inputs = test_set.drop(['BAD'], axis=1)"
   ]
  },
  {
   "cell_type": "code",
   "execution_count": 9,
   "metadata": {},
   "outputs": [
    {
     "data": {
      "text/plain": [
       "count    1194.000000\n",
       "mean       34.234000\n",
       "std        10.584808\n",
       "min         0.524499\n",
       "25%        29.160065\n",
       "50%        35.029222\n",
       "75%        39.195746\n",
       "max       203.312149\n",
       "Name: DEBTINC, dtype: float64"
      ]
     },
     "execution_count": 9,
     "metadata": {},
     "output_type": "execute_result"
    }
   ],
   "source": [
    "train_inputs['DEBTINC'].describe()"
   ]
  },
  {
   "cell_type": "code",
   "execution_count": 10,
   "metadata": {},
   "outputs": [
    {
     "data": {
      "text/plain": [
       "<AxesSubplot:>"
      ]
     },
     "execution_count": 10,
     "metadata": {},
     "output_type": "execute_result"
    },
    {
     "data": {
      "image/png": "[encoded data removed]",
      "text/plain": [
       "<Figure size 432x288 with 1 Axes>"
      ]
     },
     "metadata": {
      "needs_background": "light"
     },
     "output_type": "display_data"
    }
   ],
   "source": [
    "train_inputs['DEBTINC'].hist()"
   ]
  },
  {
   "cell_type": "code",
   "execution_count": 11,
   "metadata": {},
   "outputs": [],
   "source": [
    "def new_col(df):\n",
    "    #Create a copy so that we don't overwrite the existing dataframe\n",
    "    df1 = df.copy()\n",
    "    \n",
    "    #df1['POSSIBLELOANDEFAULT'] = np.where(pd.isnull(train_inputs['VALUE'])|,1,0)\n",
    "    #return df1['POSSIBLELOANDEFAULT']\n",
    "    #df1['QUANTILEDEBT'] = pd.qcut(train_inputs['DEBTINC'],5, duplicates='drop',\n",
    "    #                      labels=['1', '2', '3','4','5'])\n",
    "    df1['POSSIBLELOANDEFAULT'] = np.where(df1['DEBTINC'] >= 50 , 1, 0)\n",
    "\n",
    "    return df1[['POSSIBLELOANDEFAULT']]\n",
    "    #df1['QUANTILEDEBT'] = np.where((df1['DEBTINC']).isnull(), '0',df1['QUANTILEDEBT'])\n",
    "    #df1['QUANTILEDEBT'] =pd.DataFrame(df1['QUANTILEDEBT'],\n",
    "    #                  index=np.arange(1, 1751, 1), columns=['QUANTILEDEBT'])\n",
    "    \n",
    "    #return df1['QUANTILEDEBT']\n",
    "    "
   ]
  },
  {
   "cell_type": "code",
   "execution_count": 12,
   "metadata": {},
   "outputs": [
    {
     "data": {
      "text/html": [
       "<div>\n",
       "<style scoped>\n",
       "    .dataframe tbody tr th:only-of-type {\n",
       "        vertical-align: middle;\n",
       "    }\n",
       "\n",
       "    .dataframe tbody tr th {\n",
       "        vertical-align: top;\n",
       "    }\n",
       "\n",
       "    .dataframe thead th {\n",
       "        text-align: right;\n",
       "    }\n",
       "</style>\n",
       "<table border=\"1\" class=\"dataframe\">\n",
       "  <thead>\n",
       "    <tr style=\"text-align: right;\">\n",
       "      <th></th>\n",
       "      <th>POSSIBLELOANDEFAULT</th>\n",
       "    </tr>\n",
       "  </thead>\n",
       "  <tbody>\n",
       "    <tr>\n",
       "      <th>1552</th>\n",
       "      <td>0</td>\n",
       "    </tr>\n",
       "    <tr>\n",
       "      <th>2290</th>\n",
       "      <td>1</td>\n",
       "    </tr>\n",
       "    <tr>\n",
       "      <th>1398</th>\n",
       "      <td>0</td>\n",
       "    </tr>\n",
       "    <tr>\n",
       "      <th>1775</th>\n",
       "      <td>0</td>\n",
       "    </tr>\n",
       "    <tr>\n",
       "      <th>2299</th>\n",
       "      <td>0</td>\n",
       "    </tr>\n",
       "    <tr>\n",
       "      <th>...</th>\n",
       "      <td>...</td>\n",
       "    </tr>\n",
       "    <tr>\n",
       "      <th>1638</th>\n",
       "      <td>0</td>\n",
       "    </tr>\n",
       "    <tr>\n",
       "      <th>1095</th>\n",
       "      <td>0</td>\n",
       "    </tr>\n",
       "    <tr>\n",
       "      <th>1130</th>\n",
       "      <td>0</td>\n",
       "    </tr>\n",
       "    <tr>\n",
       "      <th>1294</th>\n",
       "      <td>0</td>\n",
       "    </tr>\n",
       "    <tr>\n",
       "      <th>860</th>\n",
       "      <td>0</td>\n",
       "    </tr>\n",
       "  </tbody>\n",
       "</table>\n",
       "<p>1750 rows × 1 columns</p>\n",
       "</div>"
      ],
      "text/plain": [
       "      POSSIBLELOANDEFAULT\n",
       "1552                    0\n",
       "2290                    1\n",
       "1398                    0\n",
       "1775                    0\n",
       "2299                    0\n",
       "...                   ...\n",
       "1638                    0\n",
       "1095                    0\n",
       "1130                    0\n",
       "1294                    0\n",
       "860                     0\n",
       "\n",
       "[1750 rows x 1 columns]"
      ]
     },
     "execution_count": 12,
     "metadata": {},
     "output_type": "execute_result"
    }
   ],
   "source": [
    "new_col(train_inputs)"
   ]
  },
  {
   "cell_type": "markdown",
   "metadata": {},
   "source": [
    "### NUMERICAL AND CATEGORICAL COLUMNS"
   ]
  },
  {
   "cell_type": "code",
   "execution_count": 13,
   "metadata": {},
   "outputs": [
    {
     "data": {
      "text/plain": [
       "LOAN         int64\n",
       "MORTDUE    float64\n",
       "VALUE      float64\n",
       "REASON      object\n",
       "JOB         object\n",
       "YOJ        float64\n",
       "DEROG      float64\n",
       "DELINQ     float64\n",
       "CLAGE      float64\n",
       "NINQ       float64\n",
       "CLNO       float64\n",
       "DEBTINC    float64\n",
       "dtype: object"
      ]
     },
     "execution_count": 13,
     "metadata": {},
     "output_type": "execute_result"
    }
   ],
   "source": [
    "train_inputs.dtypes"
   ]
  },
  {
   "cell_type": "code",
   "execution_count": 14,
   "metadata": {},
   "outputs": [],
   "source": [
    "# Identify the numerical columns\n",
    "numeric_columns = train_inputs.select_dtypes(include=[np.number]).columns.to_list()\n",
    "\n",
    "# Identify the categorical columns\n",
    "categorical_columns = train_inputs.select_dtypes('object').columns.to_list()"
   ]
  },
  {
   "cell_type": "code",
   "execution_count": 15,
   "metadata": {},
   "outputs": [],
   "source": [
    "transformed_columns = ['DEBTINC']"
   ]
  },
  {
   "cell_type": "code",
   "execution_count": 16,
   "metadata": {},
   "outputs": [
    {
     "data": {
      "text/plain": [
       "['LOAN',\n",
       " 'MORTDUE',\n",
       " 'VALUE',\n",
       " 'YOJ',\n",
       " 'DEROG',\n",
       " 'DELINQ',\n",
       " 'CLAGE',\n",
       " 'NINQ',\n",
       " 'CLNO',\n",
       " 'DEBTINC']"
      ]
     },
     "execution_count": 16,
     "metadata": {},
     "output_type": "execute_result"
    }
   ],
   "source": [
    "numeric_columns"
   ]
  },
  {
   "cell_type": "code",
   "execution_count": 17,
   "metadata": {},
   "outputs": [
    {
     "data": {
      "text/plain": [
       "['REASON', 'JOB']"
      ]
     },
     "execution_count": 17,
     "metadata": {},
     "output_type": "execute_result"
    }
   ],
   "source": [
    "categorical_columns"
   ]
  },
  {
   "cell_type": "markdown",
   "metadata": {},
   "source": [
    "### PIPELINE"
   ]
  },
  {
   "cell_type": "code",
   "execution_count": 18,
   "metadata": {},
   "outputs": [],
   "source": [
    "numeric_transformer = Pipeline(steps=[\n",
    "                ('imputer', SimpleImputer(strategy='median')),\n",
    "                ('scaler', StandardScaler())])"
   ]
  },
  {
   "cell_type": "code",
   "execution_count": 19,
   "metadata": {},
   "outputs": [],
   "source": [
    "categorical_transformer = Pipeline(steps=[\n",
    "    ('imputer', SimpleImputer(strategy='constant', fill_value='unknown')),\n",
    "    ('onehot', OneHotEncoder(handle_unknown='ignore'))])"
   ]
  },
  {
   "cell_type": "code",
   "execution_count": 20,
   "metadata": {},
   "outputs": [],
   "source": [
    "##binary_transformer = Pipeline(steps=[\n",
    "##    ('imputer', SimpleImputer(strategy='most_frequent'))])"
   ]
  },
  {
   "cell_type": "code",
   "execution_count": 21,
   "metadata": {},
   "outputs": [],
   "source": [
    "my_new_column = Pipeline(steps=[('my_new_column', FunctionTransformer(new_col)),\n",
    "                               ('imputer', SimpleImputer(strategy='constant')),\n",
    "                               ('onehot', OneHotEncoder(handle_unknown='ignore'))])"
   ]
  },
  {
   "cell_type": "code",
   "execution_count": 22,
   "metadata": {},
   "outputs": [],
   "source": [
    "preprocessor = ColumnTransformer([\n",
    "        ('num', numeric_transformer, numeric_columns),\n",
    "        ('cat', categorical_transformer, categorical_columns),\n",
    "       # ('binary', binary_transformer, binary_columns),\n",
    "        ('trans', my_new_column, transformed_columns)],\n",
    "        remainder='passthrough')"
   ]
  },
  {
   "cell_type": "code",
   "execution_count": 23,
   "metadata": {},
   "outputs": [
    {
     "data": {
      "text/plain": [
       "array([[-0.31412013, -1.30301181, -0.86148829, ...,  0.        ,\n",
       "         1.        ,  0.        ],\n",
       "       [ 0.45733454,  0.7398414 ,  0.58636192, ...,  0.        ,\n",
       "         0.        ,  1.        ],\n",
       "       [-1.10330939,  0.2001631 ,  0.18146318, ...,  0.        ,\n",
       "         1.        ,  0.        ],\n",
       "       ...,\n",
       "       [-0.21657988, -0.83000156, -0.82081329, ...,  0.        ,\n",
       "         1.        ,  0.        ],\n",
       "       [-0.46486414,  1.79196675,  1.36974799, ...,  0.        ,\n",
       "         1.        ,  0.        ],\n",
       "       [-0.31412013, -0.08740643, -0.21782887, ...,  0.        ,\n",
       "         1.        ,  0.        ]])"
      ]
     },
     "execution_count": 23,
     "metadata": {},
     "output_type": "execute_result"
    }
   ],
   "source": [
    "#Fit and transform the train data\n",
    "train_x = preprocessor.fit_transform(train_inputs)\n",
    "\n",
    "train_x"
   ]
  },
  {
   "cell_type": "code",
   "execution_count": 24,
   "metadata": {},
   "outputs": [
    {
     "data": {
      "text/plain": [
       "(1750, 22)"
      ]
     },
     "execution_count": 24,
     "metadata": {},
     "output_type": "execute_result"
    }
   ],
   "source": [
    "train_x.shape"
   ]
  },
  {
   "cell_type": "code",
   "execution_count": 25,
   "metadata": {},
   "outputs": [
    {
     "data": {
      "text/plain": [
       "array([[ 0.06717356,  0.36706438,  0.32127798, ...,  0.        ,\n",
       "         1.        ,  0.        ],\n",
       "       [ 0.32432512,  0.57631513,  0.42769944, ...,  0.        ,\n",
       "         1.        ,  0.        ],\n",
       "       [-0.33185472,  0.41209537,  0.12227549, ...,  0.        ,\n",
       "         1.        ,  0.        ],\n",
       "       ...,\n",
       "       [-0.8993616 , -0.51071616, -0.32326299, ...,  0.        ,\n",
       "         1.        ,  0.        ],\n",
       "       [-0.5446698 , -0.82706576, -0.8366813 , ...,  0.        ,\n",
       "         1.        ,  0.        ],\n",
       "       [-0.5446698 , -0.06422056, -0.11380525, ...,  0.        ,\n",
       "         1.        ,  0.        ]])"
      ]
     },
     "execution_count": 25,
     "metadata": {},
     "output_type": "execute_result"
    }
   ],
   "source": [
    "# Transform the test data\n",
    "test_x = preprocessor.transform(test_inputs)\n",
    "\n",
    "test_x"
   ]
  },
  {
   "cell_type": "code",
   "execution_count": 26,
   "metadata": {},
   "outputs": [
    {
     "data": {
      "text/plain": [
       "(750, 22)"
      ]
     },
     "execution_count": 26,
     "metadata": {},
     "output_type": "execute_result"
    }
   ],
   "source": [
    "test_x.shape"
   ]
  },
  {
   "cell_type": "markdown",
   "metadata": {},
   "source": [
    "# Baseline:"
   ]
  },
  {
   "cell_type": "code",
   "execution_count": 27,
   "metadata": {},
   "outputs": [
    {
     "data": {
      "text/plain": [
       "0    0.603429\n",
       "1    0.396571\n",
       "Name: BAD, dtype: float64"
      ]
     },
     "execution_count": 27,
     "metadata": {},
     "output_type": "execute_result"
    }
   ],
   "source": [
    "train_y.value_counts()/len(train_y)"
   ]
  },
  {
   "cell_type": "markdown",
   "metadata": {},
   "source": [
    "## Neural Network Model 1"
   ]
  },
  {
   "cell_type": "code",
   "execution_count": 28,
   "metadata": {},
   "outputs": [
    {
     "name": "stderr",
     "output_type": "stream",
     "text": [
      "C:\\Users\\anush\\anaconda3\\lib\\site-packages\\sklearn\\neural_network\\_multilayer_perceptron.py:614: ConvergenceWarning: Stochastic Optimizer: Maximum iterations (200) reached and the optimization hasn't converged yet.\n",
      "  warnings.warn(\n"
     ]
    },
    {
     "data": {
      "text/plain": [
       "MLPClassifier()"
      ]
     },
     "execution_count": 28,
     "metadata": {},
     "output_type": "execute_result"
    }
   ],
   "source": [
    "from sklearn.neural_network import MLPClassifier\n",
    "\n",
    "#Default settings create 1 hidden layer with 100 neurons\n",
    "mlp_clf = MLPClassifier(hidden_layer_sizes=(100,))\n",
    "\n",
    "mlp_clf.fit(train_x, train_y)"
   ]
  },
  {
   "cell_type": "markdown",
   "metadata": {},
   "source": [
    "### Accuracy"
   ]
  },
  {
   "cell_type": "code",
   "execution_count": 29,
   "metadata": {},
   "outputs": [],
   "source": [
    "from sklearn.metrics import accuracy_score"
   ]
  },
  {
   "cell_type": "code",
   "execution_count": 30,
   "metadata": {},
   "outputs": [
    {
     "data": {
      "text/plain": [
       "0.904"
      ]
     },
     "execution_count": 30,
     "metadata": {},
     "output_type": "execute_result"
    }
   ],
   "source": [
    "#Predict the train values\n",
    "train_y_pred = mlp_clf.predict(train_x)\n",
    "\n",
    "#Train accuracy\n",
    "accuracy_score(train_y, train_y_pred)"
   ]
  },
  {
   "cell_type": "code",
   "execution_count": 31,
   "metadata": {},
   "outputs": [
    {
     "data": {
      "text/plain": [
       "0.8266666666666667"
      ]
     },
     "execution_count": 31,
     "metadata": {},
     "output_type": "execute_result"
    }
   ],
   "source": [
    "#Predict the test values\n",
    "test_y_pred = mlp_clf.predict(test_x)\n",
    "\n",
    "#Test accuracy\n",
    "accuracy_score(test_y, test_y_pred)"
   ]
  },
  {
   "cell_type": "code",
   "execution_count": 32,
   "metadata": {},
   "outputs": [
    {
     "data": {
      "text/plain": [
       "array([[389,  44],\n",
       "       [ 86, 231]], dtype=int64)"
      ]
     },
     "execution_count": 32,
     "metadata": {},
     "output_type": "execute_result"
    }
   ],
   "source": [
    "from sklearn.metrics import confusion_matrix\n",
    "\n",
    "#We usually create the confusion matrix on test set\n",
    "confusion_matrix(test_y, test_y_pred)"
   ]
  },
  {
   "cell_type": "markdown",
   "metadata": {},
   "source": [
    "### Confusion matrix "
   ]
  },
  {
   "cell_type": "code",
   "execution_count": 33,
   "metadata": {},
   "outputs": [
    {
     "data": {
      "text/plain": [
       "array([[389,  44],\n",
       "       [ 86, 231]], dtype=int64)"
      ]
     },
     "execution_count": 33,
     "metadata": {},
     "output_type": "execute_result"
    }
   ],
   "source": [
    "from sklearn.metrics import confusion_matrix\n",
    "\n",
    "#We usually create the confusion matrix on test set\n",
    "confusion_matrix(test_y, test_y_pred)"
   ]
  },
  {
   "cell_type": "markdown",
   "metadata": {},
   "source": [
    "## Neural network model with increased number of iterations "
   ]
  },
  {
   "cell_type": "code",
   "execution_count": 86,
   "metadata": {},
   "outputs": [
    {
     "name": "stdout",
     "output_type": "stream",
     "text": [
      "Iteration 1, loss = 0.65813764\n",
      "Iteration 2, loss = 0.60860478\n",
      "Iteration 3, loss = 0.57541424\n",
      "Iteration 4, loss = 0.55225427\n",
      "Iteration 5, loss = 0.53481339\n",
      "Iteration 6, loss = 0.52314222\n",
      "Iteration 7, loss = 0.51372145\n",
      "Iteration 8, loss = 0.50672616\n",
      "Iteration 9, loss = 0.50129945\n",
      "Iteration 10, loss = 0.49651382\n",
      "Iteration 11, loss = 0.49273192\n",
      "Iteration 12, loss = 0.48957257\n",
      "Iteration 13, loss = 0.48665863\n",
      "Iteration 14, loss = 0.48413141\n",
      "Iteration 15, loss = 0.48168363\n",
      "Iteration 16, loss = 0.47907529\n",
      "Iteration 17, loss = 0.47696315\n",
      "Iteration 18, loss = 0.47474654\n",
      "Iteration 19, loss = 0.47277727\n",
      "Iteration 20, loss = 0.47097024\n",
      "Iteration 21, loss = 0.46902391\n",
      "Iteration 22, loss = 0.46705144\n",
      "Iteration 23, loss = 0.46547975\n",
      "Iteration 24, loss = 0.46359646\n",
      "Iteration 25, loss = 0.46198494\n",
      "Iteration 26, loss = 0.46030934\n",
      "Iteration 27, loss = 0.45879779\n",
      "Iteration 28, loss = 0.45694327\n",
      "Iteration 29, loss = 0.45555597\n",
      "Iteration 30, loss = 0.45393775\n",
      "Iteration 31, loss = 0.45224774\n",
      "Iteration 32, loss = 0.45071380\n",
      "Iteration 33, loss = 0.44957991\n",
      "Iteration 34, loss = 0.44782543\n",
      "Iteration 35, loss = 0.44665024\n",
      "Iteration 36, loss = 0.44518460\n",
      "Iteration 37, loss = 0.44328803\n",
      "Iteration 38, loss = 0.44199825\n",
      "Iteration 39, loss = 0.44064100\n",
      "Iteration 40, loss = 0.43939217\n",
      "Iteration 41, loss = 0.43789506\n",
      "Iteration 42, loss = 0.43681078\n",
      "Iteration 43, loss = 0.43490664\n",
      "Iteration 44, loss = 0.43381975\n",
      "Iteration 45, loss = 0.43266664\n",
      "Iteration 46, loss = 0.43124017\n",
      "Iteration 47, loss = 0.42963197\n",
      "Iteration 48, loss = 0.42842612\n",
      "Iteration 49, loss = 0.42736760\n",
      "Iteration 50, loss = 0.42574537\n",
      "Iteration 51, loss = 0.42456893\n",
      "Iteration 52, loss = 0.42365612\n",
      "Iteration 53, loss = 0.42209591\n",
      "Iteration 54, loss = 0.42091524\n",
      "Iteration 55, loss = 0.41961224\n",
      "Iteration 56, loss = 0.41861782\n",
      "Iteration 57, loss = 0.41730873\n",
      "Iteration 58, loss = 0.41623414\n",
      "Iteration 59, loss = 0.41503792\n",
      "Iteration 60, loss = 0.41362708\n",
      "Iteration 61, loss = 0.41243198\n",
      "Iteration 62, loss = 0.41141919\n",
      "Iteration 63, loss = 0.41062040\n",
      "Iteration 64, loss = 0.40882583\n",
      "Iteration 65, loss = 0.40775811\n",
      "Iteration 66, loss = 0.40759563\n",
      "Iteration 67, loss = 0.40609443\n",
      "Iteration 68, loss = 0.40470859\n",
      "Iteration 69, loss = 0.40365274\n",
      "Iteration 70, loss = 0.40262954\n",
      "Iteration 71, loss = 0.40232237\n",
      "Iteration 72, loss = 0.39968921\n",
      "Iteration 73, loss = 0.39866986\n",
      "Iteration 74, loss = 0.39759196\n",
      "Iteration 75, loss = 0.39666360\n",
      "Iteration 76, loss = 0.39565961\n",
      "Iteration 77, loss = 0.39451947\n",
      "Iteration 78, loss = 0.39339641\n",
      "Iteration 79, loss = 0.39267830\n",
      "Iteration 80, loss = 0.39116866\n",
      "Iteration 81, loss = 0.38992048\n",
      "Iteration 82, loss = 0.38867458\n",
      "Iteration 83, loss = 0.38765622\n",
      "Iteration 84, loss = 0.38680732\n",
      "Iteration 85, loss = 0.38545289\n",
      "Iteration 86, loss = 0.38452564\n",
      "Iteration 87, loss = 0.38346820\n",
      "Iteration 88, loss = 0.38242967\n",
      "Iteration 89, loss = 0.38215095\n",
      "Iteration 90, loss = 0.38086184\n",
      "Iteration 91, loss = 0.37900520\n",
      "Iteration 92, loss = 0.37799444\n",
      "Iteration 93, loss = 0.37727615\n",
      "Iteration 94, loss = 0.37632132\n",
      "Iteration 95, loss = 0.37513436\n",
      "Iteration 96, loss = 0.37321617\n",
      "Iteration 97, loss = 0.37308049\n",
      "Iteration 98, loss = 0.37201097\n",
      "Iteration 99, loss = 0.37070600\n",
      "Iteration 100, loss = 0.36959763\n",
      "Iteration 101, loss = 0.36921299\n",
      "Iteration 102, loss = 0.36728418\n",
      "Iteration 103, loss = 0.36658915\n",
      "Iteration 104, loss = 0.36510307\n",
      "Iteration 105, loss = 0.36388092\n",
      "Iteration 106, loss = 0.36305231\n",
      "Iteration 107, loss = 0.36207599\n",
      "Iteration 108, loss = 0.36105165\n",
      "Iteration 109, loss = 0.36008548\n",
      "Iteration 110, loss = 0.35899157\n",
      "Iteration 111, loss = 0.35827913\n",
      "Iteration 112, loss = 0.35759678\n",
      "Iteration 113, loss = 0.35598909\n",
      "Iteration 114, loss = 0.35494151\n",
      "Iteration 115, loss = 0.35409025\n",
      "Iteration 116, loss = 0.35276112\n",
      "Iteration 117, loss = 0.35264228\n",
      "Iteration 118, loss = 0.35102312\n",
      "Iteration 119, loss = 0.35005520\n",
      "Iteration 120, loss = 0.34860703\n",
      "Iteration 121, loss = 0.34794771\n",
      "Iteration 122, loss = 0.34717510\n",
      "Iteration 123, loss = 0.34638300\n",
      "Iteration 124, loss = 0.34521686\n",
      "Iteration 125, loss = 0.34404931\n",
      "Iteration 126, loss = 0.34310945\n",
      "Iteration 127, loss = 0.34188547\n",
      "Iteration 128, loss = 0.34138289\n",
      "Iteration 129, loss = 0.33981542\n",
      "Iteration 130, loss = 0.33902439\n",
      "Iteration 131, loss = 0.33854684\n",
      "Iteration 132, loss = 0.33725899\n",
      "Iteration 133, loss = 0.33688092\n",
      "Iteration 134, loss = 0.33569904\n",
      "Iteration 135, loss = 0.33497737\n",
      "Iteration 136, loss = 0.33360299\n",
      "Iteration 137, loss = 0.33238491\n",
      "Iteration 138, loss = 0.33125753\n",
      "Iteration 139, loss = 0.33056220\n",
      "Iteration 140, loss = 0.33034654\n",
      "Iteration 141, loss = 0.32949219\n",
      "Iteration 142, loss = 0.32857447\n",
      "Iteration 143, loss = 0.32687322\n",
      "Iteration 144, loss = 0.32742981\n",
      "Iteration 145, loss = 0.32562776\n",
      "Iteration 146, loss = 0.32432460\n",
      "Iteration 147, loss = 0.32365409\n",
      "Iteration 148, loss = 0.32265257\n",
      "Iteration 149, loss = 0.32121857\n",
      "Iteration 150, loss = 0.32112621\n",
      "Iteration 151, loss = 0.31935013\n",
      "Iteration 152, loss = 0.31956274\n",
      "Iteration 153, loss = 0.31861235\n",
      "Iteration 154, loss = 0.31723608\n",
      "Iteration 155, loss = 0.31692865\n",
      "Iteration 156, loss = 0.31554001\n",
      "Iteration 157, loss = 0.31470648\n",
      "Iteration 158, loss = 0.31482408\n",
      "Iteration 159, loss = 0.31378675\n",
      "Iteration 160, loss = 0.31195067\n",
      "Iteration 161, loss = 0.31180817\n",
      "Iteration 162, loss = 0.31027350\n",
      "Iteration 163, loss = 0.31006531\n",
      "Iteration 164, loss = 0.30867295\n",
      "Iteration 165, loss = 0.30811804\n",
      "Iteration 166, loss = 0.30722866\n",
      "Iteration 167, loss = 0.30679293\n",
      "Iteration 168, loss = 0.30592987\n",
      "Iteration 169, loss = 0.30533510\n",
      "Iteration 170, loss = 0.30479162\n",
      "Iteration 171, loss = 0.30292788\n",
      "Iteration 172, loss = 0.30347455\n",
      "Iteration 173, loss = 0.30302185\n",
      "Iteration 174, loss = 0.30105173\n",
      "Iteration 175, loss = 0.30044219\n",
      "Iteration 176, loss = 0.29959991\n",
      "Iteration 177, loss = 0.29877763\n",
      "Iteration 178, loss = 0.29794307\n",
      "Iteration 179, loss = 0.29716473\n",
      "Iteration 180, loss = 0.29692440\n",
      "Iteration 181, loss = 0.29671366\n",
      "Iteration 182, loss = 0.29523368\n",
      "Iteration 183, loss = 0.29514571\n",
      "Iteration 184, loss = 0.29311637\n",
      "Iteration 185, loss = 0.29293864\n",
      "Iteration 186, loss = 0.29259863\n",
      "Iteration 187, loss = 0.29192223\n",
      "Iteration 188, loss = 0.29102064\n",
      "Iteration 189, loss = 0.29005735\n",
      "Iteration 190, loss = 0.28962822\n",
      "Iteration 191, loss = 0.28839747\n",
      "Iteration 192, loss = 0.28854514\n",
      "Iteration 193, loss = 0.28699709\n",
      "Iteration 194, loss = 0.28631070\n",
      "Iteration 195, loss = 0.28572759\n",
      "Iteration 196, loss = 0.28536990\n",
      "Iteration 197, loss = 0.28414016\n",
      "Iteration 198, loss = 0.28372562\n",
      "Iteration 199, loss = 0.28313859\n",
      "Iteration 200, loss = 0.28217381\n",
      "Iteration 201, loss = 0.28160731\n",
      "Iteration 202, loss = 0.28126282\n",
      "Iteration 203, loss = 0.28067359\n",
      "Iteration 204, loss = 0.28008754\n",
      "Iteration 205, loss = 0.27904103\n",
      "Iteration 206, loss = 0.27871999\n",
      "Iteration 207, loss = 0.27780305\n",
      "Iteration 208, loss = 0.27720461\n",
      "Iteration 209, loss = 0.27651793\n",
      "Iteration 210, loss = 0.27568578\n",
      "Iteration 211, loss = 0.27532381\n",
      "Iteration 212, loss = 0.27468142\n",
      "Iteration 213, loss = 0.27413373\n",
      "Iteration 214, loss = 0.27337549\n",
      "Iteration 215, loss = 0.27283290\n",
      "Iteration 216, loss = 0.27201407\n",
      "Iteration 217, loss = 0.27138969\n",
      "Iteration 218, loss = 0.27087485\n",
      "Iteration 219, loss = 0.27015940\n",
      "Iteration 220, loss = 0.26937141\n",
      "Iteration 221, loss = 0.26886989\n",
      "Iteration 222, loss = 0.26944187\n",
      "Iteration 223, loss = 0.26790225\n",
      "Iteration 224, loss = 0.26711198\n",
      "Iteration 225, loss = 0.26702419\n",
      "Iteration 226, loss = 0.26618718\n",
      "Iteration 227, loss = 0.26547250\n",
      "Iteration 228, loss = 0.26460847\n",
      "Iteration 229, loss = 0.26446187\n",
      "Iteration 230, loss = 0.26375694\n",
      "Iteration 231, loss = 0.26370172\n",
      "Iteration 232, loss = 0.26410828\n",
      "Iteration 233, loss = 0.26251976\n",
      "Iteration 234, loss = 0.26224839\n",
      "Iteration 235, loss = 0.26052014\n",
      "Iteration 236, loss = 0.26048697\n",
      "Iteration 237, loss = 0.26017104\n",
      "Iteration 238, loss = 0.25938356\n",
      "Iteration 239, loss = 0.25816425\n",
      "Iteration 240, loss = 0.25831798\n",
      "Iteration 241, loss = 0.25713670\n",
      "Iteration 242, loss = 0.25716031\n",
      "Iteration 243, loss = 0.25619801\n",
      "Iteration 244, loss = 0.25585391\n",
      "Iteration 245, loss = 0.25519854\n",
      "Iteration 246, loss = 0.25532213\n",
      "Iteration 247, loss = 0.25429695\n",
      "Iteration 248, loss = 0.25344211\n",
      "Iteration 249, loss = 0.25326880\n",
      "Iteration 250, loss = 0.25335679\n",
      "Iteration 251, loss = 0.25164868\n",
      "Iteration 252, loss = 0.25190391\n"
     ]
    },
    {
     "name": "stdout",
     "output_type": "stream",
     "text": [
      "Iteration 253, loss = 0.25135272\n",
      "Iteration 254, loss = 0.25067364\n",
      "Iteration 255, loss = 0.25076786\n",
      "Iteration 256, loss = 0.24917777\n",
      "Iteration 257, loss = 0.24945153\n",
      "Iteration 258, loss = 0.24904205\n",
      "Iteration 259, loss = 0.24787434\n",
      "Iteration 260, loss = 0.24747099\n",
      "Iteration 261, loss = 0.24721176\n",
      "Iteration 262, loss = 0.24609876\n",
      "Iteration 263, loss = 0.24579120\n",
      "Iteration 264, loss = 0.24602880\n",
      "Iteration 265, loss = 0.24454835\n",
      "Iteration 266, loss = 0.24443059\n",
      "Iteration 267, loss = 0.24432072\n",
      "Iteration 268, loss = 0.24361802\n",
      "Iteration 269, loss = 0.24298441\n",
      "Iteration 270, loss = 0.24278040\n",
      "Iteration 271, loss = 0.24211519\n",
      "Iteration 272, loss = 0.24218271\n",
      "Iteration 273, loss = 0.24069849\n",
      "Iteration 274, loss = 0.24079458\n",
      "Iteration 275, loss = 0.23970749\n",
      "Iteration 276, loss = 0.23997501\n",
      "Iteration 277, loss = 0.23876472\n",
      "Iteration 278, loss = 0.23848632\n",
      "Iteration 279, loss = 0.23783450\n",
      "Iteration 280, loss = 0.23734617\n",
      "Iteration 281, loss = 0.23767429\n",
      "Iteration 282, loss = 0.23657343\n",
      "Iteration 283, loss = 0.23643469\n",
      "Iteration 284, loss = 0.23598024\n",
      "Iteration 285, loss = 0.23529564\n",
      "Iteration 286, loss = 0.23474830\n",
      "Iteration 287, loss = 0.23463902\n",
      "Iteration 288, loss = 0.23340059\n",
      "Iteration 289, loss = 0.23361923\n",
      "Iteration 290, loss = 0.23309017\n",
      "Iteration 291, loss = 0.23236023\n",
      "Iteration 292, loss = 0.23193502\n",
      "Iteration 293, loss = 0.23149229\n",
      "Iteration 294, loss = 0.23121112\n",
      "Iteration 295, loss = 0.23101471\n",
      "Iteration 296, loss = 0.23017807\n",
      "Iteration 297, loss = 0.23056465\n",
      "Iteration 298, loss = 0.23019572\n",
      "Iteration 299, loss = 0.22909039\n",
      "Iteration 300, loss = 0.22862758\n",
      "Iteration 301, loss = 0.22843505\n",
      "Iteration 302, loss = 0.22805719\n",
      "Iteration 303, loss = 0.22722246\n",
      "Iteration 304, loss = 0.22640057\n",
      "Iteration 305, loss = 0.22649656\n",
      "Iteration 306, loss = 0.22611752\n",
      "Iteration 307, loss = 0.22575728\n",
      "Iteration 308, loss = 0.22439400\n",
      "Iteration 309, loss = 0.22524012\n",
      "Iteration 310, loss = 0.22424914\n",
      "Iteration 311, loss = 0.22349419\n",
      "Iteration 312, loss = 0.22393106\n",
      "Iteration 313, loss = 0.22359715\n",
      "Iteration 314, loss = 0.22272365\n",
      "Iteration 315, loss = 0.22204534\n",
      "Iteration 316, loss = 0.22164444\n",
      "Iteration 317, loss = 0.22188390\n",
      "Iteration 318, loss = 0.22107471\n",
      "Iteration 319, loss = 0.22040218\n",
      "Iteration 320, loss = 0.21993801\n",
      "Iteration 321, loss = 0.21997900\n",
      "Iteration 322, loss = 0.21960648\n",
      "Iteration 323, loss = 0.21896838\n",
      "Iteration 324, loss = 0.21868372\n",
      "Iteration 325, loss = 0.21815306\n",
      "Iteration 326, loss = 0.21780923\n",
      "Iteration 327, loss = 0.21780443\n",
      "Iteration 328, loss = 0.21748890\n",
      "Iteration 329, loss = 0.21640398\n",
      "Iteration 330, loss = 0.21656667\n",
      "Iteration 331, loss = 0.21705888\n",
      "Iteration 332, loss = 0.21636404\n",
      "Iteration 333, loss = 0.21557099\n",
      "Iteration 334, loss = 0.21492991\n",
      "Iteration 335, loss = 0.21419823\n",
      "Iteration 336, loss = 0.21410520\n",
      "Iteration 337, loss = 0.21391527\n",
      "Iteration 338, loss = 0.21333803\n",
      "Iteration 339, loss = 0.21310896\n",
      "Iteration 340, loss = 0.21260870\n",
      "Iteration 341, loss = 0.21238531\n",
      "Iteration 342, loss = 0.21241044\n",
      "Iteration 343, loss = 0.21197403\n",
      "Iteration 344, loss = 0.21225178\n",
      "Iteration 345, loss = 0.21171885\n",
      "Iteration 346, loss = 0.21117157\n",
      "Iteration 347, loss = 0.20991992\n",
      "Iteration 348, loss = 0.21051897\n",
      "Iteration 349, loss = 0.20991909\n",
      "Iteration 350, loss = 0.20915392\n",
      "Iteration 351, loss = 0.20996379\n",
      "Iteration 352, loss = 0.20864527\n",
      "Iteration 353, loss = 0.20892860\n",
      "Iteration 354, loss = 0.20961411\n",
      "Iteration 355, loss = 0.20823357\n",
      "Iteration 356, loss = 0.20728136\n",
      "Iteration 357, loss = 0.20727780\n",
      "Iteration 358, loss = 0.20729151\n",
      "Iteration 359, loss = 0.20554901\n",
      "Iteration 360, loss = 0.20695317\n",
      "Iteration 361, loss = 0.20580862\n",
      "Iteration 362, loss = 0.20561891\n",
      "Iteration 363, loss = 0.20439573\n",
      "Iteration 364, loss = 0.20476198\n",
      "Iteration 365, loss = 0.20450316\n",
      "Iteration 366, loss = 0.20440244\n",
      "Iteration 367, loss = 0.20402514\n",
      "Iteration 368, loss = 0.20363542\n",
      "Iteration 369, loss = 0.20308035\n",
      "Iteration 370, loss = 0.20281781\n",
      "Iteration 371, loss = 0.20360518\n",
      "Iteration 372, loss = 0.20434970\n",
      "Iteration 373, loss = 0.20167176\n",
      "Iteration 374, loss = 0.20145987\n",
      "Iteration 375, loss = 0.20256981\n",
      "Iteration 376, loss = 0.20086022\n",
      "Iteration 377, loss = 0.20032574\n",
      "Iteration 378, loss = 0.20050843\n",
      "Iteration 379, loss = 0.19982214\n",
      "Iteration 380, loss = 0.20025934\n",
      "Iteration 381, loss = 0.19963406\n",
      "Iteration 382, loss = 0.19912501\n",
      "Iteration 383, loss = 0.19943232\n",
      "Iteration 384, loss = 0.19823452\n",
      "Iteration 385, loss = 0.19814712\n",
      "Iteration 386, loss = 0.19760911\n",
      "Iteration 387, loss = 0.19722794\n",
      "Iteration 388, loss = 0.19747876\n",
      "Iteration 389, loss = 0.19746217\n",
      "Iteration 390, loss = 0.19672133\n",
      "Iteration 391, loss = 0.19688339\n",
      "Iteration 392, loss = 0.19633091\n",
      "Iteration 393, loss = 0.19653475\n",
      "Iteration 394, loss = 0.19618741\n",
      "Iteration 395, loss = 0.19544591\n",
      "Iteration 396, loss = 0.19446260\n",
      "Iteration 397, loss = 0.19453830\n",
      "Iteration 398, loss = 0.19485898\n",
      "Iteration 399, loss = 0.19417777\n",
      "Iteration 400, loss = 0.19318332\n",
      "Iteration 401, loss = 0.19400883\n",
      "Iteration 402, loss = 0.19302218\n",
      "Iteration 403, loss = 0.19276560\n",
      "Iteration 404, loss = 0.19291090\n",
      "Iteration 405, loss = 0.19210277\n",
      "Iteration 406, loss = 0.19170181\n",
      "Iteration 407, loss = 0.19258739\n",
      "Iteration 408, loss = 0.19249568\n",
      "Iteration 409, loss = 0.19124194\n",
      "Iteration 410, loss = 0.19102460\n",
      "Iteration 411, loss = 0.19100799\n",
      "Iteration 412, loss = 0.19129452\n",
      "Iteration 413, loss = 0.19102108\n",
      "Iteration 414, loss = 0.18999601\n",
      "Iteration 415, loss = 0.18960241\n",
      "Iteration 416, loss = 0.18907610\n",
      "Iteration 417, loss = 0.18873631\n",
      "Iteration 418, loss = 0.18904461\n",
      "Iteration 419, loss = 0.18890521\n",
      "Iteration 420, loss = 0.18753971\n",
      "Iteration 421, loss = 0.18812420\n",
      "Iteration 422, loss = 0.18757533\n",
      "Iteration 423, loss = 0.18719444\n",
      "Iteration 424, loss = 0.18686649\n",
      "Iteration 425, loss = 0.18738745\n",
      "Iteration 426, loss = 0.18717852\n",
      "Iteration 427, loss = 0.18639015\n",
      "Iteration 428, loss = 0.18627994\n",
      "Iteration 429, loss = 0.18599865\n",
      "Iteration 430, loss = 0.18560588\n",
      "Iteration 431, loss = 0.18514693\n",
      "Iteration 432, loss = 0.18461257\n",
      "Iteration 433, loss = 0.18467067\n",
      "Iteration 434, loss = 0.18409749\n",
      "Iteration 435, loss = 0.18411189\n",
      "Iteration 436, loss = 0.18352248\n",
      "Iteration 437, loss = 0.18333913\n",
      "Iteration 438, loss = 0.18354908\n",
      "Iteration 439, loss = 0.18350802\n",
      "Iteration 440, loss = 0.18269003\n",
      "Iteration 441, loss = 0.18279558\n",
      "Iteration 442, loss = 0.18268834\n",
      "Iteration 443, loss = 0.18223876\n",
      "Iteration 444, loss = 0.18207438\n",
      "Iteration 445, loss = 0.18162061\n",
      "Iteration 446, loss = 0.18145271\n",
      "Iteration 447, loss = 0.18129097\n",
      "Iteration 448, loss = 0.18106332\n",
      "Iteration 449, loss = 0.18079617\n",
      "Iteration 450, loss = 0.18046339\n",
      "Iteration 451, loss = 0.18061780\n",
      "Iteration 452, loss = 0.17979793\n",
      "Iteration 453, loss = 0.17976163\n",
      "Iteration 454, loss = 0.17950614\n",
      "Iteration 455, loss = 0.17984569\n",
      "Iteration 456, loss = 0.17906441\n",
      "Iteration 457, loss = 0.17978537\n",
      "Iteration 458, loss = 0.17964071\n",
      "Iteration 459, loss = 0.17829547\n",
      "Iteration 460, loss = 0.17847264\n",
      "Iteration 461, loss = 0.17903600\n",
      "Iteration 462, loss = 0.17789169\n",
      "Iteration 463, loss = 0.17789868\n",
      "Iteration 464, loss = 0.17728904\n",
      "Iteration 465, loss = 0.17816285\n",
      "Iteration 466, loss = 0.17925172\n",
      "Iteration 467, loss = 0.17724185\n",
      "Iteration 468, loss = 0.17924612\n",
      "Iteration 469, loss = 0.17664030\n",
      "Iteration 470, loss = 0.17656232\n",
      "Iteration 471, loss = 0.17576976\n",
      "Iteration 472, loss = 0.17562746\n",
      "Iteration 473, loss = 0.17539323\n",
      "Iteration 474, loss = 0.17498301\n",
      "Iteration 475, loss = 0.17501858\n",
      "Iteration 476, loss = 0.17454370\n",
      "Iteration 477, loss = 0.17446738\n",
      "Iteration 478, loss = 0.17442979\n",
      "Iteration 479, loss = 0.17432797\n",
      "Iteration 480, loss = 0.17381775\n",
      "Iteration 481, loss = 0.17461272\n",
      "Iteration 482, loss = 0.17361468\n",
      "Iteration 483, loss = 0.17366437\n",
      "Iteration 484, loss = 0.17318359\n",
      "Iteration 485, loss = 0.17268128\n",
      "Iteration 486, loss = 0.17245369\n",
      "Iteration 487, loss = 0.17212534\n",
      "Iteration 488, loss = 0.17215300\n",
      "Iteration 489, loss = 0.17165576\n",
      "Iteration 490, loss = 0.17213875\n",
      "Iteration 491, loss = 0.17143947\n",
      "Iteration 492, loss = 0.17124826\n",
      "Iteration 493, loss = 0.17151531\n",
      "Iteration 494, loss = 0.17194678\n",
      "Iteration 495, loss = 0.17076466\n",
      "Iteration 496, loss = 0.16997940\n",
      "Iteration 497, loss = 0.17004675\n",
      "Iteration 498, loss = 0.17013365\n",
      "Iteration 499, loss = 0.16957547\n",
      "Iteration 500, loss = 0.16993455\n",
      "Iteration 501, loss = 0.16998254\n",
      "Iteration 502, loss = 0.16958909\n",
      "Iteration 503, loss = 0.16830218\n",
      "Iteration 504, loss = 0.16888004\n",
      "Iteration 505, loss = 0.16866625\n",
      "Iteration 506, loss = 0.16815236\n",
      "Iteration 507, loss = 0.16819130\n",
      "Iteration 508, loss = 0.16787660\n",
      "Iteration 509, loss = 0.16790942\n",
      "Iteration 510, loss = 0.16810776\n",
      "Iteration 511, loss = 0.16761961\n",
      "Iteration 512, loss = 0.16707024\n",
      "Iteration 513, loss = 0.16647686\n",
      "Iteration 514, loss = 0.16701545\n",
      "Iteration 515, loss = 0.16639820\n",
      "Iteration 516, loss = 0.16655008\n",
      "Iteration 517, loss = 0.16570059\n"
     ]
    },
    {
     "name": "stdout",
     "output_type": "stream",
     "text": [
      "Iteration 518, loss = 0.16609852\n",
      "Iteration 519, loss = 0.16628323\n",
      "Iteration 520, loss = 0.16571339\n",
      "Iteration 521, loss = 0.16526406\n",
      "Iteration 522, loss = 0.16502328\n",
      "Iteration 523, loss = 0.16513845\n",
      "Iteration 524, loss = 0.16624188\n",
      "Iteration 525, loss = 0.16469720\n",
      "Iteration 526, loss = 0.16443596\n",
      "Iteration 527, loss = 0.16387075\n",
      "Iteration 528, loss = 0.16431061\n",
      "Iteration 529, loss = 0.16375982\n",
      "Iteration 530, loss = 0.16352848\n",
      "Iteration 531, loss = 0.16305653\n",
      "Iteration 532, loss = 0.16416279\n",
      "Iteration 533, loss = 0.16449601\n",
      "Iteration 534, loss = 0.16525431\n",
      "Iteration 535, loss = 0.16444369\n",
      "Iteration 536, loss = 0.16342603\n",
      "Iteration 537, loss = 0.16267822\n",
      "Iteration 538, loss = 0.16172202\n",
      "Iteration 539, loss = 0.16217689\n",
      "Iteration 540, loss = 0.16208042\n",
      "Iteration 541, loss = 0.16233733\n",
      "Iteration 542, loss = 0.16116479\n",
      "Iteration 543, loss = 0.16104727\n",
      "Iteration 544, loss = 0.16079427\n",
      "Iteration 545, loss = 0.16050131\n",
      "Iteration 546, loss = 0.16134209\n",
      "Iteration 547, loss = 0.16132886\n",
      "Iteration 548, loss = 0.16017438\n",
      "Iteration 549, loss = 0.16004031\n",
      "Iteration 550, loss = 0.15973037\n",
      "Iteration 551, loss = 0.15967882\n",
      "Iteration 552, loss = 0.15929420\n",
      "Iteration 553, loss = 0.15920306\n",
      "Iteration 554, loss = 0.15914299\n",
      "Iteration 555, loss = 0.15943512\n",
      "Iteration 556, loss = 0.15887160\n",
      "Iteration 557, loss = 0.15852795\n",
      "Iteration 558, loss = 0.15850512\n",
      "Iteration 559, loss = 0.15884919\n",
      "Iteration 560, loss = 0.15755711\n",
      "Iteration 561, loss = 0.15788741\n",
      "Iteration 562, loss = 0.15756321\n",
      "Iteration 563, loss = 0.15745395\n",
      "Iteration 564, loss = 0.15720328\n",
      "Iteration 565, loss = 0.15749292\n",
      "Iteration 566, loss = 0.15693946\n",
      "Iteration 567, loss = 0.15689813\n",
      "Iteration 568, loss = 0.15716189\n",
      "Iteration 569, loss = 0.15611726\n",
      "Iteration 570, loss = 0.15675623\n",
      "Iteration 571, loss = 0.15687420\n",
      "Iteration 572, loss = 0.15656868\n",
      "Iteration 573, loss = 0.15628780\n",
      "Iteration 574, loss = 0.15552348\n",
      "Iteration 575, loss = 0.15560058\n",
      "Iteration 576, loss = 0.15507010\n",
      "Iteration 577, loss = 0.15538562\n",
      "Iteration 578, loss = 0.15521877\n",
      "Iteration 579, loss = 0.15537403\n",
      "Iteration 580, loss = 0.15576793\n",
      "Iteration 581, loss = 0.15453735\n",
      "Iteration 582, loss = 0.15445529\n",
      "Iteration 583, loss = 0.15429813\n",
      "Iteration 584, loss = 0.15407898\n",
      "Iteration 585, loss = 0.15426261\n",
      "Iteration 586, loss = 0.15431092\n",
      "Iteration 587, loss = 0.15389737\n",
      "Iteration 588, loss = 0.15366814\n",
      "Iteration 589, loss = 0.15355264\n",
      "Iteration 590, loss = 0.15307053\n",
      "Iteration 591, loss = 0.15301423\n",
      "Iteration 592, loss = 0.15297510\n",
      "Iteration 593, loss = 0.15279842\n",
      "Iteration 594, loss = 0.15277012\n",
      "Iteration 595, loss = 0.15305823\n",
      "Iteration 596, loss = 0.15226519\n",
      "Iteration 597, loss = 0.15252837\n",
      "Iteration 598, loss = 0.15273982\n",
      "Iteration 599, loss = 0.15177276\n",
      "Iteration 600, loss = 0.15248154\n",
      "Iteration 601, loss = 0.15155889\n",
      "Iteration 602, loss = 0.15151560\n",
      "Iteration 603, loss = 0.15093989\n",
      "Iteration 604, loss = 0.15137996\n",
      "Iteration 605, loss = 0.15131860\n",
      "Iteration 606, loss = 0.15083520\n",
      "Iteration 607, loss = 0.15080608\n",
      "Iteration 608, loss = 0.15090347\n",
      "Iteration 609, loss = 0.15096743\n",
      "Iteration 610, loss = 0.15119308\n",
      "Iteration 611, loss = 0.15092118\n",
      "Iteration 612, loss = 0.15057277\n",
      "Iteration 613, loss = 0.15004065\n",
      "Iteration 614, loss = 0.15006792\n",
      "Iteration 615, loss = 0.15012889\n",
      "Iteration 616, loss = 0.15019894\n",
      "Iteration 617, loss = 0.14893516\n",
      "Iteration 618, loss = 0.14968417\n",
      "Iteration 619, loss = 0.14894615\n",
      "Iteration 620, loss = 0.14883312\n",
      "Iteration 621, loss = 0.14991716\n",
      "Iteration 622, loss = 0.14866947\n",
      "Iteration 623, loss = 0.14835543\n",
      "Iteration 624, loss = 0.14841134\n",
      "Iteration 625, loss = 0.14846944\n",
      "Iteration 626, loss = 0.14853168\n",
      "Iteration 627, loss = 0.14908123\n",
      "Iteration 628, loss = 0.14760126\n",
      "Iteration 629, loss = 0.14765386\n",
      "Iteration 630, loss = 0.14808053\n",
      "Iteration 631, loss = 0.14763207\n",
      "Iteration 632, loss = 0.14802849\n",
      "Iteration 633, loss = 0.14750461\n",
      "Iteration 634, loss = 0.14690705\n",
      "Iteration 635, loss = 0.14714455\n",
      "Iteration 636, loss = 0.14718087\n",
      "Iteration 637, loss = 0.14701652\n",
      "Iteration 638, loss = 0.14694821\n",
      "Iteration 639, loss = 0.14715798\n",
      "Iteration 640, loss = 0.14626142\n",
      "Iteration 641, loss = 0.14717596\n",
      "Iteration 642, loss = 0.14679707\n",
      "Iteration 643, loss = 0.14600557\n",
      "Iteration 644, loss = 0.14610304\n",
      "Iteration 645, loss = 0.14603838\n",
      "Iteration 646, loss = 0.14584967\n",
      "Iteration 647, loss = 0.14608291\n",
      "Iteration 648, loss = 0.14539993\n",
      "Iteration 649, loss = 0.14553506\n",
      "Iteration 650, loss = 0.14619918\n",
      "Iteration 651, loss = 0.14562934\n",
      "Iteration 652, loss = 0.14564703\n",
      "Iteration 653, loss = 0.14501715\n",
      "Iteration 654, loss = 0.14480593\n",
      "Iteration 655, loss = 0.14512960\n",
      "Iteration 656, loss = 0.14428386\n",
      "Iteration 657, loss = 0.14433623\n",
      "Iteration 658, loss = 0.14471327\n",
      "Iteration 659, loss = 0.14386153\n",
      "Iteration 660, loss = 0.14432769\n",
      "Iteration 661, loss = 0.14435185\n",
      "Iteration 662, loss = 0.14354488\n",
      "Iteration 663, loss = 0.14408797\n",
      "Iteration 664, loss = 0.14366032\n",
      "Iteration 665, loss = 0.14344620\n",
      "Iteration 666, loss = 0.14288771\n",
      "Iteration 667, loss = 0.14364320\n",
      "Iteration 668, loss = 0.14298531\n",
      "Iteration 669, loss = 0.14298254\n",
      "Iteration 670, loss = 0.14397886\n",
      "Iteration 671, loss = 0.14339203\n",
      "Iteration 672, loss = 0.14326294\n",
      "Iteration 673, loss = 0.14240208\n",
      "Iteration 674, loss = 0.14237590\n",
      "Iteration 675, loss = 0.14252720\n",
      "Iteration 676, loss = 0.14219611\n",
      "Iteration 677, loss = 0.14272565\n",
      "Iteration 678, loss = 0.14195370\n",
      "Iteration 679, loss = 0.14155479\n",
      "Iteration 680, loss = 0.14170221\n",
      "Iteration 681, loss = 0.14162965\n",
      "Iteration 682, loss = 0.14173378\n",
      "Iteration 683, loss = 0.14151781\n",
      "Iteration 684, loss = 0.14187098\n",
      "Iteration 685, loss = 0.14125788\n",
      "Iteration 686, loss = 0.14082279\n",
      "Iteration 687, loss = 0.14182632\n",
      "Iteration 688, loss = 0.14238545\n",
      "Iteration 689, loss = 0.14095183\n",
      "Iteration 690, loss = 0.14051897\n",
      "Iteration 691, loss = 0.14048126\n",
      "Iteration 692, loss = 0.14031644\n",
      "Iteration 693, loss = 0.14029593\n",
      "Iteration 694, loss = 0.14030469\n",
      "Iteration 695, loss = 0.13976555\n",
      "Iteration 696, loss = 0.13974851\n",
      "Iteration 697, loss = 0.13990562\n",
      "Iteration 698, loss = 0.13968390\n",
      "Iteration 699, loss = 0.13978826\n",
      "Iteration 700, loss = 0.13975654\n",
      "Iteration 701, loss = 0.13969606\n",
      "Iteration 702, loss = 0.13950698\n",
      "Iteration 703, loss = 0.13918325\n",
      "Iteration 704, loss = 0.13937636\n",
      "Iteration 705, loss = 0.13952181\n",
      "Iteration 706, loss = 0.14058286\n",
      "Iteration 707, loss = 0.13974776\n",
      "Iteration 708, loss = 0.14008210\n",
      "Iteration 709, loss = 0.14008516\n",
      "Iteration 710, loss = 0.13818529\n",
      "Iteration 711, loss = 0.13852782\n",
      "Iteration 712, loss = 0.13851597\n",
      "Iteration 713, loss = 0.13867437\n",
      "Iteration 714, loss = 0.13875963\n",
      "Iteration 715, loss = 0.13854190\n",
      "Iteration 716, loss = 0.13811695\n",
      "Iteration 717, loss = 0.13761524\n",
      "Iteration 718, loss = 0.13781245\n",
      "Iteration 719, loss = 0.13761403\n",
      "Iteration 720, loss = 0.13809844\n",
      "Iteration 721, loss = 0.13748358\n",
      "Iteration 722, loss = 0.13744922\n",
      "Iteration 723, loss = 0.13742052\n",
      "Iteration 724, loss = 0.13790324\n",
      "Iteration 725, loss = 0.13728979\n",
      "Iteration 726, loss = 0.13738620\n",
      "Iteration 727, loss = 0.13740621\n",
      "Iteration 728, loss = 0.13706125\n",
      "Iteration 729, loss = 0.13726681\n",
      "Iteration 730, loss = 0.13653715\n",
      "Iteration 731, loss = 0.13681166\n",
      "Iteration 732, loss = 0.13658633\n",
      "Iteration 733, loss = 0.13702090\n",
      "Iteration 734, loss = 0.13709395\n",
      "Iteration 735, loss = 0.13787505\n",
      "Iteration 736, loss = 0.13660984\n",
      "Iteration 737, loss = 0.13631698\n",
      "Iteration 738, loss = 0.13591130\n",
      "Iteration 739, loss = 0.13574516\n",
      "Iteration 740, loss = 0.13546933\n",
      "Iteration 741, loss = 0.13556917\n",
      "Iteration 742, loss = 0.13586464\n",
      "Iteration 743, loss = 0.13563199\n",
      "Iteration 744, loss = 0.13506921\n",
      "Iteration 745, loss = 0.13584662\n",
      "Iteration 746, loss = 0.13590092\n",
      "Iteration 747, loss = 0.13578568\n",
      "Iteration 748, loss = 0.13521891\n",
      "Iteration 749, loss = 0.13475513\n",
      "Iteration 750, loss = 0.13518464\n",
      "Iteration 751, loss = 0.13639842\n",
      "Iteration 752, loss = 0.13520644\n",
      "Iteration 753, loss = 0.13503087\n",
      "Iteration 754, loss = 0.13587713\n",
      "Iteration 755, loss = 0.13458369\n",
      "Iteration 756, loss = 0.13459102\n",
      "Iteration 757, loss = 0.13401662\n",
      "Iteration 758, loss = 0.13538734\n",
      "Iteration 759, loss = 0.13489917\n",
      "Iteration 760, loss = 0.13398035\n",
      "Iteration 761, loss = 0.13425220\n",
      "Iteration 762, loss = 0.13385754\n",
      "Iteration 763, loss = 0.13371893\n",
      "Iteration 764, loss = 0.13391149\n",
      "Iteration 765, loss = 0.13347821\n",
      "Iteration 766, loss = 0.13386569\n",
      "Iteration 767, loss = 0.13328547\n",
      "Iteration 768, loss = 0.13374616\n",
      "Iteration 769, loss = 0.13366394\n",
      "Iteration 770, loss = 0.13322554\n",
      "Iteration 771, loss = 0.13303064\n",
      "Iteration 772, loss = 0.13308841\n",
      "Iteration 773, loss = 0.13277283\n",
      "Iteration 774, loss = 0.13292383\n",
      "Iteration 775, loss = 0.13329317\n",
      "Iteration 776, loss = 0.13274479\n",
      "Iteration 777, loss = 0.13260437\n",
      "Iteration 778, loss = 0.13285998\n",
      "Iteration 779, loss = 0.13218015\n"
     ]
    },
    {
     "name": "stdout",
     "output_type": "stream",
     "text": [
      "Iteration 780, loss = 0.13276923\n",
      "Iteration 781, loss = 0.13230056\n",
      "Iteration 782, loss = 0.13229296\n",
      "Iteration 783, loss = 0.13229249\n",
      "Iteration 784, loss = 0.13233042\n",
      "Iteration 785, loss = 0.13196923\n",
      "Iteration 786, loss = 0.13195515\n",
      "Iteration 787, loss = 0.13146119\n",
      "Iteration 788, loss = 0.13184999\n",
      "Iteration 789, loss = 0.13202739\n",
      "Iteration 790, loss = 0.13176551\n",
      "Iteration 791, loss = 0.13152331\n",
      "Iteration 792, loss = 0.13117800\n",
      "Iteration 793, loss = 0.13166595\n",
      "Iteration 794, loss = 0.13143499\n",
      "Iteration 795, loss = 0.13150762\n",
      "Iteration 796, loss = 0.13113641\n",
      "Iteration 797, loss = 0.13118836\n",
      "Iteration 798, loss = 0.13152878\n",
      "Iteration 799, loss = 0.13117805\n",
      "Iteration 800, loss = 0.13115070\n",
      "Iteration 801, loss = 0.13103529\n",
      "Iteration 802, loss = 0.13047462\n",
      "Iteration 803, loss = 0.13081182\n",
      "Iteration 804, loss = 0.13088517\n",
      "Iteration 805, loss = 0.13045137\n",
      "Iteration 806, loss = 0.13049189\n",
      "Iteration 807, loss = 0.13111791\n",
      "Iteration 808, loss = 0.13068147\n",
      "Iteration 809, loss = 0.13081559\n",
      "Iteration 810, loss = 0.13045383\n",
      "Iteration 811, loss = 0.12989037\n",
      "Iteration 812, loss = 0.12995948\n",
      "Iteration 813, loss = 0.13019077\n",
      "Iteration 814, loss = 0.13031682\n",
      "Iteration 815, loss = 0.12981481\n",
      "Iteration 816, loss = 0.12991511\n",
      "Iteration 817, loss = 0.12980608\n",
      "Iteration 818, loss = 0.12969797\n",
      "Iteration 819, loss = 0.12982777\n",
      "Iteration 820, loss = 0.12947327\n",
      "Iteration 821, loss = 0.12939360\n",
      "Iteration 822, loss = 0.12989823\n",
      "Iteration 823, loss = 0.12970514\n",
      "Iteration 824, loss = 0.13059639\n",
      "Iteration 825, loss = 0.13000973\n",
      "Iteration 826, loss = 0.12943238\n",
      "Iteration 827, loss = 0.12936044\n",
      "Iteration 828, loss = 0.12875842\n",
      "Iteration 829, loss = 0.12939675\n",
      "Iteration 830, loss = 0.12909410\n",
      "Iteration 831, loss = 0.12915775\n",
      "Iteration 832, loss = 0.12893684\n",
      "Iteration 833, loss = 0.12906145\n",
      "Iteration 834, loss = 0.12844150\n",
      "Iteration 835, loss = 0.12858636\n",
      "Iteration 836, loss = 0.12854494\n",
      "Iteration 837, loss = 0.12850711\n",
      "Iteration 838, loss = 0.12861829\n",
      "Iteration 839, loss = 0.12867027\n",
      "Iteration 840, loss = 0.12825674\n",
      "Iteration 841, loss = 0.12831110\n",
      "Iteration 842, loss = 0.12814886\n",
      "Iteration 843, loss = 0.12822507\n",
      "Iteration 844, loss = 0.12757100\n",
      "Iteration 845, loss = 0.12759150\n",
      "Iteration 846, loss = 0.12772871\n",
      "Iteration 847, loss = 0.12763175\n",
      "Iteration 848, loss = 0.12805053\n",
      "Iteration 849, loss = 0.12744090\n",
      "Iteration 850, loss = 0.12760732\n",
      "Iteration 851, loss = 0.12728079\n",
      "Iteration 852, loss = 0.12762047\n",
      "Iteration 853, loss = 0.12805729\n",
      "Iteration 854, loss = 0.12724220\n",
      "Iteration 855, loss = 0.12718042\n",
      "Iteration 856, loss = 0.12735712\n",
      "Iteration 857, loss = 0.12670761\n",
      "Iteration 858, loss = 0.12702115\n",
      "Iteration 859, loss = 0.12684616\n",
      "Iteration 860, loss = 0.12722626\n",
      "Iteration 861, loss = 0.12703862\n",
      "Iteration 862, loss = 0.12679534\n",
      "Iteration 863, loss = 0.12672327\n",
      "Iteration 864, loss = 0.12684585\n",
      "Iteration 865, loss = 0.12667549\n",
      "Iteration 866, loss = 0.12747146\n",
      "Iteration 867, loss = 0.12700383\n",
      "Iteration 868, loss = 0.12656155\n",
      "Iteration 869, loss = 0.12643346\n",
      "Iteration 870, loss = 0.12628868\n",
      "Iteration 871, loss = 0.12639245\n",
      "Iteration 872, loss = 0.12624344\n",
      "Iteration 873, loss = 0.12637916\n",
      "Iteration 874, loss = 0.12642282\n",
      "Iteration 875, loss = 0.12627180\n",
      "Iteration 876, loss = 0.12669709\n",
      "Iteration 877, loss = 0.12609335\n",
      "Iteration 878, loss = 0.12558336\n",
      "Iteration 879, loss = 0.12609579\n",
      "Iteration 880, loss = 0.12608662\n",
      "Iteration 881, loss = 0.12568606\n",
      "Iteration 882, loss = 0.12595590\n",
      "Iteration 883, loss = 0.12701083\n",
      "Iteration 884, loss = 0.12632186\n",
      "Iteration 885, loss = 0.12643747\n",
      "Iteration 886, loss = 0.12581122\n",
      "Iteration 887, loss = 0.12531042\n",
      "Iteration 888, loss = 0.12531357\n",
      "Iteration 889, loss = 0.12505657\n",
      "Iteration 890, loss = 0.12599103\n",
      "Iteration 891, loss = 0.12553270\n",
      "Iteration 892, loss = 0.12495832\n",
      "Iteration 893, loss = 0.12491096\n",
      "Iteration 894, loss = 0.12478064\n",
      "Iteration 895, loss = 0.12472248\n",
      "Iteration 896, loss = 0.12500510\n",
      "Iteration 897, loss = 0.12506459\n",
      "Iteration 898, loss = 0.12492658\n",
      "Iteration 899, loss = 0.12456720\n",
      "Iteration 900, loss = 0.12495057\n",
      "Iteration 901, loss = 0.12500706\n",
      "Iteration 902, loss = 0.12557454\n",
      "Iteration 903, loss = 0.12528998\n",
      "Iteration 904, loss = 0.12446548\n",
      "Iteration 905, loss = 0.12444584\n",
      "Iteration 906, loss = 0.12407216\n",
      "Iteration 907, loss = 0.12430010\n",
      "Iteration 908, loss = 0.12452455\n",
      "Iteration 909, loss = 0.12452869\n",
      "Iteration 910, loss = 0.12379967\n",
      "Iteration 911, loss = 0.12409784\n",
      "Iteration 912, loss = 0.12472836\n",
      "Iteration 913, loss = 0.12401793\n",
      "Iteration 914, loss = 0.12402859\n",
      "Iteration 915, loss = 0.12408840\n",
      "Iteration 916, loss = 0.12399109\n",
      "Iteration 917, loss = 0.12367866\n",
      "Iteration 918, loss = 0.12347771\n",
      "Iteration 919, loss = 0.12362204\n",
      "Iteration 920, loss = 0.12625502\n",
      "Iteration 921, loss = 0.12482583\n",
      "Iteration 922, loss = 0.12426108\n",
      "Iteration 923, loss = 0.12365509\n",
      "Iteration 924, loss = 0.12360116\n",
      "Iteration 925, loss = 0.12400892\n",
      "Iteration 926, loss = 0.12331170\n",
      "Iteration 927, loss = 0.12349704\n",
      "Iteration 928, loss = 0.12353671\n",
      "Iteration 929, loss = 0.12353005\n",
      "Iteration 930, loss = 0.12300195\n",
      "Iteration 931, loss = 0.12293412\n",
      "Iteration 932, loss = 0.12272199\n",
      "Iteration 933, loss = 0.12278575\n",
      "Iteration 934, loss = 0.12303856\n",
      "Iteration 935, loss = 0.12286069\n",
      "Iteration 936, loss = 0.12353688\n",
      "Iteration 937, loss = 0.12286253\n",
      "Iteration 938, loss = 0.12270503\n",
      "Iteration 939, loss = 0.12234301\n",
      "Iteration 940, loss = 0.12253763\n",
      "Iteration 941, loss = 0.12315873\n",
      "Iteration 942, loss = 0.12420359\n",
      "Iteration 943, loss = 0.12351997\n",
      "Iteration 944, loss = 0.12298708\n",
      "Iteration 945, loss = 0.12281414\n",
      "Iteration 946, loss = 0.12226421\n",
      "Iteration 947, loss = 0.12207721\n",
      "Iteration 948, loss = 0.12236889\n",
      "Iteration 949, loss = 0.12207307\n",
      "Iteration 950, loss = 0.12217516\n",
      "Iteration 951, loss = 0.12336991\n",
      "Iteration 952, loss = 0.12221704\n",
      "Iteration 953, loss = 0.12264990\n",
      "Iteration 954, loss = 0.12363272\n",
      "Iteration 955, loss = 0.12361275\n",
      "Iteration 956, loss = 0.12279906\n",
      "Iteration 957, loss = 0.12249265\n",
      "Iteration 958, loss = 0.12210888\n",
      "Training loss did not improve more than tol=0.000100 for 10 consecutive epochs. Stopping.\n"
     ]
    },
    {
     "data": {
      "text/plain": [
       "MLPClassifier(alpha=0.05, max_iter=1000, verbose=True)"
      ]
     },
     "execution_count": 86,
     "metadata": {},
     "output_type": "execute_result"
    }
   ],
   "source": [
    "#Default settings create 1 hidden layer with 100 neurons--without alpha -86% and alpha 0.01 86.4\n",
    "mlp_clf = MLPClassifier(hidden_layer_sizes=(100,), max_iter=1000, verbose=True,activation='relu',alpha=0.05)\n",
    "                       #learning_rate= 'adaptive', solver= 'adam')\n",
    "\n",
    "mlp_clf.fit(train_x, train_y)"
   ]
  },
  {
   "cell_type": "code",
   "execution_count": 87,
   "metadata": {},
   "outputs": [
    {
     "data": {
      "text/plain": [
       "0.9925714285714285"
      ]
     },
     "execution_count": 87,
     "metadata": {},
     "output_type": "execute_result"
    }
   ],
   "source": [
    "#Predict the train values\n",
    "train_y_pred = mlp_clf.predict(train_x)\n",
    "\n",
    "#Train accuracy\n",
    "accuracy_score(train_y, train_y_pred)"
   ]
  },
  {
   "cell_type": "code",
   "execution_count": 88,
   "metadata": {},
   "outputs": [
    {
     "data": {
      "text/plain": [
       "0.8653333333333333"
      ]
     },
     "execution_count": 88,
     "metadata": {},
     "output_type": "execute_result"
    }
   ],
   "source": [
    "#Predict the test values\n",
    "test_y_pred = mlp_clf.predict(test_x)\n",
    "\n",
    "#Test accuracy\n",
    "accuracy_score(test_y, test_y_pred)"
   ]
  },
  {
   "cell_type": "markdown",
   "metadata": {},
   "source": [
    "## Neural Network model with reduced nuerons "
   ]
  },
  {
   "cell_type": "code",
   "execution_count": 37,
   "metadata": {},
   "outputs": [
    {
     "name": "stderr",
     "output_type": "stream",
     "text": [
      "C:\\Users\\anush\\anaconda3\\lib\\site-packages\\sklearn\\neural_network\\_multilayer_perceptron.py:614: ConvergenceWarning: Stochastic Optimizer: Maximum iterations (1000) reached and the optimization hasn't converged yet.\n",
      "  warnings.warn(\n"
     ]
    },
    {
     "data": {
      "text/plain": [
       "MLPClassifier(alpha=0.01, hidden_layer_sizes=(50,), max_iter=1000)"
      ]
     },
     "execution_count": 37,
     "metadata": {},
     "output_type": "execute_result"
    }
   ],
   "source": [
    "#Increase neurons from 100 to 50\n",
    "mlp_clf3 = MLPClassifier(max_iter=1000, verbose=False,\n",
    "                        hidden_layer_sizes=(50,),alpha=0.01,activation='relu'\n",
    "                      )\n",
    "\n",
    "mlp_clf3.fit(train_x, train_y)"
   ]
  },
  {
   "cell_type": "code",
   "execution_count": 38,
   "metadata": {},
   "outputs": [
    {
     "data": {
      "text/plain": [
       "0.968"
      ]
     },
     "execution_count": 38,
     "metadata": {},
     "output_type": "execute_result"
    }
   ],
   "source": [
    "#Predict the train values\n",
    "train_y_pred = mlp_clf3.predict(train_x)\n",
    "\n",
    "#Train accuracy\n",
    "accuracy_score(train_y, train_y_pred)"
   ]
  },
  {
   "cell_type": "code",
   "execution_count": 39,
   "metadata": {},
   "outputs": [
    {
     "data": {
      "text/plain": [
       "0.8573333333333333"
      ]
     },
     "execution_count": 39,
     "metadata": {},
     "output_type": "execute_result"
    }
   ],
   "source": [
    "#Predict the test values\n",
    "test_y_pred = mlp_clf3.predict(test_x)\n",
    "\n",
    "#Test accuracy\n",
    "accuracy_score(test_y, test_y_pred)"
   ]
  },
  {
   "cell_type": "markdown",
   "metadata": {},
   "source": [
    "## Deep Neural Network"
   ]
  },
  {
   "cell_type": "code",
   "execution_count": 40,
   "metadata": {},
   "outputs": [
    {
     "data": {
      "text/plain": [
       "MLPClassifier(alpha=0.01, hidden_layer_sizes=(50, 25, 10), max_iter=1000)"
      ]
     },
     "execution_count": 40,
     "metadata": {},
     "output_type": "execute_result"
    }
   ],
   "source": [
    "dnn_clf = MLPClassifier(hidden_layer_sizes=(50,25,10),\n",
    "                       max_iter=1000,alpha=0.01,activation='relu')\n",
    "\n",
    "dnn_clf.fit(train_x, train_y)"
   ]
  },
  {
   "cell_type": "code",
   "execution_count": 41,
   "metadata": {},
   "outputs": [
    {
     "data": {
      "text/plain": [
       "308"
      ]
     },
     "execution_count": 41,
     "metadata": {},
     "output_type": "execute_result"
    }
   ],
   "source": [
    "#Let's check the number of iterations:\n",
    "dnn_clf.n_iter_"
   ]
  },
  {
   "cell_type": "code",
   "execution_count": 42,
   "metadata": {},
   "outputs": [
    {
     "data": {
      "text/plain": [
       "5"
      ]
     },
     "execution_count": 42,
     "metadata": {},
     "output_type": "execute_result"
    }
   ],
   "source": [
    "#Let's check the number of layers:\n",
    "dnn_clf.n_layers_"
   ]
  },
  {
   "cell_type": "code",
   "execution_count": 43,
   "metadata": {},
   "outputs": [
    {
     "data": {
      "text/plain": [
       "0.9988571428571429"
      ]
     },
     "execution_count": 43,
     "metadata": {},
     "output_type": "execute_result"
    }
   ],
   "source": [
    "#Predict the train values\n",
    "train_y_pred = dnn_clf.predict(train_x)\n",
    "\n",
    "#Train accuracy\n",
    "accuracy_score(train_y, train_y_pred)"
   ]
  },
  {
   "cell_type": "code",
   "execution_count": 44,
   "metadata": {},
   "outputs": [
    {
     "data": {
      "text/plain": [
       "0.8386666666666667"
      ]
     },
     "execution_count": 44,
     "metadata": {},
     "output_type": "execute_result"
    }
   ],
   "source": [
    "#Predict the test values\n",
    "test_y_pred = dnn_clf.predict(test_x)\n",
    "\n",
    "#Test accuracy\n",
    "accuracy_score(test_y, test_y_pred)"
   ]
  },
  {
   "cell_type": "code",
   "execution_count": 45,
   "metadata": {},
   "outputs": [
    {
     "data": {
      "text/plain": [
       "MLPClassifier(alpha=0.01, hidden_layer_sizes=(100, 80, 60, 40, 20, 10),\n",
       "              max_iter=1000)"
      ]
     },
     "execution_count": 45,
     "metadata": {},
     "output_type": "execute_result"
    }
   ],
   "source": [
    "dnn_clf = MLPClassifier(hidden_layer_sizes=(100,80,60,40,20,10),\n",
    "                       max_iter=1000,alpha=0.01,activation='relu')\n",
    "\n",
    "dnn_clf.fit(train_x, train_y)"
   ]
  },
  {
   "cell_type": "code",
   "execution_count": 46,
   "metadata": {},
   "outputs": [
    {
     "data": {
      "text/plain": [
       "91"
      ]
     },
     "execution_count": 46,
     "metadata": {},
     "output_type": "execute_result"
    }
   ],
   "source": [
    "#Let's check the number of iterations:\n",
    "dnn_clf.n_iter_"
   ]
  },
  {
   "cell_type": "code",
   "execution_count": 47,
   "metadata": {},
   "outputs": [
    {
     "data": {
      "text/plain": [
       "8"
      ]
     },
     "execution_count": 47,
     "metadata": {},
     "output_type": "execute_result"
    }
   ],
   "source": [
    "#Let's check the number of layers:\n",
    "dnn_clf.n_layers_"
   ]
  },
  {
   "cell_type": "code",
   "execution_count": 48,
   "metadata": {},
   "outputs": [
    {
     "data": {
      "text/plain": [
       "1.0"
      ]
     },
     "execution_count": 48,
     "metadata": {},
     "output_type": "execute_result"
    }
   ],
   "source": [
    "#Predict the train values\n",
    "train_y_pred = dnn_clf.predict(train_x)\n",
    "\n",
    "#Train accuracy\n",
    "accuracy_score(train_y, train_y_pred)"
   ]
  },
  {
   "cell_type": "code",
   "execution_count": 49,
   "metadata": {},
   "outputs": [
    {
     "data": {
      "text/plain": [
       "0.856"
      ]
     },
     "execution_count": 49,
     "metadata": {},
     "output_type": "execute_result"
    }
   ],
   "source": [
    "#Predict the test values\n",
    "test_y_pred = dnn_clf.predict(test_x)\n",
    "\n",
    "#Test accuracy\n",
    "accuracy_score(test_y, test_y_pred)"
   ]
  },
  {
   "cell_type": "markdown",
   "metadata": {},
   "source": [
    "## Neural Network with Early stopping"
   ]
  },
  {
   "cell_type": "code",
   "execution_count": 50,
   "metadata": {},
   "outputs": [
    {
     "data": {
      "text/plain": [
       "MLPClassifier(alpha=0.01, early_stopping=True, hidden_layer_sizes=(50, 25, 10),\n",
       "              max_iter=1000)"
      ]
     },
     "execution_count": 50,
     "metadata": {},
     "output_type": "execute_result"
    }
   ],
   "source": [
    "dnn_clf = MLPClassifier(hidden_layer_sizes=(50,25,10),\n",
    "                       max_iter=1000,\n",
    "                       early_stopping=True,alpha=0.01,activation='relu')\n",
    "\n",
    "dnn_clf.fit(train_x, train_y)"
   ]
  },
  {
   "cell_type": "code",
   "execution_count": 51,
   "metadata": {},
   "outputs": [
    {
     "data": {
      "text/plain": [
       "26"
      ]
     },
     "execution_count": 51,
     "metadata": {},
     "output_type": "execute_result"
    }
   ],
   "source": [
    "#Let's check the number of iterations:\n",
    "dnn_clf.n_iter_"
   ]
  },
  {
   "cell_type": "code",
   "execution_count": 52,
   "metadata": {},
   "outputs": [
    {
     "data": {
      "text/plain": [
       "0.7828571428571428"
      ]
     },
     "execution_count": 52,
     "metadata": {},
     "output_type": "execute_result"
    }
   ],
   "source": [
    "#Predict the train values\n",
    "train_y_pred = dnn_clf.predict(train_x)\n",
    "\n",
    "#Train accuracy\n",
    "accuracy_score(train_y, train_y_pred)"
   ]
  },
  {
   "cell_type": "code",
   "execution_count": 53,
   "metadata": {},
   "outputs": [
    {
     "data": {
      "text/plain": [
       "0.7573333333333333"
      ]
     },
     "execution_count": 53,
     "metadata": {},
     "output_type": "execute_result"
    }
   ],
   "source": [
    "#Predict the test values\n",
    "test_y_pred = dnn_clf.predict(test_x)\n",
    "\n",
    "#Test accuracy\n",
    "accuracy_score(test_y, test_y_pred)"
   ]
  },
  {
   "cell_type": "markdown",
   "metadata": {},
   "source": [
    "## Neural Network model using Activation function and solver"
   ]
  },
  {
   "cell_type": "code",
   "execution_count": 54,
   "metadata": {},
   "outputs": [
    {
     "data": {
      "text/plain": [
       "MLPClassifier(alpha=0.01, hidden_layer_sizes=(100, 80, 60, 40, 20, 10),\n",
       "              max_iter=1000, solver='lbfgs')"
      ]
     },
     "execution_count": 54,
     "metadata": {},
     "output_type": "execute_result"
    }
   ],
   "source": [
    "dnn_clf = MLPClassifier(hidden_layer_sizes=(100,80,60,40,20,10),\n",
    "                       max_iter=1000,\n",
    "                       activation = 'relu',\n",
    "                       solver='lbfgs',alpha=0.01)\n",
    "##85% sgd solver\n",
    "dnn_clf.fit(train_x, train_y)"
   ]
  },
  {
   "cell_type": "code",
   "execution_count": 55,
   "metadata": {},
   "outputs": [
    {
     "data": {
      "text/plain": [
       "1.0"
      ]
     },
     "execution_count": 55,
     "metadata": {},
     "output_type": "execute_result"
    }
   ],
   "source": [
    "#Predict the train values\n",
    "train_y_pred = dnn_clf.predict(train_x)\n",
    "\n",
    "#Train accuracy\n",
    "accuracy_score(train_y, train_y_pred)"
   ]
  },
  {
   "cell_type": "code",
   "execution_count": 56,
   "metadata": {},
   "outputs": [
    {
     "data": {
      "text/plain": [
       "0.8653333333333333"
      ]
     },
     "execution_count": 56,
     "metadata": {},
     "output_type": "execute_result"
    }
   ],
   "source": [
    "#Predict the test values\n",
    "test_y_pred = dnn_clf.predict(test_x)\n",
    "\n",
    "#Test accuracy\n",
    "accuracy_score(test_y, test_y_pred)"
   ]
  },
  {
   "cell_type": "markdown",
   "metadata": {},
   "source": [
    "## Neural Network Model using Randomized Grid Search"
   ]
  },
  {
   "cell_type": "code",
   "execution_count": 57,
   "metadata": {},
   "outputs": [],
   "source": [
    "from sklearn.model_selection import RandomizedSearchCV"
   ]
  },
  {
   "cell_type": "code",
   "execution_count": 58,
   "metadata": {},
   "outputs": [],
   "source": [
    "parameters = {'solver': ['sgd','adam','lbfgs'], 'max_iter': [1000], 'alpha': [0.0001,0.05],\n",
    "              'hidden_layer_sizes': [100],'activation':['identity', 'logistic', 'relu', 'softmax', 'tanh'],\n",
    "             'learning_rate':['adaptive'], 'solver':['adam']}\n",
    "clfrandom = RandomizedSearchCV(MLPClassifier(verbose=True), parameters, n_jobs=-1,cv=5)\n"
   ]
  },
  {
   "cell_type": "code",
   "execution_count": 59,
   "metadata": {},
   "outputs": [
    {
     "name": "stderr",
     "output_type": "stream",
     "text": [
      "C:\\Users\\anush\\anaconda3\\lib\\site-packages\\sklearn\\model_selection\\_search.py:922: UserWarning: One or more of the test scores are non-finite: [0.73942857 0.74114286 0.78685714 0.75371429 0.83542857 0.84685714\n",
      "        nan        nan 0.84342857 0.84114286]\n",
      "  warnings.warn(\n"
     ]
    },
    {
     "name": "stdout",
     "output_type": "stream",
     "text": [
      "Iteration 1, loss = 0.68360439\n",
      "Iteration 2, loss = 0.63319173\n",
      "Iteration 3, loss = 0.59933024\n",
      "Iteration 4, loss = 0.57440591\n",
      "Iteration 5, loss = 0.55506499\n",
      "Iteration 6, loss = 0.54099453\n",
      "Iteration 7, loss = 0.52996438\n",
      "Iteration 8, loss = 0.52146205\n",
      "Iteration 9, loss = 0.51451499\n",
      "Iteration 10, loss = 0.50885699\n",
      "Iteration 11, loss = 0.50445533\n",
      "Iteration 12, loss = 0.50036738\n",
      "Iteration 13, loss = 0.49721673\n",
      "Iteration 14, loss = 0.49403073\n",
      "Iteration 15, loss = 0.49149321\n",
      "Iteration 16, loss = 0.48892101\n",
      "Iteration 17, loss = 0.48677384\n",
      "Iteration 18, loss = 0.48455043\n",
      "Iteration 19, loss = 0.48254065\n",
      "Iteration 20, loss = 0.48053190\n",
      "Iteration 21, loss = 0.47879134\n",
      "Iteration 22, loss = 0.47706246\n",
      "Iteration 23, loss = 0.47532500\n",
      "Iteration 24, loss = 0.47374760\n",
      "Iteration 25, loss = 0.47184332\n",
      "Iteration 26, loss = 0.47020779\n",
      "Iteration 27, loss = 0.46894571\n",
      "Iteration 28, loss = 0.46733294\n",
      "Iteration 29, loss = 0.46579462\n",
      "Iteration 30, loss = 0.46469352\n",
      "Iteration 31, loss = 0.46300756\n",
      "Iteration 32, loss = 0.46158763\n",
      "Iteration 33, loss = 0.46028923\n",
      "Iteration 34, loss = 0.45878320\n",
      "Iteration 35, loss = 0.45757691\n",
      "Iteration 36, loss = 0.45618177\n",
      "Iteration 37, loss = 0.45490883\n",
      "Iteration 38, loss = 0.45375472\n",
      "Iteration 39, loss = 0.45215861\n",
      "Iteration 40, loss = 0.45094377\n",
      "Iteration 41, loss = 0.44949668\n",
      "Iteration 42, loss = 0.44862421\n",
      "Iteration 43, loss = 0.44764882\n",
      "Iteration 44, loss = 0.44590417\n",
      "Iteration 45, loss = 0.44469823\n",
      "Iteration 46, loss = 0.44330885\n",
      "Iteration 47, loss = 0.44229255\n",
      "Iteration 48, loss = 0.44098268\n",
      "Iteration 49, loss = 0.43958737\n",
      "Iteration 50, loss = 0.43865575\n",
      "Iteration 51, loss = 0.43798359\n",
      "Iteration 52, loss = 0.43630758\n",
      "Iteration 53, loss = 0.43575762\n",
      "Iteration 54, loss = 0.43404329\n",
      "Iteration 55, loss = 0.43312950\n",
      "Iteration 56, loss = 0.43159351\n",
      "Iteration 57, loss = 0.43098462\n",
      "Iteration 58, loss = 0.42905667\n",
      "Iteration 59, loss = 0.42856386\n",
      "Iteration 60, loss = 0.42682942\n",
      "Iteration 61, loss = 0.42613933\n",
      "Iteration 62, loss = 0.42519371\n",
      "Iteration 63, loss = 0.42322909\n",
      "Iteration 64, loss = 0.42245319\n",
      "Iteration 65, loss = 0.42186020\n",
      "Iteration 66, loss = 0.42004051\n",
      "Iteration 67, loss = 0.41914390\n",
      "Iteration 68, loss = 0.41770211\n",
      "Iteration 69, loss = 0.41672370\n",
      "Iteration 70, loss = 0.41567278\n",
      "Iteration 71, loss = 0.41436412\n",
      "Iteration 72, loss = 0.41291394\n",
      "Iteration 73, loss = 0.41235471\n",
      "Iteration 74, loss = 0.41079829\n",
      "Iteration 75, loss = 0.41001168\n",
      "Iteration 76, loss = 0.40891778\n",
      "Iteration 77, loss = 0.40741349\n",
      "Iteration 78, loss = 0.40666801\n",
      "Iteration 79, loss = 0.40581236\n",
      "Iteration 80, loss = 0.40436422\n",
      "Iteration 81, loss = 0.40344177\n",
      "Iteration 82, loss = 0.40199329\n",
      "Iteration 83, loss = 0.40097035\n",
      "Iteration 84, loss = 0.39999484\n",
      "Iteration 85, loss = 0.39875147\n",
      "Iteration 86, loss = 0.39788425\n",
      "Iteration 87, loss = 0.39669787\n",
      "Iteration 88, loss = 0.39511521\n",
      "Iteration 89, loss = 0.39418262\n",
      "Iteration 90, loss = 0.39334582\n",
      "Iteration 91, loss = 0.39168683\n",
      "Iteration 92, loss = 0.39098324\n",
      "Iteration 93, loss = 0.38982660\n",
      "Iteration 94, loss = 0.38876244\n",
      "Iteration 95, loss = 0.38796970\n",
      "Iteration 96, loss = 0.38633354\n",
      "Iteration 97, loss = 0.38591526\n",
      "Iteration 98, loss = 0.38559614\n",
      "Iteration 99, loss = 0.38313956\n",
      "Iteration 100, loss = 0.38198396\n",
      "Iteration 101, loss = 0.38066287\n",
      "Iteration 102, loss = 0.37972408\n",
      "Iteration 103, loss = 0.37898747\n",
      "Iteration 104, loss = 0.37769082\n",
      "Iteration 105, loss = 0.37687936\n",
      "Iteration 106, loss = 0.37507548\n",
      "Iteration 107, loss = 0.37424605\n",
      "Iteration 108, loss = 0.37300206\n",
      "Iteration 109, loss = 0.37203035\n",
      "Iteration 110, loss = 0.37108801\n",
      "Iteration 111, loss = 0.37021358\n",
      "Iteration 112, loss = 0.36932689\n",
      "Iteration 113, loss = 0.36788621\n",
      "Iteration 114, loss = 0.36763738\n",
      "Iteration 115, loss = 0.36589190\n",
      "Iteration 116, loss = 0.36505321\n",
      "Iteration 117, loss = 0.36387796\n",
      "Iteration 118, loss = 0.36259393\n",
      "Iteration 119, loss = 0.36196588\n",
      "Iteration 120, loss = 0.36123969\n",
      "Iteration 121, loss = 0.35973915\n",
      "Iteration 122, loss = 0.35903977\n",
      "Iteration 123, loss = 0.35814111\n",
      "Iteration 124, loss = 0.35807319\n",
      "Iteration 125, loss = 0.35618698\n",
      "Iteration 126, loss = 0.35530581\n",
      "Iteration 127, loss = 0.35481577\n",
      "Iteration 128, loss = 0.35411068\n",
      "Iteration 129, loss = 0.35280063\n",
      "Iteration 130, loss = 0.35135673\n",
      "Iteration 131, loss = 0.35144072\n",
      "Iteration 132, loss = 0.34966287\n",
      "Iteration 133, loss = 0.34904074\n",
      "Iteration 134, loss = 0.34845775\n",
      "Iteration 135, loss = 0.34744409\n",
      "Iteration 136, loss = 0.34631138\n",
      "Iteration 137, loss = 0.34558319\n",
      "Iteration 138, loss = 0.34467495\n",
      "Iteration 139, loss = 0.34336391\n",
      "Iteration 140, loss = 0.34283719\n",
      "Iteration 141, loss = 0.34250442\n",
      "Iteration 142, loss = 0.34211920\n",
      "Iteration 143, loss = 0.34033003\n",
      "Iteration 144, loss = 0.33912889\n",
      "Iteration 145, loss = 0.33865016\n",
      "Iteration 146, loss = 0.33784324\n",
      "Iteration 147, loss = 0.33649238\n",
      "Iteration 148, loss = 0.33569172\n",
      "Iteration 149, loss = 0.33485658\n",
      "Iteration 150, loss = 0.33423585\n",
      "Iteration 151, loss = 0.33368929\n",
      "Iteration 152, loss = 0.33233173\n",
      "Iteration 153, loss = 0.33135692\n",
      "Iteration 154, loss = 0.33120054\n",
      "Iteration 155, loss = 0.33085196\n",
      "Iteration 156, loss = 0.32879466\n",
      "Iteration 157, loss = 0.32868629\n",
      "Iteration 158, loss = 0.32859593\n",
      "Iteration 159, loss = 0.32685589\n",
      "Iteration 160, loss = 0.32606030\n",
      "Iteration 161, loss = 0.32547249\n",
      "Iteration 162, loss = 0.32483598\n",
      "Iteration 163, loss = 0.32318874\n",
      "Iteration 164, loss = 0.32262119\n",
      "Iteration 165, loss = 0.32182020\n",
      "Iteration 166, loss = 0.32102305\n",
      "Iteration 167, loss = 0.32042906\n",
      "Iteration 168, loss = 0.32008326\n",
      "Iteration 169, loss = 0.32044526\n",
      "Iteration 170, loss = 0.31894321\n",
      "Iteration 171, loss = 0.31836786\n",
      "Iteration 172, loss = 0.31627927\n",
      "Iteration 173, loss = 0.31544222\n",
      "Iteration 174, loss = 0.31518903\n",
      "Iteration 175, loss = 0.31451430\n",
      "Iteration 176, loss = 0.31385537\n",
      "Iteration 177, loss = 0.31276329\n",
      "Iteration 178, loss = 0.31225008\n",
      "Iteration 179, loss = 0.31160341\n",
      "Iteration 180, loss = 0.31087369\n",
      "Iteration 181, loss = 0.30973661\n",
      "Iteration 182, loss = 0.30907636\n",
      "Iteration 183, loss = 0.30909346\n",
      "Iteration 184, loss = 0.30799548\n",
      "Iteration 185, loss = 0.30664217\n",
      "Iteration 186, loss = 0.30639219\n",
      "Iteration 187, loss = 0.30536681\n",
      "Iteration 188, loss = 0.30431492\n",
      "Iteration 189, loss = 0.30385518\n",
      "Iteration 190, loss = 0.30329134\n",
      "Iteration 191, loss = 0.30304341\n",
      "Iteration 192, loss = 0.30169663\n",
      "Iteration 193, loss = 0.30090110\n",
      "Iteration 194, loss = 0.30035123\n",
      "Iteration 195, loss = 0.29957370\n",
      "Iteration 196, loss = 0.29943554\n",
      "Iteration 197, loss = 0.29851303\n",
      "Iteration 198, loss = 0.29747530\n",
      "Iteration 199, loss = 0.29686966\n",
      "Iteration 200, loss = 0.29571341\n",
      "Iteration 201, loss = 0.29561310\n",
      "Iteration 202, loss = 0.29492678\n",
      "Iteration 203, loss = 0.29408690\n",
      "Iteration 204, loss = 0.29278325\n",
      "Iteration 205, loss = 0.29225299\n",
      "Iteration 206, loss = 0.29293150\n",
      "Iteration 207, loss = 0.29152365\n",
      "Iteration 208, loss = 0.29039287\n",
      "Iteration 209, loss = 0.28966852\n",
      "Iteration 210, loss = 0.28945138\n",
      "Iteration 211, loss = 0.28884152\n",
      "Iteration 212, loss = 0.28768998\n",
      "Iteration 213, loss = 0.28656022\n",
      "Iteration 214, loss = 0.28640365\n",
      "Iteration 215, loss = 0.28631762\n",
      "Iteration 216, loss = 0.28547130\n",
      "Iteration 217, loss = 0.28426869\n",
      "Iteration 218, loss = 0.28432020\n",
      "Iteration 219, loss = 0.28327232\n",
      "Iteration 220, loss = 0.28444704\n",
      "Iteration 221, loss = 0.28157832\n",
      "Iteration 222, loss = 0.28192049\n",
      "Iteration 223, loss = 0.28073513\n",
      "Iteration 224, loss = 0.28011545\n",
      "Iteration 225, loss = 0.27938375\n",
      "Iteration 226, loss = 0.27869749\n",
      "Iteration 227, loss = 0.27835718\n",
      "Iteration 228, loss = 0.27781759\n",
      "Iteration 229, loss = 0.27797115\n",
      "Iteration 230, loss = 0.27652863\n",
      "Iteration 231, loss = 0.27631407\n",
      "Iteration 232, loss = 0.27518336\n",
      "Iteration 233, loss = 0.27426215\n",
      "Iteration 234, loss = 0.27367482\n",
      "Iteration 235, loss = 0.27311919\n",
      "Iteration 236, loss = 0.27280244\n",
      "Iteration 237, loss = 0.27228025\n",
      "Iteration 238, loss = 0.27140437\n",
      "Iteration 239, loss = 0.27101375\n",
      "Iteration 240, loss = 0.27034752\n",
      "Iteration 241, loss = 0.26971722\n",
      "Iteration 242, loss = 0.26912203\n",
      "Iteration 243, loss = 0.26856057\n",
      "Iteration 244, loss = 0.26808110\n",
      "Iteration 245, loss = 0.26712752\n",
      "Iteration 246, loss = 0.26701354\n",
      "Iteration 247, loss = 0.26663702\n",
      "Iteration 248, loss = 0.26557383\n",
      "Iteration 249, loss = 0.26491882\n",
      "Iteration 250, loss = 0.26459467\n",
      "Iteration 251, loss = 0.26375531\n",
      "Iteration 252, loss = 0.26360872\n",
      "Iteration 253, loss = 0.26367083\n",
      "Iteration 254, loss = 0.26210384\n",
      "Iteration 255, loss = 0.26145710\n",
      "Iteration 256, loss = 0.26154867\n",
      "Iteration 257, loss = 0.26003361\n"
     ]
    },
    {
     "name": "stdout",
     "output_type": "stream",
     "text": [
      "Iteration 258, loss = 0.26043433\n",
      "Iteration 259, loss = 0.26001352\n",
      "Iteration 260, loss = 0.25823579\n",
      "Iteration 261, loss = 0.25817931\n",
      "Iteration 262, loss = 0.25784329\n",
      "Iteration 263, loss = 0.25699750\n",
      "Iteration 264, loss = 0.25667402\n",
      "Iteration 265, loss = 0.25552268\n",
      "Iteration 266, loss = 0.25553309\n",
      "Iteration 267, loss = 0.25547068\n",
      "Iteration 268, loss = 0.25466522\n",
      "Iteration 269, loss = 0.25456959\n",
      "Iteration 270, loss = 0.25376184\n",
      "Iteration 271, loss = 0.25205747\n",
      "Iteration 272, loss = 0.25242042\n",
      "Iteration 273, loss = 0.25171169\n",
      "Iteration 274, loss = 0.25041253\n",
      "Iteration 275, loss = 0.25049837\n",
      "Iteration 276, loss = 0.24969025\n",
      "Iteration 277, loss = 0.24927458\n",
      "Iteration 278, loss = 0.24875486\n",
      "Iteration 279, loss = 0.24869292\n",
      "Iteration 280, loss = 0.24843327\n",
      "Iteration 281, loss = 0.24750746\n",
      "Iteration 282, loss = 0.24690788\n",
      "Iteration 283, loss = 0.24610383\n",
      "Iteration 284, loss = 0.24592314\n",
      "Iteration 285, loss = 0.24513738\n",
      "Iteration 286, loss = 0.24476288\n",
      "Iteration 287, loss = 0.24438660\n",
      "Iteration 288, loss = 0.24352173\n",
      "Iteration 289, loss = 0.24364152\n",
      "Iteration 290, loss = 0.24242022\n",
      "Iteration 291, loss = 0.24259525\n",
      "Iteration 292, loss = 0.24213908\n",
      "Iteration 293, loss = 0.24151267\n",
      "Iteration 294, loss = 0.24195194\n",
      "Iteration 295, loss = 0.24020504\n",
      "Iteration 296, loss = 0.23984641\n",
      "Iteration 297, loss = 0.23970646\n",
      "Iteration 298, loss = 0.24069303\n",
      "Iteration 299, loss = 0.24008763\n",
      "Iteration 300, loss = 0.23798367\n",
      "Iteration 301, loss = 0.23828866\n",
      "Iteration 302, loss = 0.23700354\n",
      "Iteration 303, loss = 0.23668975\n",
      "Iteration 304, loss = 0.23685215\n",
      "Iteration 305, loss = 0.23593720\n",
      "Iteration 306, loss = 0.23525574\n",
      "Iteration 307, loss = 0.23444259\n",
      "Iteration 308, loss = 0.23409787\n",
      "Iteration 309, loss = 0.23401635\n",
      "Iteration 310, loss = 0.23358775\n",
      "Iteration 311, loss = 0.23319257\n",
      "Iteration 312, loss = 0.23299563\n",
      "Iteration 313, loss = 0.23187869\n",
      "Iteration 314, loss = 0.23212715\n",
      "Iteration 315, loss = 0.23212118\n",
      "Iteration 316, loss = 0.23134472\n",
      "Iteration 317, loss = 0.23158225\n",
      "Iteration 318, loss = 0.22988510\n",
      "Iteration 319, loss = 0.22954452\n",
      "Iteration 320, loss = 0.22942348\n",
      "Iteration 321, loss = 0.22838519\n",
      "Iteration 322, loss = 0.22797433\n",
      "Iteration 323, loss = 0.22749447\n",
      "Iteration 324, loss = 0.22743203\n",
      "Iteration 325, loss = 0.22695927\n",
      "Iteration 326, loss = 0.22598426\n",
      "Iteration 327, loss = 0.22609886\n",
      "Iteration 328, loss = 0.22498321\n",
      "Iteration 329, loss = 0.22471580\n",
      "Iteration 330, loss = 0.22434047\n",
      "Iteration 331, loss = 0.22408972\n",
      "Iteration 332, loss = 0.22336699\n",
      "Iteration 333, loss = 0.22319717\n",
      "Iteration 334, loss = 0.22274789\n",
      "Iteration 335, loss = 0.22234865\n",
      "Iteration 336, loss = 0.22186729\n",
      "Iteration 337, loss = 0.22212928\n",
      "Iteration 338, loss = 0.22134851\n",
      "Iteration 339, loss = 0.22082454\n",
      "Iteration 340, loss = 0.22055210\n",
      "Iteration 341, loss = 0.22135064\n",
      "Iteration 342, loss = 0.22123394\n",
      "Iteration 343, loss = 0.21915403\n",
      "Iteration 344, loss = 0.21892833\n",
      "Iteration 345, loss = 0.21862114\n",
      "Iteration 346, loss = 0.21821746\n",
      "Iteration 347, loss = 0.21750818\n",
      "Iteration 348, loss = 0.21760814\n",
      "Iteration 349, loss = 0.21805039\n",
      "Iteration 350, loss = 0.21686636\n",
      "Iteration 351, loss = 0.21687018\n",
      "Iteration 352, loss = 0.21602055\n",
      "Iteration 353, loss = 0.21595253\n",
      "Iteration 354, loss = 0.21515543\n",
      "Iteration 355, loss = 0.21521911\n",
      "Iteration 356, loss = 0.21442509\n",
      "Iteration 357, loss = 0.21393320\n",
      "Iteration 358, loss = 0.21401733\n",
      "Iteration 359, loss = 0.21386413\n",
      "Iteration 360, loss = 0.21339938\n",
      "Iteration 361, loss = 0.21238701\n",
      "Iteration 362, loss = 0.21256537\n",
      "Iteration 363, loss = 0.21280904\n",
      "Iteration 364, loss = 0.21167837\n",
      "Iteration 365, loss = 0.21167133\n",
      "Iteration 366, loss = 0.21105886\n",
      "Iteration 367, loss = 0.21041994\n",
      "Iteration 368, loss = 0.21005028\n",
      "Iteration 369, loss = 0.20970428\n",
      "Iteration 370, loss = 0.20936387\n",
      "Iteration 371, loss = 0.20924109\n",
      "Iteration 372, loss = 0.20859661\n",
      "Iteration 373, loss = 0.20846211\n",
      "Iteration 374, loss = 0.20826831\n",
      "Iteration 375, loss = 0.20801715\n",
      "Iteration 376, loss = 0.20820017\n",
      "Iteration 377, loss = 0.20913893\n",
      "Iteration 378, loss = 0.20712662\n",
      "Iteration 379, loss = 0.20637039\n",
      "Iteration 380, loss = 0.20651759\n",
      "Iteration 381, loss = 0.20560902\n",
      "Iteration 382, loss = 0.20529457\n",
      "Iteration 383, loss = 0.20531299\n",
      "Iteration 384, loss = 0.20493264\n",
      "Iteration 385, loss = 0.20454209\n",
      "Iteration 386, loss = 0.20543681\n",
      "Iteration 387, loss = 0.20376919\n",
      "Iteration 388, loss = 0.20324547\n",
      "Iteration 389, loss = 0.20318530\n",
      "Iteration 390, loss = 0.20326818\n",
      "Iteration 391, loss = 0.20278941\n",
      "Iteration 392, loss = 0.20266840\n",
      "Iteration 393, loss = 0.20297289\n",
      "Iteration 394, loss = 0.20215424\n",
      "Iteration 395, loss = 0.20097185\n",
      "Iteration 396, loss = 0.20179251\n",
      "Iteration 397, loss = 0.20166716\n",
      "Iteration 398, loss = 0.20089454\n",
      "Iteration 399, loss = 0.20118673\n",
      "Iteration 400, loss = 0.20000044\n",
      "Iteration 401, loss = 0.19953172\n",
      "Iteration 402, loss = 0.19916767\n",
      "Iteration 403, loss = 0.19935071\n",
      "Iteration 404, loss = 0.19884487\n",
      "Iteration 405, loss = 0.19810196\n",
      "Iteration 406, loss = 0.19831376\n",
      "Iteration 407, loss = 0.19859188\n",
      "Iteration 408, loss = 0.19891072\n",
      "Iteration 409, loss = 0.19797543\n",
      "Iteration 410, loss = 0.19648391\n",
      "Iteration 411, loss = 0.19672820\n",
      "Iteration 412, loss = 0.19587171\n",
      "Iteration 413, loss = 0.19630718\n",
      "Iteration 414, loss = 0.19597723\n",
      "Iteration 415, loss = 0.19512979\n",
      "Iteration 416, loss = 0.19551396\n",
      "Iteration 417, loss = 0.19549874\n",
      "Iteration 418, loss = 0.19483951\n",
      "Iteration 419, loss = 0.19409487\n",
      "Iteration 420, loss = 0.19355590\n",
      "Iteration 421, loss = 0.19389725\n",
      "Iteration 422, loss = 0.19354269\n",
      "Iteration 423, loss = 0.19444382\n",
      "Iteration 424, loss = 0.19353974\n",
      "Iteration 425, loss = 0.19216903\n",
      "Iteration 426, loss = 0.19267899\n",
      "Iteration 427, loss = 0.19169560\n",
      "Iteration 428, loss = 0.19101494\n",
      "Iteration 429, loss = 0.19228650\n",
      "Iteration 430, loss = 0.19126499\n",
      "Iteration 431, loss = 0.19087192\n",
      "Iteration 432, loss = 0.19053662\n",
      "Iteration 433, loss = 0.18988621\n",
      "Iteration 434, loss = 0.18980957\n",
      "Iteration 435, loss = 0.18951386\n",
      "Iteration 436, loss = 0.18946230\n",
      "Iteration 437, loss = 0.18866529\n",
      "Iteration 438, loss = 0.18920469\n",
      "Iteration 439, loss = 0.18889931\n",
      "Iteration 440, loss = 0.18813367\n",
      "Iteration 441, loss = 0.18810508\n",
      "Iteration 442, loss = 0.18729148\n",
      "Iteration 443, loss = 0.18735490\n",
      "Iteration 444, loss = 0.18681100\n",
      "Iteration 445, loss = 0.18682453\n",
      "Iteration 446, loss = 0.18659764\n",
      "Iteration 447, loss = 0.18616930\n",
      "Iteration 448, loss = 0.18590610\n",
      "Iteration 449, loss = 0.18582150\n",
      "Iteration 450, loss = 0.18532557\n",
      "Iteration 451, loss = 0.18522673\n",
      "Iteration 452, loss = 0.18482955\n",
      "Iteration 453, loss = 0.18510267\n",
      "Iteration 454, loss = 0.18427629\n",
      "Iteration 455, loss = 0.18420252\n",
      "Iteration 456, loss = 0.18449546\n",
      "Iteration 457, loss = 0.18398579\n",
      "Iteration 458, loss = 0.18346348\n",
      "Iteration 459, loss = 0.18360491\n",
      "Iteration 460, loss = 0.18256765\n",
      "Iteration 461, loss = 0.18264613\n",
      "Iteration 462, loss = 0.18234101\n",
      "Iteration 463, loss = 0.18262058\n",
      "Iteration 464, loss = 0.18175237\n",
      "Iteration 465, loss = 0.18197267\n",
      "Iteration 466, loss = 0.18216303\n",
      "Iteration 467, loss = 0.18138186\n",
      "Iteration 468, loss = 0.18115782\n",
      "Iteration 469, loss = 0.18106258\n",
      "Iteration 470, loss = 0.18047550\n",
      "Iteration 471, loss = 0.18013603\n",
      "Iteration 472, loss = 0.18016384\n",
      "Iteration 473, loss = 0.17965116\n",
      "Iteration 474, loss = 0.17968821\n",
      "Iteration 475, loss = 0.18043317\n",
      "Iteration 476, loss = 0.17978416\n",
      "Iteration 477, loss = 0.18001043\n",
      "Iteration 478, loss = 0.18027239\n",
      "Iteration 479, loss = 0.17989404\n",
      "Iteration 480, loss = 0.17834373\n",
      "Iteration 481, loss = 0.17815301\n",
      "Iteration 482, loss = 0.17797256\n",
      "Iteration 483, loss = 0.17777856\n",
      "Iteration 484, loss = 0.17716277\n",
      "Iteration 485, loss = 0.17731106\n",
      "Iteration 486, loss = 0.17696930\n",
      "Iteration 487, loss = 0.17633736\n",
      "Iteration 488, loss = 0.17610332\n",
      "Iteration 489, loss = 0.17608535\n",
      "Iteration 490, loss = 0.17582314\n",
      "Iteration 491, loss = 0.17568686\n",
      "Iteration 492, loss = 0.17590248\n",
      "Iteration 493, loss = 0.17505519\n",
      "Iteration 494, loss = 0.17572318\n",
      "Iteration 495, loss = 0.17506939\n",
      "Iteration 496, loss = 0.17519518\n",
      "Iteration 497, loss = 0.17459722\n",
      "Iteration 498, loss = 0.17404302\n",
      "Iteration 499, loss = 0.17384933\n",
      "Iteration 500, loss = 0.17385911\n",
      "Iteration 501, loss = 0.17346612\n",
      "Iteration 502, loss = 0.17330581\n",
      "Iteration 503, loss = 0.17299333\n",
      "Iteration 504, loss = 0.17247035\n",
      "Iteration 505, loss = 0.17414496\n",
      "Iteration 506, loss = 0.17286152\n",
      "Iteration 507, loss = 0.17216777\n",
      "Iteration 508, loss = 0.17179301\n",
      "Iteration 509, loss = 0.17193941\n",
      "Iteration 510, loss = 0.17221146\n",
      "Iteration 511, loss = 0.17130989\n",
      "Iteration 512, loss = 0.17165486\n",
      "Iteration 513, loss = 0.17107875\n",
      "Iteration 514, loss = 0.17074516\n"
     ]
    },
    {
     "name": "stdout",
     "output_type": "stream",
     "text": [
      "Iteration 515, loss = 0.17108860\n",
      "Iteration 516, loss = 0.17050783\n",
      "Iteration 517, loss = 0.17024868\n",
      "Iteration 518, loss = 0.16971537\n",
      "Iteration 519, loss = 0.16963223\n",
      "Iteration 520, loss = 0.16964569\n",
      "Iteration 521, loss = 0.16954004\n",
      "Iteration 522, loss = 0.16920702\n",
      "Iteration 523, loss = 0.16886797\n",
      "Iteration 524, loss = 0.16875704\n",
      "Iteration 525, loss = 0.16901708\n",
      "Iteration 526, loss = 0.16845451\n",
      "Iteration 527, loss = 0.16842324\n",
      "Iteration 528, loss = 0.16828293\n",
      "Iteration 529, loss = 0.16767635\n",
      "Iteration 530, loss = 0.16798150\n",
      "Iteration 531, loss = 0.16758177\n",
      "Iteration 532, loss = 0.16754076\n",
      "Iteration 533, loss = 0.16714789\n",
      "Iteration 534, loss = 0.16686870\n",
      "Iteration 535, loss = 0.16725435\n",
      "Iteration 536, loss = 0.16741737\n",
      "Iteration 537, loss = 0.16746099\n",
      "Iteration 538, loss = 0.16791940\n",
      "Iteration 539, loss = 0.16775177\n",
      "Iteration 540, loss = 0.16684639\n",
      "Iteration 541, loss = 0.16567776\n",
      "Iteration 542, loss = 0.16572843\n",
      "Iteration 543, loss = 0.16561165\n",
      "Iteration 544, loss = 0.16685420\n",
      "Iteration 545, loss = 0.16545540\n",
      "Iteration 546, loss = 0.16556775\n",
      "Iteration 547, loss = 0.16493615\n",
      "Iteration 548, loss = 0.16517335\n",
      "Iteration 549, loss = 0.16457377\n",
      "Iteration 550, loss = 0.16431568\n",
      "Iteration 551, loss = 0.16477282\n",
      "Iteration 552, loss = 0.16465229\n",
      "Iteration 553, loss = 0.16387329\n",
      "Iteration 554, loss = 0.16339066\n",
      "Iteration 555, loss = 0.16331573\n",
      "Iteration 556, loss = 0.16303517\n",
      "Iteration 557, loss = 0.16258432\n",
      "Iteration 558, loss = 0.16302418\n",
      "Iteration 559, loss = 0.16260705\n",
      "Iteration 560, loss = 0.16210321\n",
      "Iteration 561, loss = 0.16249554\n",
      "Iteration 562, loss = 0.16197516\n",
      "Iteration 563, loss = 0.16170203\n",
      "Iteration 564, loss = 0.16271143\n",
      "Iteration 565, loss = 0.16136555\n",
      "Iteration 566, loss = 0.16184522\n",
      "Iteration 567, loss = 0.16123312\n",
      "Iteration 568, loss = 0.16098668\n",
      "Iteration 569, loss = 0.16034953\n",
      "Iteration 570, loss = 0.16063164\n",
      "Iteration 571, loss = 0.16116956\n",
      "Iteration 572, loss = 0.16073567\n",
      "Iteration 573, loss = 0.16097739\n",
      "Iteration 574, loss = 0.16033323\n",
      "Iteration 575, loss = 0.16008105\n",
      "Iteration 576, loss = 0.16000975\n",
      "Iteration 577, loss = 0.15928149\n",
      "Iteration 578, loss = 0.15917521\n",
      "Iteration 579, loss = 0.15897507\n",
      "Iteration 580, loss = 0.15915544\n",
      "Iteration 581, loss = 0.15890986\n",
      "Iteration 582, loss = 0.15888983\n",
      "Iteration 583, loss = 0.15860428\n",
      "Iteration 584, loss = 0.15871924\n",
      "Iteration 585, loss = 0.15799980\n",
      "Iteration 586, loss = 0.15858393\n",
      "Iteration 587, loss = 0.15890201\n",
      "Iteration 588, loss = 0.15747526\n",
      "Iteration 589, loss = 0.15775489\n",
      "Iteration 590, loss = 0.15835035\n",
      "Iteration 591, loss = 0.15736736\n",
      "Iteration 592, loss = 0.15775591\n",
      "Iteration 593, loss = 0.15781074\n",
      "Iteration 594, loss = 0.15656297\n",
      "Iteration 595, loss = 0.15646073\n",
      "Iteration 596, loss = 0.15670200\n",
      "Iteration 597, loss = 0.15625357\n",
      "Iteration 598, loss = 0.15622491\n",
      "Iteration 599, loss = 0.15624393\n",
      "Iteration 600, loss = 0.15582918\n",
      "Iteration 601, loss = 0.15591223\n",
      "Iteration 602, loss = 0.15581832\n",
      "Iteration 603, loss = 0.15548347\n",
      "Iteration 604, loss = 0.15572538\n",
      "Iteration 605, loss = 0.15499156\n",
      "Iteration 606, loss = 0.15563411\n",
      "Iteration 607, loss = 0.15460783\n",
      "Iteration 608, loss = 0.15484179\n",
      "Iteration 609, loss = 0.15441311\n",
      "Iteration 610, loss = 0.15417874\n",
      "Iteration 611, loss = 0.15416671\n",
      "Iteration 612, loss = 0.15383778\n",
      "Iteration 613, loss = 0.15377552\n",
      "Iteration 614, loss = 0.15415068\n",
      "Iteration 615, loss = 0.15348820\n",
      "Iteration 616, loss = 0.15370087\n",
      "Iteration 617, loss = 0.15333371\n",
      "Iteration 618, loss = 0.15340127\n",
      "Iteration 619, loss = 0.15354430\n",
      "Iteration 620, loss = 0.15418462\n",
      "Iteration 621, loss = 0.15322622\n",
      "Iteration 622, loss = 0.15322291\n",
      "Iteration 623, loss = 0.15372912\n",
      "Iteration 624, loss = 0.15293830\n",
      "Iteration 625, loss = 0.15219148\n",
      "Iteration 626, loss = 0.15242049\n",
      "Iteration 627, loss = 0.15197093\n",
      "Iteration 628, loss = 0.15202780\n",
      "Iteration 629, loss = 0.15139729\n",
      "Iteration 630, loss = 0.15179700\n",
      "Iteration 631, loss = 0.15153316\n",
      "Iteration 632, loss = 0.15093548\n",
      "Iteration 633, loss = 0.15070215\n",
      "Iteration 634, loss = 0.15109576\n",
      "Iteration 635, loss = 0.15143704\n",
      "Iteration 636, loss = 0.15035772\n",
      "Iteration 637, loss = 0.15060715\n",
      "Iteration 638, loss = 0.15041761\n",
      "Iteration 639, loss = 0.15006560\n",
      "Iteration 640, loss = 0.15041268\n",
      "Iteration 641, loss = 0.15058867\n",
      "Iteration 642, loss = 0.15039347\n",
      "Iteration 643, loss = 0.14923591\n",
      "Iteration 644, loss = 0.14969903\n",
      "Iteration 645, loss = 0.14938282\n",
      "Iteration 646, loss = 0.14949606\n",
      "Iteration 647, loss = 0.14919645\n",
      "Iteration 648, loss = 0.14912638\n",
      "Iteration 649, loss = 0.14902863\n",
      "Iteration 650, loss = 0.14887614\n",
      "Iteration 651, loss = 0.14844882\n",
      "Iteration 652, loss = 0.14845875\n",
      "Iteration 653, loss = 0.14860834\n",
      "Iteration 654, loss = 0.14852488\n",
      "Iteration 655, loss = 0.14910767\n",
      "Iteration 656, loss = 0.14753988\n",
      "Iteration 657, loss = 0.14793800\n",
      "Iteration 658, loss = 0.14761457\n",
      "Iteration 659, loss = 0.14782814\n",
      "Iteration 660, loss = 0.14935874\n",
      "Iteration 661, loss = 0.14836883\n",
      "Iteration 662, loss = 0.14777240\n",
      "Iteration 663, loss = 0.14830653\n",
      "Iteration 664, loss = 0.14728265\n",
      "Iteration 665, loss = 0.14745886\n",
      "Iteration 666, loss = 0.14737687\n",
      "Iteration 667, loss = 0.14693226\n",
      "Iteration 668, loss = 0.14658048\n",
      "Iteration 669, loss = 0.14650928\n",
      "Iteration 670, loss = 0.14672955\n",
      "Iteration 671, loss = 0.14700257\n",
      "Iteration 672, loss = 0.14729087\n",
      "Iteration 673, loss = 0.14618369\n",
      "Iteration 674, loss = 0.14659725\n",
      "Iteration 675, loss = 0.14583626\n",
      "Iteration 676, loss = 0.14611893\n",
      "Iteration 677, loss = 0.14570037\n",
      "Iteration 678, loss = 0.14529794\n",
      "Iteration 679, loss = 0.14637194\n",
      "Iteration 680, loss = 0.14486936\n",
      "Iteration 681, loss = 0.14498847\n",
      "Iteration 682, loss = 0.14578544\n",
      "Iteration 683, loss = 0.14521579\n",
      "Iteration 684, loss = 0.14488867\n",
      "Iteration 685, loss = 0.14508836\n",
      "Iteration 686, loss = 0.14495845\n",
      "Iteration 687, loss = 0.14449638\n",
      "Iteration 688, loss = 0.14436174\n",
      "Iteration 689, loss = 0.14431585\n",
      "Iteration 690, loss = 0.14452740\n",
      "Iteration 691, loss = 0.14420710\n",
      "Iteration 692, loss = 0.14342178\n",
      "Iteration 693, loss = 0.14394388\n",
      "Iteration 694, loss = 0.14398322\n",
      "Iteration 695, loss = 0.14375329\n",
      "Iteration 696, loss = 0.14351048\n",
      "Iteration 697, loss = 0.14418150\n",
      "Iteration 698, loss = 0.14409513\n",
      "Iteration 699, loss = 0.14486083\n",
      "Iteration 700, loss = 0.14287453\n",
      "Iteration 701, loss = 0.14307234\n",
      "Iteration 702, loss = 0.14276144\n",
      "Iteration 703, loss = 0.14260241\n",
      "Iteration 704, loss = 0.14233649\n",
      "Iteration 705, loss = 0.14257868\n",
      "Iteration 706, loss = 0.14216577\n",
      "Iteration 707, loss = 0.14242534\n",
      "Iteration 708, loss = 0.14254315\n",
      "Iteration 709, loss = 0.14258598\n",
      "Iteration 710, loss = 0.14184043\n",
      "Iteration 711, loss = 0.14215218\n",
      "Iteration 712, loss = 0.14150841\n",
      "Iteration 713, loss = 0.14156849\n",
      "Iteration 714, loss = 0.14173905\n",
      "Iteration 715, loss = 0.14138962\n",
      "Iteration 716, loss = 0.14139512\n",
      "Iteration 717, loss = 0.14084439\n",
      "Iteration 718, loss = 0.14099977\n",
      "Iteration 719, loss = 0.14099449\n",
      "Iteration 720, loss = 0.14062360\n",
      "Iteration 721, loss = 0.14044595\n",
      "Iteration 722, loss = 0.14158267\n",
      "Iteration 723, loss = 0.14129018\n",
      "Iteration 724, loss = 0.14036236\n",
      "Iteration 725, loss = 0.14027652\n",
      "Iteration 726, loss = 0.14060908\n",
      "Iteration 727, loss = 0.13988628\n",
      "Iteration 728, loss = 0.14027151\n",
      "Iteration 729, loss = 0.13982827\n",
      "Iteration 730, loss = 0.14145959\n",
      "Iteration 731, loss = 0.14018229\n",
      "Iteration 732, loss = 0.14103888\n",
      "Iteration 733, loss = 0.13974710\n",
      "Iteration 734, loss = 0.13933411\n",
      "Iteration 735, loss = 0.13958131\n",
      "Iteration 736, loss = 0.13981995\n",
      "Iteration 737, loss = 0.13904218\n",
      "Iteration 738, loss = 0.14085110\n",
      "Iteration 739, loss = 0.13987449\n",
      "Iteration 740, loss = 0.14115790\n",
      "Iteration 741, loss = 0.13834866\n",
      "Iteration 742, loss = 0.13857494\n",
      "Iteration 743, loss = 0.13860845\n",
      "Iteration 744, loss = 0.13832928\n",
      "Iteration 745, loss = 0.13832647\n",
      "Iteration 746, loss = 0.13830340\n",
      "Iteration 747, loss = 0.13779111\n",
      "Iteration 748, loss = 0.13811398\n",
      "Iteration 749, loss = 0.13819882\n",
      "Iteration 750, loss = 0.13813855\n",
      "Iteration 751, loss = 0.13771301\n",
      "Iteration 752, loss = 0.13751991\n",
      "Iteration 753, loss = 0.13808972\n",
      "Iteration 754, loss = 0.13936271\n",
      "Iteration 755, loss = 0.13789524\n",
      "Iteration 756, loss = 0.13786687\n",
      "Iteration 757, loss = 0.13704142\n",
      "Iteration 758, loss = 0.13689545\n",
      "Iteration 759, loss = 0.13728686\n",
      "Iteration 760, loss = 0.13637413\n",
      "Iteration 761, loss = 0.13650151\n",
      "Iteration 762, loss = 0.13735826\n",
      "Iteration 763, loss = 0.13601352\n",
      "Iteration 764, loss = 0.13653263\n",
      "Iteration 765, loss = 0.13621157\n"
     ]
    },
    {
     "name": "stdout",
     "output_type": "stream",
     "text": [
      "Iteration 766, loss = 0.13615521\n",
      "Iteration 767, loss = 0.13565119\n",
      "Iteration 768, loss = 0.13617004\n",
      "Iteration 769, loss = 0.13609077\n",
      "Iteration 770, loss = 0.13596570\n",
      "Iteration 771, loss = 0.13558387\n",
      "Iteration 772, loss = 0.13598623\n",
      "Iteration 773, loss = 0.13563824\n",
      "Iteration 774, loss = 0.13525923\n",
      "Iteration 775, loss = 0.13496129\n",
      "Iteration 776, loss = 0.13530654\n",
      "Iteration 777, loss = 0.13502543\n",
      "Iteration 778, loss = 0.13603499\n",
      "Iteration 779, loss = 0.13557997\n",
      "Iteration 780, loss = 0.13460777\n",
      "Iteration 781, loss = 0.13547056\n",
      "Iteration 782, loss = 0.13519143\n",
      "Iteration 783, loss = 0.13546490\n",
      "Iteration 784, loss = 0.13508174\n",
      "Iteration 785, loss = 0.13507319\n",
      "Iteration 786, loss = 0.13613370\n",
      "Iteration 787, loss = 0.13576339\n",
      "Iteration 788, loss = 0.13432683\n",
      "Iteration 789, loss = 0.13456171\n",
      "Iteration 790, loss = 0.13520538\n",
      "Iteration 791, loss = 0.13415217\n",
      "Iteration 792, loss = 0.13432208\n",
      "Iteration 793, loss = 0.13436791\n",
      "Iteration 794, loss = 0.13458851\n",
      "Iteration 795, loss = 0.13380980\n",
      "Iteration 796, loss = 0.13316886\n",
      "Iteration 797, loss = 0.13357735\n",
      "Iteration 798, loss = 0.13389710\n",
      "Iteration 799, loss = 0.13400529\n",
      "Iteration 800, loss = 0.13324057\n",
      "Iteration 801, loss = 0.13435398\n",
      "Iteration 802, loss = 0.13500853\n",
      "Iteration 803, loss = 0.13359172\n",
      "Iteration 804, loss = 0.13323972\n",
      "Iteration 805, loss = 0.13302243\n",
      "Iteration 806, loss = 0.13286412\n",
      "Iteration 807, loss = 0.13255060\n",
      "Iteration 808, loss = 0.13298139\n",
      "Iteration 809, loss = 0.13287743\n",
      "Iteration 810, loss = 0.13276922\n",
      "Iteration 811, loss = 0.13301905\n",
      "Iteration 812, loss = 0.13250046\n",
      "Iteration 813, loss = 0.13285348\n",
      "Iteration 814, loss = 0.13320882\n",
      "Iteration 815, loss = 0.13266353\n",
      "Iteration 816, loss = 0.13191061\n",
      "Iteration 817, loss = 0.13222671\n",
      "Iteration 818, loss = 0.13237875\n",
      "Iteration 819, loss = 0.13174210\n",
      "Iteration 820, loss = 0.13161130\n",
      "Iteration 821, loss = 0.13226819\n",
      "Iteration 822, loss = 0.13158602\n",
      "Iteration 823, loss = 0.13147228\n",
      "Iteration 824, loss = 0.13161666\n",
      "Iteration 825, loss = 0.13146913\n",
      "Iteration 826, loss = 0.13133595\n",
      "Iteration 827, loss = 0.13119810\n",
      "Iteration 828, loss = 0.13095004\n",
      "Iteration 829, loss = 0.13121903\n",
      "Iteration 830, loss = 0.13100952\n",
      "Iteration 831, loss = 0.13119578\n",
      "Iteration 832, loss = 0.13075935\n",
      "Iteration 833, loss = 0.13055400\n",
      "Iteration 834, loss = 0.13076205\n",
      "Iteration 835, loss = 0.13086142\n",
      "Iteration 836, loss = 0.13134695\n",
      "Iteration 837, loss = 0.13291547\n",
      "Iteration 838, loss = 0.13253121\n",
      "Iteration 839, loss = 0.13105139\n",
      "Iteration 840, loss = 0.13105616\n",
      "Iteration 841, loss = 0.13018170\n",
      "Iteration 842, loss = 0.13081783\n",
      "Iteration 843, loss = 0.13029174\n",
      "Iteration 844, loss = 0.13137896\n",
      "Iteration 845, loss = 0.13005464\n",
      "Iteration 846, loss = 0.13078424\n",
      "Iteration 847, loss = 0.13083155\n",
      "Iteration 848, loss = 0.13020005\n",
      "Iteration 849, loss = 0.12970394\n",
      "Iteration 850, loss = 0.13009810\n",
      "Iteration 851, loss = 0.13062620\n",
      "Iteration 852, loss = 0.13052873\n",
      "Iteration 853, loss = 0.13014446\n",
      "Iteration 854, loss = 0.12936065\n",
      "Iteration 855, loss = 0.12919800\n",
      "Iteration 856, loss = 0.12932122\n",
      "Iteration 857, loss = 0.12919280\n",
      "Iteration 858, loss = 0.12945814\n",
      "Iteration 859, loss = 0.12913310\n",
      "Iteration 860, loss = 0.12882949\n",
      "Iteration 861, loss = 0.12894091\n",
      "Iteration 862, loss = 0.12885550\n",
      "Iteration 863, loss = 0.12915265\n",
      "Iteration 864, loss = 0.12978237\n",
      "Iteration 865, loss = 0.12868653\n",
      "Iteration 866, loss = 0.12896423\n",
      "Iteration 867, loss = 0.12893193\n",
      "Iteration 868, loss = 0.12795789\n",
      "Iteration 869, loss = 0.12936623\n",
      "Iteration 870, loss = 0.12852951\n",
      "Iteration 871, loss = 0.12826890\n",
      "Iteration 872, loss = 0.12818804\n",
      "Iteration 873, loss = 0.12892081\n",
      "Iteration 874, loss = 0.12866645\n",
      "Iteration 875, loss = 0.12803200\n",
      "Iteration 876, loss = 0.12804325\n",
      "Iteration 877, loss = 0.12827203\n",
      "Iteration 878, loss = 0.12814915\n",
      "Iteration 879, loss = 0.12846640\n",
      "Training loss did not improve more than tol=0.000100 for 10 consecutive epochs. Stopping.\n"
     ]
    },
    {
     "data": {
      "text/plain": [
       "RandomizedSearchCV(cv=5, estimator=MLPClassifier(verbose=True), n_jobs=-1,\n",
       "                   param_distributions={'activation': ['identity', 'logistic',\n",
       "                                                       'relu', 'softmax',\n",
       "                                                       'tanh'],\n",
       "                                        'alpha': [0.0001, 0.05],\n",
       "                                        'hidden_layer_sizes': [100],\n",
       "                                        'learning_rate': ['adaptive'],\n",
       "                                        'max_iter': [1000],\n",
       "                                        'solver': ['adam']})"
      ]
     },
     "execution_count": 59,
     "metadata": {},
     "output_type": "execute_result"
    }
   ],
   "source": [
    "clfrandom.fit(train_x, train_y)"
   ]
  },
  {
   "cell_type": "code",
   "execution_count": 60,
   "metadata": {},
   "outputs": [
    {
     "data": {
      "text/plain": [
       "{'solver': 'adam',\n",
       " 'max_iter': 1000,\n",
       " 'learning_rate': 'adaptive',\n",
       " 'hidden_layer_sizes': 100,\n",
       " 'alpha': 0.05,\n",
       " 'activation': 'relu'}"
      ]
     },
     "execution_count": 60,
     "metadata": {},
     "output_type": "execute_result"
    }
   ],
   "source": [
    "clfrandom.best_params_"
   ]
  },
  {
   "cell_type": "code",
   "execution_count": 61,
   "metadata": {},
   "outputs": [
    {
     "data": {
      "text/plain": [
       "MLPClassifier(alpha=0.05, hidden_layer_sizes=100, learning_rate='adaptive',\n",
       "              max_iter=1000, verbose=True)"
      ]
     },
     "execution_count": 61,
     "metadata": {},
     "output_type": "execute_result"
    }
   ],
   "source": [
    "clfrandom.best_estimator_"
   ]
  },
  {
   "cell_type": "code",
   "execution_count": 62,
   "metadata": {},
   "outputs": [
    {
     "name": "stdout",
     "output_type": "stream",
     "text": [
      "0.7394285714285715 {'solver': 'adam', 'max_iter': 1000, 'learning_rate': 'adaptive', 'hidden_layer_sizes': 100, 'alpha': 0.0001, 'activation': 'identity'}\n",
      "0.7411428571428571 {'solver': 'adam', 'max_iter': 1000, 'learning_rate': 'adaptive', 'hidden_layer_sizes': 100, 'alpha': 0.05, 'activation': 'identity'}\n",
      "0.7868571428571428 {'solver': 'adam', 'max_iter': 1000, 'learning_rate': 'adaptive', 'hidden_layer_sizes': 100, 'alpha': 0.0001, 'activation': 'logistic'}\n",
      "0.7537142857142857 {'solver': 'adam', 'max_iter': 1000, 'learning_rate': 'adaptive', 'hidden_layer_sizes': 100, 'alpha': 0.05, 'activation': 'logistic'}\n",
      "0.8354285714285714 {'solver': 'adam', 'max_iter': 1000, 'learning_rate': 'adaptive', 'hidden_layer_sizes': 100, 'alpha': 0.0001, 'activation': 'relu'}\n",
      "0.846857142857143 {'solver': 'adam', 'max_iter': 1000, 'learning_rate': 'adaptive', 'hidden_layer_sizes': 100, 'alpha': 0.05, 'activation': 'relu'}\n",
      "nan {'solver': 'adam', 'max_iter': 1000, 'learning_rate': 'adaptive', 'hidden_layer_sizes': 100, 'alpha': 0.0001, 'activation': 'softmax'}\n",
      "nan {'solver': 'adam', 'max_iter': 1000, 'learning_rate': 'adaptive', 'hidden_layer_sizes': 100, 'alpha': 0.05, 'activation': 'softmax'}\n",
      "0.8434285714285714 {'solver': 'adam', 'max_iter': 1000, 'learning_rate': 'adaptive', 'hidden_layer_sizes': 100, 'alpha': 0.0001, 'activation': 'tanh'}\n",
      "0.8411428571428573 {'solver': 'adam', 'max_iter': 1000, 'learning_rate': 'adaptive', 'hidden_layer_sizes': 100, 'alpha': 0.05, 'activation': 'tanh'}\n"
     ]
    }
   ],
   "source": [
    "cvres = clfrandom.cv_results_\n",
    "for mean_score, params in zip(cvres[\"mean_test_score\"], cvres[\"params\"]):\n",
    "    print(mean_score, params)"
   ]
  },
  {
   "cell_type": "code",
   "execution_count": 63,
   "metadata": {},
   "outputs": [
    {
     "name": "stdout",
     "output_type": "stream",
     "text": [
      "0.9897142857142858\n"
     ]
    }
   ],
   "source": [
    "train_y_pred = clfrandom.best_estimator_.predict(train_x)\n",
    "\n",
    "print(accuracy_score(train_y, train_y_pred))"
   ]
  },
  {
   "cell_type": "code",
   "execution_count": 64,
   "metadata": {},
   "outputs": [
    {
     "name": "stdout",
     "output_type": "stream",
     "text": [
      "0.864\n"
     ]
    }
   ],
   "source": [
    "test_y_pred = clfrandom.best_estimator_.predict(test_x)\n",
    "\n",
    "print(accuracy_score(test_y, test_y_pred))"
   ]
  },
  {
   "cell_type": "markdown",
   "metadata": {},
   "source": [
    "## Neural Network using Grid Search"
   ]
  },
  {
   "cell_type": "code",
   "execution_count": 65,
   "metadata": {},
   "outputs": [],
   "source": [
    "mlp_gs = MLPClassifier(max_iter=1000)\n",
    "parameter_space = {\n",
    "    'hidden_layer_sizes': [(100,80,60,40,20,10),(20,10)],\n",
    "    'activation': ['tanh', 'relu'],\n",
    "    'solver': ['sgd', 'adam'],\n",
    "    'alpha': [0.0001, 0.05],\n",
    "    'learning_rate': ['constant','adaptive'],\n",
    "}\n",
    "from sklearn.model_selection import GridSearchCV\n",
    "clf = GridSearchCV(mlp_gs, parameter_space, n_jobs=-1, cv=5)"
   ]
  },
  {
   "cell_type": "code",
   "execution_count": 66,
   "metadata": {},
   "outputs": [
    {
     "data": {
      "text/plain": [
       "GridSearchCV(cv=5, estimator=MLPClassifier(max_iter=1000), n_jobs=-1,\n",
       "             param_grid={'activation': ['tanh', 'relu'],\n",
       "                         'alpha': [0.0001, 0.05],\n",
       "                         'hidden_layer_sizes': [(100, 80, 60, 40, 20, 10),\n",
       "                                                (20, 10)],\n",
       "                         'learning_rate': ['constant', 'adaptive'],\n",
       "                         'solver': ['sgd', 'adam']})"
      ]
     },
     "execution_count": 66,
     "metadata": {},
     "output_type": "execute_result"
    }
   ],
   "source": [
    "clf.fit(train_x, train_y)"
   ]
  },
  {
   "cell_type": "code",
   "execution_count": 67,
   "metadata": {},
   "outputs": [
    {
     "name": "stdout",
     "output_type": "stream",
     "text": [
      "0.8211428571428572 {'activation': 'tanh', 'alpha': 0.0001, 'hidden_layer_sizes': (100, 80, 60, 40, 20, 10), 'learning_rate': 'constant', 'solver': 'sgd'}\n",
      "0.8245714285714285 {'activation': 'tanh', 'alpha': 0.0001, 'hidden_layer_sizes': (100, 80, 60, 40, 20, 10), 'learning_rate': 'constant', 'solver': 'adam'}\n",
      "0.8251428571428571 {'activation': 'tanh', 'alpha': 0.0001, 'hidden_layer_sizes': (100, 80, 60, 40, 20, 10), 'learning_rate': 'adaptive', 'solver': 'sgd'}\n",
      "0.8274285714285714 {'activation': 'tanh', 'alpha': 0.0001, 'hidden_layer_sizes': (100, 80, 60, 40, 20, 10), 'learning_rate': 'adaptive', 'solver': 'adam'}\n",
      "0.7514285714285714 {'activation': 'tanh', 'alpha': 0.0001, 'hidden_layer_sizes': (20, 10), 'learning_rate': 'constant', 'solver': 'sgd'}\n",
      "0.8119999999999999 {'activation': 'tanh', 'alpha': 0.0001, 'hidden_layer_sizes': (20, 10), 'learning_rate': 'constant', 'solver': 'adam'}\n",
      "0.756 {'activation': 'tanh', 'alpha': 0.0001, 'hidden_layer_sizes': (20, 10), 'learning_rate': 'adaptive', 'solver': 'sgd'}\n",
      "0.8291428571428572 {'activation': 'tanh', 'alpha': 0.0001, 'hidden_layer_sizes': (20, 10), 'learning_rate': 'adaptive', 'solver': 'adam'}\n",
      "0.8154285714285715 {'activation': 'tanh', 'alpha': 0.05, 'hidden_layer_sizes': (100, 80, 60, 40, 20, 10), 'learning_rate': 'constant', 'solver': 'sgd'}\n",
      "0.828 {'activation': 'tanh', 'alpha': 0.05, 'hidden_layer_sizes': (100, 80, 60, 40, 20, 10), 'learning_rate': 'constant', 'solver': 'adam'}\n",
      "0.8160000000000001 {'activation': 'tanh', 'alpha': 0.05, 'hidden_layer_sizes': (100, 80, 60, 40, 20, 10), 'learning_rate': 'adaptive', 'solver': 'sgd'}\n",
      "0.8388571428571427 {'activation': 'tanh', 'alpha': 0.05, 'hidden_layer_sizes': (100, 80, 60, 40, 20, 10), 'learning_rate': 'adaptive', 'solver': 'adam'}\n",
      "0.7445714285714284 {'activation': 'tanh', 'alpha': 0.05, 'hidden_layer_sizes': (20, 10), 'learning_rate': 'constant', 'solver': 'sgd'}\n",
      "0.8182857142857143 {'activation': 'tanh', 'alpha': 0.05, 'hidden_layer_sizes': (20, 10), 'learning_rate': 'constant', 'solver': 'adam'}\n",
      "0.744 {'activation': 'tanh', 'alpha': 0.05, 'hidden_layer_sizes': (20, 10), 'learning_rate': 'adaptive', 'solver': 'sgd'}\n",
      "0.814857142857143 {'activation': 'tanh', 'alpha': 0.05, 'hidden_layer_sizes': (20, 10), 'learning_rate': 'adaptive', 'solver': 'adam'}\n",
      "0.8297142857142857 {'activation': 'relu', 'alpha': 0.0001, 'hidden_layer_sizes': (100, 80, 60, 40, 20, 10), 'learning_rate': 'constant', 'solver': 'sgd'}\n",
      "0.8348571428571429 {'activation': 'relu', 'alpha': 0.0001, 'hidden_layer_sizes': (100, 80, 60, 40, 20, 10), 'learning_rate': 'constant', 'solver': 'adam'}\n",
      "0.8377142857142857 {'activation': 'relu', 'alpha': 0.0001, 'hidden_layer_sizes': (100, 80, 60, 40, 20, 10), 'learning_rate': 'adaptive', 'solver': 'sgd'}\n",
      "0.8342857142857142 {'activation': 'relu', 'alpha': 0.0001, 'hidden_layer_sizes': (100, 80, 60, 40, 20, 10), 'learning_rate': 'adaptive', 'solver': 'adam'}\n",
      "0.7657142857142857 {'activation': 'relu', 'alpha': 0.0001, 'hidden_layer_sizes': (20, 10), 'learning_rate': 'constant', 'solver': 'sgd'}\n",
      "0.8057142857142858 {'activation': 'relu', 'alpha': 0.0001, 'hidden_layer_sizes': (20, 10), 'learning_rate': 'constant', 'solver': 'adam'}\n",
      "0.7485714285714286 {'activation': 'relu', 'alpha': 0.0001, 'hidden_layer_sizes': (20, 10), 'learning_rate': 'adaptive', 'solver': 'sgd'}\n",
      "0.8268571428571428 {'activation': 'relu', 'alpha': 0.0001, 'hidden_layer_sizes': (20, 10), 'learning_rate': 'adaptive', 'solver': 'adam'}\n",
      "0.8320000000000001 {'activation': 'relu', 'alpha': 0.05, 'hidden_layer_sizes': (100, 80, 60, 40, 20, 10), 'learning_rate': 'constant', 'solver': 'sgd'}\n",
      "0.837142857142857 {'activation': 'relu', 'alpha': 0.05, 'hidden_layer_sizes': (100, 80, 60, 40, 20, 10), 'learning_rate': 'constant', 'solver': 'adam'}\n",
      "0.8365714285714286 {'activation': 'relu', 'alpha': 0.05, 'hidden_layer_sizes': (100, 80, 60, 40, 20, 10), 'learning_rate': 'adaptive', 'solver': 'sgd'}\n",
      "0.8320000000000001 {'activation': 'relu', 'alpha': 0.05, 'hidden_layer_sizes': (100, 80, 60, 40, 20, 10), 'learning_rate': 'adaptive', 'solver': 'adam'}\n",
      "0.7577142857142858 {'activation': 'relu', 'alpha': 0.05, 'hidden_layer_sizes': (20, 10), 'learning_rate': 'constant', 'solver': 'sgd'}\n",
      "0.8160000000000001 {'activation': 'relu', 'alpha': 0.05, 'hidden_layer_sizes': (20, 10), 'learning_rate': 'constant', 'solver': 'adam'}\n",
      "0.7571428571428571 {'activation': 'relu', 'alpha': 0.05, 'hidden_layer_sizes': (20, 10), 'learning_rate': 'adaptive', 'solver': 'sgd'}\n",
      "0.8017142857142858 {'activation': 'relu', 'alpha': 0.05, 'hidden_layer_sizes': (20, 10), 'learning_rate': 'adaptive', 'solver': 'adam'}\n"
     ]
    }
   ],
   "source": [
    "cvres = clf.cv_results_\n",
    "for mean_score, params in zip(cvres[\"mean_test_score\"], cvres[\"params\"]):\n",
    "    print(mean_score, params)"
   ]
  },
  {
   "cell_type": "code",
   "execution_count": 68,
   "metadata": {},
   "outputs": [
    {
     "name": "stdout",
     "output_type": "stream",
     "text": [
      "0.992\n"
     ]
    }
   ],
   "source": [
    "train_y_pred = clf.best_estimator_.predict(train_x)\n",
    "\n",
    "print(accuracy_score(train_y, train_y_pred))"
   ]
  },
  {
   "cell_type": "code",
   "execution_count": 69,
   "metadata": {},
   "outputs": [
    {
     "name": "stdout",
     "output_type": "stream",
     "text": [
      "0.856\n"
     ]
    }
   ],
   "source": [
    "test_y_pred = clf.best_estimator_.predict(test_x)\n",
    "\n",
    "print(accuracy_score(test_y, test_y_pred))"
   ]
  },
  {
   "cell_type": "markdown",
   "metadata": {},
   "source": [
    "# Discussion\n",
    "\n",
    "\n",
    "1) Which model performs the best (and why)?<br>\n",
    "2) What is the baseline value?<br>\n",
    "3) Does the best model perform better than the baseline (and why)?<br>\n",
    "4) Does the best model exhibit any overfitting; what did you do about it?"
   ]
  },
  {
   "cell_type": "raw",
   "metadata": {},
   "source": [
    "1)The best model is \"Neural Network model using Activation function and solver\" and \"Neural network model with increased number of iterations\" both have test accuracy of 86.5%\n",
    "2)The baseline accuracy is 60.3%\n",
    "3)The best model performs better than baseline with test accuracy of 86.53% over baseline accuracy of 60.3%\n",
    "4)The best model does exhibit overfitting,and tried applying alpha values to reduce the overfitting which reduced the test accuracy."
   ]
  },
  {
   "cell_type": "markdown",
   "metadata": {},
   "source": [
    "## Extra Credit"
   ]
  },
  {
   "cell_type": "code",
   "execution_count": 70,
   "metadata": {},
   "outputs": [],
   "source": [
    "import pandas as pd\n",
    "import numpy as np\n",
    "loan_competition = pd.read_csv(\"loan-competition.csv\")\n",
    "loan_competition=loan_competition.drop(['id'],axis=1)"
   ]
  },
  {
   "cell_type": "code",
   "execution_count": 71,
   "metadata": {},
   "outputs": [],
   "source": [
    "def new_col(df):\n",
    "    #Create a copy so that we don't overwrite the existing dataframe\n",
    "    df1 = df.copy()\n",
    "    \n",
    "    #df1['QUANTILEDEBT'] = pd.qcut(train_inputs['DEBTINC'],5, duplicates='drop',\n",
    "     #                   labels=['1', '2', '3','4','5'])\n",
    "    \n",
    "    df1['POSSIBLELOANDEFAULT'] = np.where(df1['DEBTINC'] >= 50, 1, 0)\n",
    "\n",
    "    return np.where(df1[['POSSIBLELOANDEFAULT']]==1)"
   ]
  },
  {
   "cell_type": "code",
   "execution_count": 72,
   "metadata": {},
   "outputs": [
    {
     "data": {
      "text/plain": [
       "(array([150, 162, 272, 279, 315, 382], dtype=int64),\n",
       " array([0, 0, 0, 0, 0, 0], dtype=int64))"
      ]
     },
     "execution_count": 72,
     "metadata": {},
     "output_type": "execute_result"
    }
   ],
   "source": [
    "new_col(loan_competition)"
   ]
  },
  {
   "cell_type": "code",
   "execution_count": 73,
   "metadata": {},
   "outputs": [
    {
     "data": {
      "text/plain": [
       "LOAN         int64\n",
       "MORTDUE    float64\n",
       "VALUE      float64\n",
       "REASON      object\n",
       "JOB         object\n",
       "YOJ        float64\n",
       "DEROG      float64\n",
       "DELINQ     float64\n",
       "CLAGE      float64\n",
       "NINQ       float64\n",
       "CLNO       float64\n",
       "DEBTINC    float64\n",
       "dtype: object"
      ]
     },
     "execution_count": 73,
     "metadata": {},
     "output_type": "execute_result"
    }
   ],
   "source": [
    "loan_competition.dtypes"
   ]
  },
  {
   "cell_type": "code",
   "execution_count": 74,
   "metadata": {},
   "outputs": [],
   "source": [
    "# Identify the numerical columns\n",
    "numeric_columns = loan_competition.select_dtypes(include=[np.number]).columns.to_list()\n",
    "\n",
    "# Identify the categorical columns\n",
    "categorical_columns = loan_competition.select_dtypes('object').columns.to_list()"
   ]
  },
  {
   "cell_type": "code",
   "execution_count": 75,
   "metadata": {},
   "outputs": [
    {
     "data": {
      "text/plain": [
       "['LOAN',\n",
       " 'MORTDUE',\n",
       " 'VALUE',\n",
       " 'YOJ',\n",
       " 'DEROG',\n",
       " 'DELINQ',\n",
       " 'CLAGE',\n",
       " 'NINQ',\n",
       " 'CLNO',\n",
       " 'DEBTINC']"
      ]
     },
     "execution_count": 75,
     "metadata": {},
     "output_type": "execute_result"
    }
   ],
   "source": [
    "numeric_columns"
   ]
  },
  {
   "cell_type": "code",
   "execution_count": 76,
   "metadata": {},
   "outputs": [
    {
     "data": {
      "text/plain": [
       "['REASON', 'JOB']"
      ]
     },
     "execution_count": 76,
     "metadata": {},
     "output_type": "execute_result"
    }
   ],
   "source": [
    "categorical_columns"
   ]
  },
  {
   "cell_type": "code",
   "execution_count": 77,
   "metadata": {},
   "outputs": [],
   "source": [
    "transformed_columns = ['DEBTINC']"
   ]
  },
  {
   "cell_type": "code",
   "execution_count": 78,
   "metadata": {},
   "outputs": [
    {
     "data": {
      "text/plain": [
       "array([[-0.49146603, -0.06884386, -0.23546   , ...,  0.        ,\n",
       "         1.        ,  0.        ],\n",
       "       [ 0.78542446,  1.69034653,  1.38824304, ...,  0.        ,\n",
       "         1.        ,  0.        ],\n",
       "       [ 0.16471381,  0.74485769,  0.71485755, ...,  0.        ,\n",
       "         1.        ,  0.        ],\n",
       "       ...,\n",
       "       [ 0.9006993 ,  1.27519692,  1.18908187, ...,  0.        ,\n",
       "         1.        ,  0.        ],\n",
       "       [-0.12790693, -0.18844874, -1.23361078, ...,  0.        ,\n",
       "         1.        ,  0.        ],\n",
       "       [ 0.47506913,  0.42420842,  0.74809222, ...,  0.        ,\n",
       "         1.        ,  0.        ]])"
      ]
     },
     "execution_count": 78,
     "metadata": {},
     "output_type": "execute_result"
    }
   ],
   "source": [
    "testLoan = preprocessor.transform(loan_competition)\n",
    "\n",
    "testLoan"
   ]
  },
  {
   "cell_type": "code",
   "execution_count": 79,
   "metadata": {},
   "outputs": [],
   "source": [
    "bestprediction = dnn_clf.predict(testLoan)"
   ]
  },
  {
   "cell_type": "code",
   "execution_count": 80,
   "metadata": {},
   "outputs": [],
   "source": [
    "bestpredictiondf=pd.DataFrame(bestprediction,columns=['BAD'])"
   ]
  },
  {
   "cell_type": "code",
   "execution_count": 83,
   "metadata": {},
   "outputs": [],
   "source": [
    "bestpredictiondf.insert(1, \"ID\", np.arange(1, 407, 1).tolist(), False)"
   ]
  },
  {
   "cell_type": "code",
   "execution_count": 84,
   "metadata": {},
   "outputs": [
    {
     "data": {
      "text/html": [
       "<div>\n",
       "<style scoped>\n",
       "    .dataframe tbody tr th:only-of-type {\n",
       "        vertical-align: middle;\n",
       "    }\n",
       "\n",
       "    .dataframe tbody tr th {\n",
       "        vertical-align: top;\n",
       "    }\n",
       "\n",
       "    .dataframe thead th {\n",
       "        text-align: right;\n",
       "    }\n",
       "</style>\n",
       "<table border=\"1\" class=\"dataframe\">\n",
       "  <thead>\n",
       "    <tr style=\"text-align: right;\">\n",
       "      <th></th>\n",
       "      <th>BAD</th>\n",
       "      <th>ID</th>\n",
       "    </tr>\n",
       "  </thead>\n",
       "  <tbody>\n",
       "    <tr>\n",
       "      <th>0</th>\n",
       "      <td>1</td>\n",
       "      <td>1</td>\n",
       "    </tr>\n",
       "    <tr>\n",
       "      <th>1</th>\n",
       "      <td>0</td>\n",
       "      <td>2</td>\n",
       "    </tr>\n",
       "    <tr>\n",
       "      <th>2</th>\n",
       "      <td>1</td>\n",
       "      <td>3</td>\n",
       "    </tr>\n",
       "    <tr>\n",
       "      <th>3</th>\n",
       "      <td>0</td>\n",
       "      <td>4</td>\n",
       "    </tr>\n",
       "    <tr>\n",
       "      <th>4</th>\n",
       "      <td>0</td>\n",
       "      <td>5</td>\n",
       "    </tr>\n",
       "  </tbody>\n",
       "</table>\n",
       "</div>"
      ],
      "text/plain": [
       "   BAD  ID\n",
       "0    1   1\n",
       "1    0   2\n",
       "2    1   3\n",
       "3    0   4\n",
       "4    0   5"
      ]
     },
     "execution_count": 84,
     "metadata": {},
     "output_type": "execute_result"
    }
   ],
   "source": [
    "bestpredictiondf.head()\n"
   ]
  },
  {
   "cell_type": "code",
   "execution_count": 85,
   "metadata": {},
   "outputs": [],
   "source": [
    "bestpredictiondf.to_csv('salian_tm_competition.csv',index=False)"
   ]
  },
  {
   "cell_type": "code",
   "execution_count": null,
   "metadata": {},
   "outputs": [],
   "source": []
  }
 ],
 "metadata": {
  "kernelspec": {
   "display_name": "Python 3",
   "language": "python",
   "name": "python3"
  },
  "language_info": {
   "codemirror_mode": {
    "name": "ipython",
    "version": 3
   },
   "file_extension": ".py",
   "mimetype": "text/x-python",
   "name": "python",
   "nbconvert_exporter": "python",
   "pygments_lexer": "ipython3",
   "version": "3.8.5"
  }
 },
 "nbformat": 4,
 "nbformat_minor": 2
}
