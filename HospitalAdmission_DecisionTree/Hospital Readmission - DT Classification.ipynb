{
 "cells": [
  {
   "cell_type": "markdown",
   "metadata": {},
   "source": [
    "# Hospital Readmission due to Diabetes - Decision Tree Classification"
   ]
  },
  {
   "cell_type": "markdown",
   "metadata": {},
   "source": [
    "This data set is made available by the Center for Clinical and Translational Research, Virginia Commonwealth University. It contains data about 10 years of clinical care at 130 US Hospitals. Each row represents a single patient. The columns include the characteristics of deidentified diabetes patients. This is a binary classification task: predict whether a diabetes patient is readmitted to the hospital within 30 days of their discharge (1=Yes, 0=No). This is an important performance metric for hospitals as they try to minimize these types of readmissions."
   ]
  },
  {
   "cell_type": "markdown",
   "metadata": {},
   "source": [
    "## Description of Variables\n",
    "\n",
    "The description of variables are provided in \"Healthcare - Data Dictionary.docx\""
   ]
  },
  {
   "cell_type": "markdown",
   "metadata": {},
   "source": [
    "## Goal\n",
    "\n",
    "Use the **healthcare.csv** data set and build a model to predict **readmitted**."
   ]
  },
  {
   "cell_type": "markdown",
   "metadata": {},
   "source": [
    "# Read and Prepare the Data\n",
    "## feature engineering: create one new variable from existing ones"
   ]
  },
  {
   "cell_type": "markdown",
   "metadata": {},
   "source": [
    "### Setup "
   ]
  },
  {
   "cell_type": "code",
   "execution_count": 1,
   "metadata": {},
   "outputs": [],
   "source": [
    "# Common imports\n",
    "import numpy as np\n",
    "import pandas as pd\n",
    "\n",
    "np.random.seed(42)"
   ]
  },
  {
   "cell_type": "code",
   "execution_count": 2,
   "metadata": {},
   "outputs": [
    {
     "data": {
      "text/html": [
       "<div>\n",
       "<style scoped>\n",
       "    .dataframe tbody tr th:only-of-type {\n",
       "        vertical-align: middle;\n",
       "    }\n",
       "\n",
       "    .dataframe tbody tr th {\n",
       "        vertical-align: top;\n",
       "    }\n",
       "\n",
       "    .dataframe thead th {\n",
       "        text-align: right;\n",
       "    }\n",
       "</style>\n",
       "<table border=\"1\" class=\"dataframe\">\n",
       "  <thead>\n",
       "    <tr style=\"text-align: right;\">\n",
       "      <th></th>\n",
       "      <th>race</th>\n",
       "      <th>gender</th>\n",
       "      <th>age</th>\n",
       "      <th>admission_type</th>\n",
       "      <th>discharge_disposition</th>\n",
       "      <th>admission_source</th>\n",
       "      <th>time_in_hospital</th>\n",
       "      <th>payer_code</th>\n",
       "      <th>medical_specialty</th>\n",
       "      <th>num_lab_procedures</th>\n",
       "      <th>...</th>\n",
       "      <th>diag_1</th>\n",
       "      <th>diag_2</th>\n",
       "      <th>diag_3</th>\n",
       "      <th>number_diagnoses</th>\n",
       "      <th>max_glu_serum</th>\n",
       "      <th>A1Cresult</th>\n",
       "      <th>insulin</th>\n",
       "      <th>change</th>\n",
       "      <th>diabetesMed</th>\n",
       "      <th>readmitted</th>\n",
       "    </tr>\n",
       "  </thead>\n",
       "  <tbody>\n",
       "    <tr>\n",
       "      <th>0</th>\n",
       "      <td>Other</td>\n",
       "      <td>Female</td>\n",
       "      <td>70-80</td>\n",
       "      <td>2</td>\n",
       "      <td>3</td>\n",
       "      <td>1</td>\n",
       "      <td>14</td>\n",
       "      <td>NaN</td>\n",
       "      <td>InternalMedicine</td>\n",
       "      <td>32</td>\n",
       "      <td>...</td>\n",
       "      <td>486</td>\n",
       "      <td>404</td>\n",
       "      <td>428</td>\n",
       "      <td>9</td>\n",
       "      <td>None</td>\n",
       "      <td>None</td>\n",
       "      <td>No</td>\n",
       "      <td>No</td>\n",
       "      <td>No</td>\n",
       "      <td>1</td>\n",
       "    </tr>\n",
       "    <tr>\n",
       "      <th>1</th>\n",
       "      <td>Caucasian</td>\n",
       "      <td>Female</td>\n",
       "      <td>80-90</td>\n",
       "      <td>1</td>\n",
       "      <td>3</td>\n",
       "      <td>5</td>\n",
       "      <td>4</td>\n",
       "      <td>MC</td>\n",
       "      <td>NaN</td>\n",
       "      <td>44</td>\n",
       "      <td>...</td>\n",
       "      <td>38</td>\n",
       "      <td>438</td>\n",
       "      <td>599</td>\n",
       "      <td>9</td>\n",
       "      <td>None</td>\n",
       "      <td>None</td>\n",
       "      <td>Steady</td>\n",
       "      <td>Ch</td>\n",
       "      <td>Yes</td>\n",
       "      <td>0</td>\n",
       "    </tr>\n",
       "    <tr>\n",
       "      <th>2</th>\n",
       "      <td>AfricanAmerican</td>\n",
       "      <td>Male</td>\n",
       "      <td>50-60</td>\n",
       "      <td>5</td>\n",
       "      <td>1</td>\n",
       "      <td>1</td>\n",
       "      <td>6</td>\n",
       "      <td>HM</td>\n",
       "      <td>NaN</td>\n",
       "      <td>29</td>\n",
       "      <td>...</td>\n",
       "      <td>296</td>\n",
       "      <td>585</td>\n",
       "      <td>428</td>\n",
       "      <td>9</td>\n",
       "      <td>None</td>\n",
       "      <td>None</td>\n",
       "      <td>Up</td>\n",
       "      <td>Ch</td>\n",
       "      <td>Yes</td>\n",
       "      <td>1</td>\n",
       "    </tr>\n",
       "    <tr>\n",
       "      <th>3</th>\n",
       "      <td>Caucasian</td>\n",
       "      <td>Female</td>\n",
       "      <td>50-60</td>\n",
       "      <td>1</td>\n",
       "      <td>1</td>\n",
       "      <td>6</td>\n",
       "      <td>3</td>\n",
       "      <td>HM</td>\n",
       "      <td>InternalMedicine</td>\n",
       "      <td>47</td>\n",
       "      <td>...</td>\n",
       "      <td>250.02</td>\n",
       "      <td>401</td>\n",
       "      <td>493</td>\n",
       "      <td>4</td>\n",
       "      <td>None</td>\n",
       "      <td>&gt;8</td>\n",
       "      <td>No</td>\n",
       "      <td>Ch</td>\n",
       "      <td>Yes</td>\n",
       "      <td>0</td>\n",
       "    </tr>\n",
       "    <tr>\n",
       "      <th>4</th>\n",
       "      <td>AfricanAmerican</td>\n",
       "      <td>Female</td>\n",
       "      <td>40-50</td>\n",
       "      <td>3</td>\n",
       "      <td>1</td>\n",
       "      <td>1</td>\n",
       "      <td>4</td>\n",
       "      <td>UN</td>\n",
       "      <td>Hematology</td>\n",
       "      <td>92</td>\n",
       "      <td>...</td>\n",
       "      <td>486</td>\n",
       "      <td>287</td>\n",
       "      <td>595</td>\n",
       "      <td>7</td>\n",
       "      <td>None</td>\n",
       "      <td>&gt;7</td>\n",
       "      <td>No</td>\n",
       "      <td>No</td>\n",
       "      <td>No</td>\n",
       "      <td>0</td>\n",
       "    </tr>\n",
       "  </tbody>\n",
       "</table>\n",
       "<p>5 rows × 25 columns</p>\n",
       "</div>"
      ],
      "text/plain": [
       "              race  gender    age  admission_type  discharge_disposition  \\\n",
       "0            Other  Female  70-80               2                      3   \n",
       "1        Caucasian  Female  80-90               1                      3   \n",
       "2  AfricanAmerican    Male  50-60               5                      1   \n",
       "3        Caucasian  Female  50-60               1                      1   \n",
       "4  AfricanAmerican  Female  40-50               3                      1   \n",
       "\n",
       "   admission_source  time_in_hospital payer_code medical_specialty  \\\n",
       "0                 1                14        NaN  InternalMedicine   \n",
       "1                 5                 4         MC               NaN   \n",
       "2                 1                 6         HM               NaN   \n",
       "3                 6                 3         HM  InternalMedicine   \n",
       "4                 1                 4         UN        Hematology   \n",
       "\n",
       "   num_lab_procedures  ...  diag_1  diag_2  diag_3  number_diagnoses  \\\n",
       "0                  32  ...     486     404     428                 9   \n",
       "1                  44  ...      38     438     599                 9   \n",
       "2                  29  ...     296     585     428                 9   \n",
       "3                  47  ...  250.02     401     493                 4   \n",
       "4                  92  ...     486     287     595                 7   \n",
       "\n",
       "   max_glu_serum A1Cresult insulin change  diabetesMed readmitted  \n",
       "0           None      None      No     No           No          1  \n",
       "1           None      None  Steady     Ch          Yes          0  \n",
       "2           None      None      Up     Ch          Yes          1  \n",
       "3           None        >8      No     Ch          Yes          0  \n",
       "4           None        >7      No     No           No          0  \n",
       "\n",
       "[5 rows x 25 columns]"
      ]
     },
     "execution_count": 2,
     "metadata": {},
     "output_type": "execute_result"
    }
   ],
   "source": [
    "\n",
    "healthcare = pd.read_csv(\"healthcare.csv\")\n",
    "healthcare.head()"
   ]
  },
  {
   "cell_type": "markdown",
   "metadata": {},
   "source": [
    "### Split data into train and test"
   ]
  },
  {
   "cell_type": "code",
   "execution_count": 3,
   "metadata": {},
   "outputs": [],
   "source": [
    "from sklearn.model_selection import train_test_split\n",
    "\n",
    "train_set, test_set = train_test_split(healthcare, test_size=0.3)"
   ]
  },
  {
   "cell_type": "markdown",
   "metadata": {},
   "source": [
    "### Check missing values"
   ]
  },
  {
   "cell_type": "code",
   "execution_count": 4,
   "metadata": {},
   "outputs": [
    {
     "data": {
      "text/plain": [
       "race                      114\n",
       "gender                      0\n",
       "age                         0\n",
       "admission_type              0\n",
       "discharge_disposition       0\n",
       "admission_source            0\n",
       "time_in_hospital            0\n",
       "payer_code               2492\n",
       "medical_specialty        3043\n",
       "num_lab_procedures          0\n",
       "num_procedures              0\n",
       "num_medications             0\n",
       "number_outpatient           0\n",
       "number_emergency            0\n",
       "number_inpatient            0\n",
       "diag_1                      3\n",
       "diag_2                     12\n",
       "diag_3                     62\n",
       "number_diagnoses            0\n",
       "max_glu_serum               0\n",
       "A1Cresult                   0\n",
       "insulin                     0\n",
       "change                      0\n",
       "diabetesMed                 0\n",
       "readmitted                  0\n",
       "dtype: int64"
      ]
     },
     "execution_count": 4,
     "metadata": {},
     "output_type": "execute_result"
    }
   ],
   "source": [
    "train_set.isna().sum()"
   ]
  },
  {
   "cell_type": "code",
   "execution_count": 5,
   "metadata": {},
   "outputs": [
    {
     "data": {
      "text/plain": [
       "race                       60\n",
       "gender                      0\n",
       "age                         0\n",
       "admission_type              0\n",
       "discharge_disposition       0\n",
       "admission_source            0\n",
       "time_in_hospital            0\n",
       "payer_code               1032\n",
       "medical_specialty        1306\n",
       "num_lab_procedures          0\n",
       "num_procedures              0\n",
       "num_medications             0\n",
       "number_outpatient           0\n",
       "number_emergency            0\n",
       "number_inpatient            0\n",
       "diag_1                      0\n",
       "diag_2                      8\n",
       "diag_3                     36\n",
       "number_diagnoses            0\n",
       "max_glu_serum               0\n",
       "A1Cresult                   0\n",
       "insulin                     0\n",
       "change                      0\n",
       "diabetesMed                 0\n",
       "readmitted                  0\n",
       "dtype: int64"
      ]
     },
     "execution_count": 5,
     "metadata": {},
     "output_type": "execute_result"
    }
   ],
   "source": [
    "test_set.isna().sum()"
   ]
  },
  {
   "cell_type": "markdown",
   "metadata": {},
   "source": [
    "### Data Prep"
   ]
  },
  {
   "cell_type": "code",
   "execution_count": 6,
   "metadata": {},
   "outputs": [],
   "source": [
    "from sklearn.compose import ColumnTransformer\n",
    "from sklearn.pipeline import Pipeline\n",
    "from sklearn.impute import SimpleImputer\n",
    "from sklearn.preprocessing import StandardScaler\n",
    "from sklearn.preprocessing import OneHotEncoder\n",
    "\n",
    "from sklearn.preprocessing import FunctionTransformer"
   ]
  },
  {
   "cell_type": "markdown",
   "metadata": {},
   "source": [
    "### Separate the target variables "
   ]
  },
  {
   "cell_type": "code",
   "execution_count": 7,
   "metadata": {},
   "outputs": [],
   "source": [
    "train_y = train_set['readmitted']\n",
    "test_y = test_set['readmitted']\n",
    "\n",
    "train_inputs = train_set.drop(['readmitted'], axis=1)\n",
    "test_inputs = test_set.drop(['readmitted'], axis=1)"
   ]
  },
  {
   "cell_type": "markdown",
   "metadata": {},
   "source": [
    "### Feature Engineering: Derive new column"
   ]
  },
  {
   "cell_type": "code",
   "execution_count": 8,
   "metadata": {},
   "outputs": [],
   "source": [
    "def new_col(df):\n",
    "    #Create a copy so that we don't overwrite the existing dataframe\n",
    "    df1 = df.copy()\n",
    "    \n",
    "    df1['A1cTestDone'] = np.where(df1['A1Cresult'] == 'None', 0, 1)\n",
    "    ##df1['ChancesofReadmission'] = np.where(df1['diag_1'] != 'V58', 0, 1)\n",
    "    return df1[['A1cTestDone']]\n",
    "    # You can use this to check whether the calculation is made correctly:\n",
    "    #return df1"
   ]
  },
  {
   "cell_type": "code",
   "execution_count": 9,
   "metadata": {},
   "outputs": [
    {
     "data": {
      "text/html": [
       "<div>\n",
       "<style scoped>\n",
       "    .dataframe tbody tr th:only-of-type {\n",
       "        vertical-align: middle;\n",
       "    }\n",
       "\n",
       "    .dataframe tbody tr th {\n",
       "        vertical-align: top;\n",
       "    }\n",
       "\n",
       "    .dataframe thead th {\n",
       "        text-align: right;\n",
       "    }\n",
       "</style>\n",
       "<table border=\"1\" class=\"dataframe\">\n",
       "  <thead>\n",
       "    <tr style=\"text-align: right;\">\n",
       "      <th></th>\n",
       "      <th>A1cTestDone</th>\n",
       "    </tr>\n",
       "  </thead>\n",
       "  <tbody>\n",
       "    <tr>\n",
       "      <th>4166</th>\n",
       "      <td>1</td>\n",
       "    </tr>\n",
       "    <tr>\n",
       "      <th>5546</th>\n",
       "      <td>0</td>\n",
       "    </tr>\n",
       "    <tr>\n",
       "      <th>2957</th>\n",
       "      <td>0</td>\n",
       "    </tr>\n",
       "    <tr>\n",
       "      <th>6329</th>\n",
       "      <td>1</td>\n",
       "    </tr>\n",
       "    <tr>\n",
       "      <th>565</th>\n",
       "      <td>0</td>\n",
       "    </tr>\n",
       "    <tr>\n",
       "      <th>...</th>\n",
       "      <td>...</td>\n",
       "    </tr>\n",
       "    <tr>\n",
       "      <th>5734</th>\n",
       "      <td>0</td>\n",
       "    </tr>\n",
       "    <tr>\n",
       "      <th>5191</th>\n",
       "      <td>0</td>\n",
       "    </tr>\n",
       "    <tr>\n",
       "      <th>5390</th>\n",
       "      <td>0</td>\n",
       "    </tr>\n",
       "    <tr>\n",
       "      <th>860</th>\n",
       "      <td>0</td>\n",
       "    </tr>\n",
       "    <tr>\n",
       "      <th>7270</th>\n",
       "      <td>0</td>\n",
       "    </tr>\n",
       "  </tbody>\n",
       "</table>\n",
       "<p>6066 rows × 1 columns</p>\n",
       "</div>"
      ],
      "text/plain": [
       "      A1cTestDone\n",
       "4166            1\n",
       "5546            0\n",
       "2957            0\n",
       "6329            1\n",
       "565             0\n",
       "...           ...\n",
       "5734            0\n",
       "5191            0\n",
       "5390            0\n",
       "860             0\n",
       "7270            0\n",
       "\n",
       "[6066 rows x 1 columns]"
      ]
     },
     "execution_count": 9,
     "metadata": {},
     "output_type": "execute_result"
    }
   ],
   "source": [
    "#Let's test the new function:\n",
    "\n",
    "# create a new dataframe from the column we need for the calculation\n",
    "subset_df = train_set[['A1Cresult']]\n",
    "\n",
    "# Send the new dataframe to the function we created\n",
    "new_col(subset_df)"
   ]
  },
  {
   "cell_type": "markdown",
   "metadata": {},
   "source": [
    "### Identify numerical and categorical variables "
   ]
  },
  {
   "cell_type": "code",
   "execution_count": 10,
   "metadata": {},
   "outputs": [
    {
     "data": {
      "text/plain": [
       "race                     object\n",
       "gender                   object\n",
       "age                      object\n",
       "admission_type            int64\n",
       "discharge_disposition     int64\n",
       "admission_source          int64\n",
       "time_in_hospital          int64\n",
       "payer_code               object\n",
       "medical_specialty        object\n",
       "num_lab_procedures        int64\n",
       "num_procedures            int64\n",
       "num_medications           int64\n",
       "number_outpatient         int64\n",
       "number_emergency          int64\n",
       "number_inpatient          int64\n",
       "diag_1                   object\n",
       "diag_2                   object\n",
       "diag_3                   object\n",
       "number_diagnoses          int64\n",
       "max_glu_serum            object\n",
       "A1Cresult                object\n",
       "insulin                  object\n",
       "change                   object\n",
       "diabetesMed              object\n",
       "dtype: object"
      ]
     },
     "execution_count": 10,
     "metadata": {},
     "output_type": "execute_result"
    }
   ],
   "source": [
    "train_inputs.dtypes"
   ]
  },
  {
   "cell_type": "code",
   "execution_count": 11,
   "metadata": {},
   "outputs": [],
   "source": [
    "train_inputs['admission_source']= train_inputs['admission_source'].astype('object')\n",
    "train_inputs['admission_type']= train_inputs['admission_type'].astype('object')\n",
    "train_inputs['discharge_disposition']= train_inputs['discharge_disposition'].astype('object')\n",
    "\n",
    "\n",
    "# Identify the numerical columns\n",
    "numeric_columns = train_inputs.select_dtypes(include=[np.number]).columns.to_list()\n",
    "\n",
    "# Identify the categorical columns\n",
    "categorical_columns = train_inputs.select_dtypes('object').columns.to_list()"
   ]
  },
  {
   "cell_type": "code",
   "execution_count": 12,
   "metadata": {},
   "outputs": [],
   "source": [
    "# Identify the binary columns so we can pass them through without transforming\n"
   ]
  },
  {
   "cell_type": "code",
   "execution_count": 13,
   "metadata": {},
   "outputs": [],
   "source": [
    "# Be careful: numerical columns already includes the binary columns,\n",
    "# So, we need to remove the binary columns from numerical columns.\n",
    "\n",
    "#for col in binary_columns:\n",
    " #   numeric_columns.remove(col)"
   ]
  },
  {
   "cell_type": "code",
   "execution_count": 14,
   "metadata": {},
   "outputs": [
    {
     "data": {
      "text/plain": [
       "['race',\n",
       " 'gender',\n",
       " 'age',\n",
       " 'admission_type',\n",
       " 'discharge_disposition',\n",
       " 'admission_source',\n",
       " 'payer_code',\n",
       " 'medical_specialty',\n",
       " 'diag_1',\n",
       " 'diag_2',\n",
       " 'diag_3',\n",
       " 'max_glu_serum',\n",
       " 'A1Cresult',\n",
       " 'insulin',\n",
       " 'change',\n",
       " 'diabetesMed']"
      ]
     },
     "execution_count": 14,
     "metadata": {},
     "output_type": "execute_result"
    }
   ],
   "source": [
    "categorical_columns"
   ]
  },
  {
   "cell_type": "code",
   "execution_count": 15,
   "metadata": {},
   "outputs": [
    {
     "data": {
      "text/plain": [
       "['time_in_hospital',\n",
       " 'num_lab_procedures',\n",
       " 'num_procedures',\n",
       " 'num_medications',\n",
       " 'number_outpatient',\n",
       " 'number_emergency',\n",
       " 'number_inpatient',\n",
       " 'number_diagnoses']"
      ]
     },
     "execution_count": 15,
     "metadata": {},
     "output_type": "execute_result"
    }
   ],
   "source": [
    "numeric_columns"
   ]
  },
  {
   "cell_type": "code",
   "execution_count": 16,
   "metadata": {},
   "outputs": [],
   "source": [
    "transformed_columns = ['A1Cresult']"
   ]
  },
  {
   "cell_type": "markdown",
   "metadata": {},
   "source": [
    "### Pipeline"
   ]
  },
  {
   "cell_type": "code",
   "execution_count": 17,
   "metadata": {},
   "outputs": [],
   "source": [
    "numeric_transformer = Pipeline(steps=[\n",
    "                ('imputer', SimpleImputer(strategy='median')),\n",
    "                ('scaler', StandardScaler())])"
   ]
  },
  {
   "cell_type": "code",
   "execution_count": 18,
   "metadata": {},
   "outputs": [],
   "source": [
    "categorical_transformer = Pipeline(steps=[\n",
    "    ('imputer', SimpleImputer(strategy='constant', fill_value='unknown')),\n",
    "    ('onehot', OneHotEncoder(handle_unknown='ignore'))])"
   ]
  },
  {
   "cell_type": "code",
   "execution_count": 19,
   "metadata": {},
   "outputs": [],
   "source": [
    "binary_transformer = Pipeline(steps=[\n",
    "    ('imputer', SimpleImputer(strategy='most_frequent'))])"
   ]
  },
  {
   "cell_type": "code",
   "execution_count": 20,
   "metadata": {},
   "outputs": [],
   "source": [
    "my_new_column = Pipeline(steps=[('my_new_column', FunctionTransformer(new_col))])"
   ]
  },
  {
   "cell_type": "code",
   "execution_count": 21,
   "metadata": {},
   "outputs": [],
   "source": [
    "preprocessor = ColumnTransformer([\n",
    "        ('num', numeric_transformer, numeric_columns),\n",
    "        ('cat', categorical_transformer, categorical_columns),\n",
    "        #('binary', binary_transformer, binary_columns),\n",
    "        ('trans', my_new_column, transformed_columns)\n",
    "],\n",
    "        remainder='passthrough')"
   ]
  },
  {
   "cell_type": "markdown",
   "metadata": {},
   "source": [
    "### Transform: fit_transform() for TRAIN"
   ]
  },
  {
   "cell_type": "code",
   "execution_count": 22,
   "metadata": {},
   "outputs": [
    {
     "data": {
      "text/plain": [
       "<6066x1322 sparse matrix of type '<class 'numpy.float64'>'\n",
       "\twith 146540 stored elements in Compressed Sparse Row format>"
      ]
     },
     "execution_count": 22,
     "metadata": {},
     "output_type": "execute_result"
    }
   ],
   "source": [
    "#Fit and transform the train data\n",
    "train_x = preprocessor.fit_transform(train_inputs)\n",
    "\n",
    "train_x"
   ]
  },
  {
   "cell_type": "markdown",
   "metadata": {},
   "source": [
    "### Tranform: transform() for TEST"
   ]
  },
  {
   "cell_type": "code",
   "execution_count": 23,
   "metadata": {},
   "outputs": [
    {
     "data": {
      "text/plain": [
       "<2600x1322 sparse matrix of type '<class 'numpy.float64'>'\n",
       "\twith 62668 stored elements in Compressed Sparse Row format>"
      ]
     },
     "execution_count": 23,
     "metadata": {},
     "output_type": "execute_result"
    }
   ],
   "source": [
    "# Transform the test data\n",
    "test_x = preprocessor.transform(test_inputs)\n",
    "\n",
    "test_x"
   ]
  },
  {
   "cell_type": "code",
   "execution_count": 24,
   "metadata": {},
   "outputs": [
    {
     "data": {
      "text/plain": [
       "(2600, 1322)"
      ]
     },
     "execution_count": 24,
     "metadata": {},
     "output_type": "execute_result"
    }
   ],
   "source": [
    "test_x.shape"
   ]
  },
  {
   "cell_type": "markdown",
   "metadata": {},
   "source": [
    "# Baseline:"
   ]
  },
  {
   "cell_type": "code",
   "execution_count": 25,
   "metadata": {},
   "outputs": [
    {
     "data": {
      "text/plain": [
       "0    0.531322\n",
       "1    0.468678\n",
       "Name: readmitted, dtype: float64"
      ]
     },
     "execution_count": 25,
     "metadata": {},
     "output_type": "execute_result"
    }
   ],
   "source": [
    "train_y.value_counts()/len(train_y)"
   ]
  },
  {
   "cell_type": "markdown",
   "metadata": {},
   "source": [
    "## Decision Tree Model 1"
   ]
  },
  {
   "cell_type": "code",
   "execution_count": 26,
   "metadata": {},
   "outputs": [
    {
     "data": {
      "text/plain": [
       "DecisionTreeClassifier(min_samples_leaf=10)"
      ]
     },
     "execution_count": 26,
     "metadata": {},
     "output_type": "execute_result"
    }
   ],
   "source": [
    "from sklearn.tree import DecisionTreeClassifier ##without parameters performs best--not always usually it overfits\n",
    "\n",
    "tree_clf = DecisionTreeClassifier(min_samples_leaf=10)\n",
    "#tree_clf = DecisionTreeClassifier()\n",
    "\n",
    "tree_clf.fit(train_x, train_y)"
   ]
  },
  {
   "cell_type": "markdown",
   "metadata": {},
   "source": [
    "### Accuracy"
   ]
  },
  {
   "cell_type": "code",
   "execution_count": 27,
   "metadata": {},
   "outputs": [],
   "source": [
    "from sklearn.metrics import accuracy_score"
   ]
  },
  {
   "cell_type": "code",
   "execution_count": 28,
   "metadata": {},
   "outputs": [
    {
     "name": "stdout",
     "output_type": "stream",
     "text": [
      "0.7515661061655127\n"
     ]
    }
   ],
   "source": [
    "#Train accuracy:\n",
    "train_y_pred = tree_clf.predict(train_x)\n",
    "\n",
    "print(accuracy_score(train_y, train_y_pred))"
   ]
  },
  {
   "cell_type": "code",
   "execution_count": 29,
   "metadata": {},
   "outputs": [
    {
     "name": "stdout",
     "output_type": "stream",
     "text": [
      "0.5603846153846154\n"
     ]
    }
   ],
   "source": [
    "#Test accuracy:\n",
    "test_y_pred = tree_clf.predict(test_x)\n",
    "\n",
    "print(accuracy_score(test_y, test_y_pred))\n",
    "\n",
    "##little overfitting"
   ]
  },
  {
   "cell_type": "markdown",
   "metadata": {},
   "source": [
    "### Classification Matrix"
   ]
  },
  {
   "cell_type": "code",
   "execution_count": 30,
   "metadata": {},
   "outputs": [
    {
     "data": {
      "text/plain": [
       "array([[863, 532],\n",
       "       [611, 594]], dtype=int64)"
      ]
     },
     "execution_count": 30,
     "metadata": {},
     "output_type": "execute_result"
    }
   ],
   "source": [
    "from sklearn.metrics import confusion_matrix\n",
    "\n",
    "#Test confusion matrix\n",
    "confusion_matrix(test_y, test_y_pred)"
   ]
  },
  {
   "cell_type": "markdown",
   "metadata": {},
   "source": [
    "### Classification Report"
   ]
  },
  {
   "cell_type": "code",
   "execution_count": 31,
   "metadata": {},
   "outputs": [
    {
     "name": "stdout",
     "output_type": "stream",
     "text": [
      "              precision    recall  f1-score   support\n",
      "\n",
      "           0       0.59      0.62      0.60      1395\n",
      "           1       0.53      0.49      0.51      1205\n",
      "\n",
      "    accuracy                           0.56      2600\n",
      "   macro avg       0.56      0.56      0.56      2600\n",
      "weighted avg       0.56      0.56      0.56      2600\n",
      "\n"
     ]
    }
   ],
   "source": [
    "from sklearn.metrics import classification_report\n",
    "\n",
    "print(classification_report(test_y, test_y_pred))"
   ]
  },
  {
   "cell_type": "markdown",
   "metadata": {},
   "source": [
    "# Decision Tree Model 2:"
   ]
  },
  {
   "cell_type": "code",
   "execution_count": 32,
   "metadata": {},
   "outputs": [
    {
     "data": {
      "text/plain": [
       "DecisionTreeClassifier(criterion='entropy', min_samples_leaf=15)"
      ]
     },
     "execution_count": 32,
     "metadata": {},
     "output_type": "execute_result"
    }
   ],
   "source": [
    "#tree_clf2 = DecisionTreeClassifier(min_samples_leaf = 10, max_depth=10,criterion='entropy')\n",
    "tree_clf2 = DecisionTreeClassifier(min_samples_leaf =15,criterion='entropy')\n",
    "tree_clf2.fit(train_x, train_y)"
   ]
  },
  {
   "cell_type": "code",
   "execution_count": 33,
   "metadata": {},
   "outputs": [
    {
     "name": "stdout",
     "output_type": "stream",
     "text": [
      "0.7276623804813716\n"
     ]
    }
   ],
   "source": [
    "#Train accuracy:\n",
    "train_y_pred = tree_clf2.predict(train_x)\n",
    "\n",
    "print(accuracy_score(train_y, train_y_pred))"
   ]
  },
  {
   "cell_type": "code",
   "execution_count": 34,
   "metadata": {},
   "outputs": [
    {
     "name": "stdout",
     "output_type": "stream",
     "text": [
      "0.5573076923076923\n"
     ]
    }
   ],
   "source": [
    "#Test accuracy:\n",
    "test_y_pred = tree_clf2.predict(test_x)\n",
    "\n",
    "print(accuracy_score(test_y, test_y_pred))"
   ]
  },
  {
   "cell_type": "code",
   "execution_count": 35,
   "metadata": {},
   "outputs": [
    {
     "data": {
      "text/plain": [
       "array([[869, 526],\n",
       "       [625, 580]], dtype=int64)"
      ]
     },
     "execution_count": 35,
     "metadata": {},
     "output_type": "execute_result"
    }
   ],
   "source": [
    "#Test confusion matrix\n",
    "confusion_matrix(test_y, test_y_pred)"
   ]
  },
  {
   "cell_type": "markdown",
   "metadata": {},
   "source": [
    "## Decision Tree Model 3:"
   ]
  },
  {
   "cell_type": "code",
   "execution_count": 36,
   "metadata": {},
   "outputs": [
    {
     "name": "stdout",
     "output_type": "stream",
     "text": [
      "Fitting 5 folds for each of 15 candidates, totalling 75 fits\n"
     ]
    },
    {
     "data": {
      "text/plain": [
       "RandomizedSearchCV(cv=5, estimator=DecisionTreeClassifier(), n_iter=15,\n",
       "                   param_distributions={'max_depth': <scipy.stats._distn_infrastructure.rv_frozen object at 0x000001A55D392EE0>,\n",
       "                                        'min_samples_leaf': <scipy.stats._distn_infrastructure.rv_frozen object at 0x000001A55D392FA0>},\n",
       "                   return_train_score=True, scoring='accuracy', verbose=1)"
      ]
     },
     "execution_count": 36,
     "metadata": {},
     "output_type": "execute_result"
    }
   ],
   "source": [
    "from sklearn.model_selection import RandomizedSearchCV\n",
    "from scipy.stats import randint\n",
    "\n",
    "param_grid = {'max_depth': randint(low=5, high=20), \n",
    "              'min_samples_leaf': randint(low=5, high=20)}\n",
    "\n",
    "tree_gs = RandomizedSearchCV(DecisionTreeClassifier(), param_grid, \n",
    "                             n_iter=15, cv=5, verbose=1,\n",
    "                             scoring='accuracy',\n",
    "                             return_train_score=True)\n",
    "\n",
    "tree_gs.fit(train_x, train_y)"
   ]
  },
  {
   "cell_type": "code",
   "execution_count": 37,
   "metadata": {},
   "outputs": [
    {
     "name": "stdout",
     "output_type": "stream",
     "text": [
      "0.5731955164466223 {'max_depth': 19, 'min_samples_leaf': 9}\n",
      "0.6028708757814506 {'max_depth': 10, 'min_samples_leaf': 13}\n",
      "0.5916622639690013 {'max_depth': 14, 'min_samples_leaf': 12}\n",
      "0.5966048749747042 {'max_depth': 6, 'min_samples_leaf': 5}\n",
      "0.5980881200503605 {'max_depth': 6, 'min_samples_leaf': 11}\n",
      "0.5980896140248896 {'max_depth': 8, 'min_samples_leaf': 14}\n",
      "0.5926469289995395 {'max_depth': 9, 'min_samples_leaf': 16}\n",
      "0.5984199182116854 {'max_depth': 11, 'min_samples_leaf': 7}\n",
      "0.589679895584762 {'max_depth': 14, 'min_samples_leaf': 6}\n",
      "0.578308576364508 {'max_depth': 17, 'min_samples_leaf': 11}\n",
      "0.5947905108170547 {'max_depth': 9, 'min_samples_leaf': 18}\n",
      "0.5689101184178538 {'max_depth': 19, 'min_samples_leaf': 5}\n",
      "0.6068278710455512 {'max_depth': 5, 'min_samples_leaf': 13}\n",
      "0.5964398586971728 {'max_depth': 9, 'min_samples_leaf': 5}\n",
      "0.5982550377500201 {'max_depth': 11, 'min_samples_leaf': 13}\n"
     ]
    }
   ],
   "source": [
    "cvres = tree_gs.cv_results_\n",
    "\n",
    "for mean_score, params in zip(cvres[\"mean_test_score\"], cvres[\"params\"]):\n",
    "    print(mean_score, params)"
   ]
  },
  {
   "cell_type": "code",
   "execution_count": 38,
   "metadata": {},
   "outputs": [
    {
     "data": {
      "text/plain": [
       "{'max_depth': 5, 'min_samples_leaf': 13}"
      ]
     },
     "execution_count": 38,
     "metadata": {},
     "output_type": "execute_result"
    }
   ],
   "source": [
    "#Find the best parameter set\n",
    "tree_gs.best_params_"
   ]
  },
  {
   "cell_type": "code",
   "execution_count": 39,
   "metadata": {},
   "outputs": [
    {
     "data": {
      "text/plain": [
       "DecisionTreeClassifier(max_depth=5, min_samples_leaf=13)"
      ]
     },
     "execution_count": 39,
     "metadata": {},
     "output_type": "execute_result"
    }
   ],
   "source": [
    "tree_gs.best_estimator_"
   ]
  },
  {
   "cell_type": "markdown",
   "metadata": {},
   "source": [
    "### Find feature importance and plot them"
   ]
  },
  {
   "cell_type": "code",
   "execution_count": 40,
   "metadata": {},
   "outputs": [],
   "source": [
    "importance=tree_gs.best_estimator_.feature_importances_"
   ]
  },
  {
   "cell_type": "code",
   "execution_count": 41,
   "metadata": {},
   "outputs": [
    {
     "name": "stdout",
     "output_type": "stream",
     "text": [
      "Feature: 0, Score: 0.00038\n",
      "Feature: 1, Score: 0.00368\n",
      "Feature: 2, Score: 0.00879\n",
      "Feature: 3, Score: 0.01341\n",
      "Feature: 4, Score: 0.00000\n",
      "Feature: 5, Score: 0.00276\n",
      "Feature: 6, Score: 0.55892\n",
      "Feature: 7, Score: 0.00000\n",
      "Feature: 8, Score: 0.00000\n",
      "Feature: 9, Score: 0.00000\n",
      "Feature: 10, Score: 0.00000\n",
      "Feature: 11, Score: 0.00000\n",
      "Feature: 12, Score: 0.00000\n",
      "Feature: 13, Score: 0.00000\n",
      "Feature: 14, Score: 0.00000\n",
      "Feature: 15, Score: 0.00000\n",
      "Feature: 16, Score: 0.00000\n",
      "Feature: 17, Score: 0.00000\n",
      "Feature: 18, Score: 0.00000\n",
      "Feature: 19, Score: 0.00000\n",
      "Feature: 20, Score: 0.00000\n",
      "Feature: 21, Score: 0.00000\n",
      "Feature: 22, Score: 0.00000\n",
      "Feature: 23, Score: 0.00000\n",
      "Feature: 24, Score: 0.00000\n",
      "Feature: 25, Score: 0.00000\n",
      "Feature: 26, Score: 0.00000\n",
      "Feature: 27, Score: 0.00000\n",
      "Feature: 28, Score: 0.00894\n",
      "Feature: 29, Score: 0.00000\n",
      "Feature: 30, Score: 0.00000\n",
      "Feature: 31, Score: 0.01017\n",
      "Feature: 32, Score: 0.00000\n",
      "Feature: 33, Score: 0.00000\n",
      "Feature: 34, Score: 0.00000\n",
      "Feature: 35, Score: 0.05469\n",
      "Feature: 36, Score: 0.00000\n",
      "Feature: 37, Score: 0.00000\n",
      "Feature: 38, Score: 0.00000\n",
      "Feature: 39, Score: 0.00000\n",
      "Feature: 40, Score: 0.00000\n",
      "Feature: 41, Score: 0.00000\n",
      "Feature: 42, Score: 0.07151\n",
      "Feature: 43, Score: 0.00000\n",
      "Feature: 44, Score: 0.00000\n",
      "Feature: 45, Score: 0.00000\n",
      "Feature: 46, Score: 0.00000\n",
      "Feature: 47, Score: 0.00000\n",
      "Feature: 48, Score: 0.11424\n",
      "Feature: 49, Score: 0.00000\n",
      "Feature: 50, Score: 0.00000\n",
      "Feature: 51, Score: 0.00000\n",
      "Feature: 52, Score: 0.00000\n",
      "Feature: 53, Score: 0.00000\n",
      "Feature: 54, Score: 0.00000\n",
      "Feature: 55, Score: 0.00000\n",
      "Feature: 56, Score: 0.00000\n",
      "Feature: 57, Score: 0.00000\n",
      "Feature: 58, Score: 0.00000\n",
      "Feature: 59, Score: 0.00000\n",
      "Feature: 60, Score: 0.00000\n",
      "Feature: 61, Score: 0.00000\n",
      "Feature: 62, Score: 0.00000\n",
      "Feature: 63, Score: 0.00000\n",
      "Feature: 64, Score: 0.00000\n",
      "Feature: 65, Score: 0.00000\n",
      "Feature: 66, Score: 0.00000\n",
      "Feature: 67, Score: 0.00000\n",
      "Feature: 68, Score: 0.00000\n",
      "Feature: 69, Score: 0.00000\n",
      "Feature: 70, Score: 0.00000\n",
      "Feature: 71, Score: 0.00000\n",
      "Feature: 72, Score: 0.00000\n",
      "Feature: 73, Score: 0.00000\n",
      "Feature: 74, Score: 0.00000\n",
      "Feature: 75, Score: 0.00000\n",
      "Feature: 76, Score: 0.00000\n",
      "Feature: 77, Score: 0.00000\n",
      "Feature: 78, Score: 0.00000\n",
      "Feature: 79, Score: 0.00000\n",
      "Feature: 80, Score: 0.01389\n",
      "Feature: 81, Score: 0.00000\n",
      "Feature: 82, Score: 0.00000\n",
      "Feature: 83, Score: 0.00000\n",
      "Feature: 84, Score: 0.00000\n",
      "Feature: 85, Score: 0.00000\n",
      "Feature: 86, Score: 0.00000\n",
      "Feature: 87, Score: 0.00000\n",
      "Feature: 88, Score: 0.00000\n",
      "Feature: 89, Score: 0.00000\n",
      "Feature: 90, Score: 0.00000\n",
      "Feature: 91, Score: 0.00000\n",
      "Feature: 92, Score: 0.00000\n",
      "Feature: 93, Score: 0.00000\n",
      "Feature: 94, Score: 0.00000\n",
      "Feature: 95, Score: 0.00000\n",
      "Feature: 96, Score: 0.00000\n",
      "Feature: 97, Score: 0.00000\n",
      "Feature: 98, Score: 0.00000\n",
      "Feature: 99, Score: 0.00000\n",
      "Feature: 100, Score: 0.00000\n",
      "Feature: 101, Score: 0.00000\n",
      "Feature: 102, Score: 0.00000\n",
      "Feature: 103, Score: 0.00000\n",
      "Feature: 104, Score: 0.00000\n",
      "Feature: 105, Score: 0.00000\n",
      "Feature: 106, Score: 0.00000\n",
      "Feature: 107, Score: 0.00000\n",
      "Feature: 108, Score: 0.00000\n",
      "Feature: 109, Score: 0.00000\n",
      "Feature: 110, Score: 0.00000\n",
      "Feature: 111, Score: 0.00000\n",
      "Feature: 112, Score: 0.00000\n",
      "Feature: 113, Score: 0.00000\n",
      "Feature: 114, Score: 0.00000\n",
      "Feature: 115, Score: 0.00000\n",
      "Feature: 116, Score: 0.00000\n",
      "Feature: 117, Score: 0.00000\n",
      "Feature: 118, Score: 0.00000\n",
      "Feature: 119, Score: 0.00000\n",
      "Feature: 120, Score: 0.00000\n",
      "Feature: 121, Score: 0.00000\n",
      "Feature: 122, Score: 0.00000\n",
      "Feature: 123, Score: 0.00000\n",
      "Feature: 124, Score: 0.00000\n",
      "Feature: 125, Score: 0.00000\n",
      "Feature: 126, Score: 0.00000\n",
      "Feature: 127, Score: 0.00000\n",
      "Feature: 128, Score: 0.00000\n",
      "Feature: 129, Score: 0.00000\n",
      "Feature: 130, Score: 0.00000\n",
      "Feature: 131, Score: 0.00000\n",
      "Feature: 132, Score: 0.00000\n",
      "Feature: 133, Score: 0.00000\n",
      "Feature: 134, Score: 0.00000\n",
      "Feature: 135, Score: 0.00000\n",
      "Feature: 136, Score: 0.00000\n",
      "Feature: 137, Score: 0.00000\n",
      "Feature: 138, Score: 0.00000\n",
      "Feature: 139, Score: 0.00000\n",
      "Feature: 140, Score: 0.00000\n",
      "Feature: 141, Score: 0.00000\n",
      "Feature: 142, Score: 0.00000\n",
      "Feature: 143, Score: 0.00000\n",
      "Feature: 144, Score: 0.00000\n",
      "Feature: 145, Score: 0.00000\n",
      "Feature: 146, Score: 0.00000\n",
      "Feature: 147, Score: 0.00000\n",
      "Feature: 148, Score: 0.00000\n",
      "Feature: 149, Score: 0.00000\n",
      "Feature: 150, Score: 0.00000\n",
      "Feature: 151, Score: 0.00000\n",
      "Feature: 152, Score: 0.00000\n",
      "Feature: 153, Score: 0.00000\n",
      "Feature: 154, Score: 0.00000\n",
      "Feature: 155, Score: 0.00000\n",
      "Feature: 156, Score: 0.00000\n",
      "Feature: 157, Score: 0.00000\n",
      "Feature: 158, Score: 0.00000\n",
      "Feature: 159, Score: 0.00000\n",
      "Feature: 160, Score: 0.00000\n",
      "Feature: 161, Score: 0.00000\n",
      "Feature: 162, Score: 0.00000\n",
      "Feature: 163, Score: 0.00000\n",
      "Feature: 164, Score: 0.00000\n",
      "Feature: 165, Score: 0.00000\n",
      "Feature: 166, Score: 0.00000\n",
      "Feature: 167, Score: 0.00000\n",
      "Feature: 168, Score: 0.00000\n",
      "Feature: 169, Score: 0.00000\n",
      "Feature: 170, Score: 0.00000\n",
      "Feature: 171, Score: 0.00000\n",
      "Feature: 172, Score: 0.00000\n",
      "Feature: 173, Score: 0.00000\n",
      "Feature: 174, Score: 0.00000\n",
      "Feature: 175, Score: 0.00000\n",
      "Feature: 176, Score: 0.00000\n",
      "Feature: 177, Score: 0.00000\n",
      "Feature: 178, Score: 0.00000\n",
      "Feature: 179, Score: 0.00000\n",
      "Feature: 180, Score: 0.00000\n",
      "Feature: 181, Score: 0.00000\n",
      "Feature: 182, Score: 0.00000\n",
      "Feature: 183, Score: 0.00000\n",
      "Feature: 184, Score: 0.00000\n",
      "Feature: 185, Score: 0.00000\n",
      "Feature: 186, Score: 0.00000\n",
      "Feature: 187, Score: 0.00000\n",
      "Feature: 188, Score: 0.00000\n",
      "Feature: 189, Score: 0.00000\n",
      "Feature: 190, Score: 0.00000\n",
      "Feature: 191, Score: 0.00000\n",
      "Feature: 192, Score: 0.00000\n",
      "Feature: 193, Score: 0.00000\n",
      "Feature: 194, Score: 0.00000\n",
      "Feature: 195, Score: 0.00000\n",
      "Feature: 196, Score: 0.00000\n",
      "Feature: 197, Score: 0.00000\n",
      "Feature: 198, Score: 0.00000\n",
      "Feature: 199, Score: 0.00000\n",
      "Feature: 200, Score: 0.00000\n",
      "Feature: 201, Score: 0.00000\n",
      "Feature: 202, Score: 0.00000\n",
      "Feature: 203, Score: 0.02674\n",
      "Feature: 204, Score: 0.00000\n",
      "Feature: 205, Score: 0.00000\n",
      "Feature: 206, Score: 0.00000\n",
      "Feature: 207, Score: 0.00000\n",
      "Feature: 208, Score: 0.00000\n",
      "Feature: 209, Score: 0.00000\n",
      "Feature: 210, Score: 0.00000\n",
      "Feature: 211, Score: 0.00000\n",
      "Feature: 212, Score: 0.00000\n",
      "Feature: 213, Score: 0.00000\n",
      "Feature: 214, Score: 0.00000\n",
      "Feature: 215, Score: 0.00000\n",
      "Feature: 216, Score: 0.00000\n",
      "Feature: 217, Score: 0.00000\n",
      "Feature: 218, Score: 0.00000\n",
      "Feature: 219, Score: 0.00000\n",
      "Feature: 220, Score: 0.00000\n",
      "Feature: 221, Score: 0.00000\n",
      "Feature: 222, Score: 0.00000\n",
      "Feature: 223, Score: 0.00000\n",
      "Feature: 224, Score: 0.00000\n",
      "Feature: 225, Score: 0.00000\n",
      "Feature: 226, Score: 0.00000\n",
      "Feature: 227, Score: 0.00000\n",
      "Feature: 228, Score: 0.00000\n",
      "Feature: 229, Score: 0.00000\n",
      "Feature: 230, Score: 0.00000\n",
      "Feature: 231, Score: 0.00000\n",
      "Feature: 232, Score: 0.00000\n",
      "Feature: 233, Score: 0.00000\n",
      "Feature: 234, Score: 0.00000\n",
      "Feature: 235, Score: 0.00000\n",
      "Feature: 236, Score: 0.00000\n",
      "Feature: 237, Score: 0.00000\n",
      "Feature: 238, Score: 0.00000\n",
      "Feature: 239, Score: 0.00000\n",
      "Feature: 240, Score: 0.00000\n",
      "Feature: 241, Score: 0.00000\n",
      "Feature: 242, Score: 0.00000\n",
      "Feature: 243, Score: 0.00000\n",
      "Feature: 244, Score: 0.00000\n",
      "Feature: 245, Score: 0.00000\n",
      "Feature: 246, Score: 0.00000\n",
      "Feature: 247, Score: 0.00000\n",
      "Feature: 248, Score: 0.00000\n",
      "Feature: 249, Score: 0.00000\n",
      "Feature: 250, Score: 0.00000\n",
      "Feature: 251, Score: 0.00000\n",
      "Feature: 252, Score: 0.00000\n",
      "Feature: 253, Score: 0.00000\n",
      "Feature: 254, Score: 0.00000\n",
      "Feature: 255, Score: 0.00000\n",
      "Feature: 256, Score: 0.00000\n",
      "Feature: 257, Score: 0.00000\n",
      "Feature: 258, Score: 0.00000\n",
      "Feature: 259, Score: 0.00000\n",
      "Feature: 260, Score: 0.00000\n",
      "Feature: 261, Score: 0.00000\n",
      "Feature: 262, Score: 0.00000\n",
      "Feature: 263, Score: 0.00000\n",
      "Feature: 264, Score: 0.00000\n",
      "Feature: 265, Score: 0.00000\n",
      "Feature: 266, Score: 0.00000\n",
      "Feature: 267, Score: 0.00000\n",
      "Feature: 268, Score: 0.00000\n",
      "Feature: 269, Score: 0.00000\n",
      "Feature: 270, Score: 0.00000\n",
      "Feature: 271, Score: 0.00000\n",
      "Feature: 272, Score: 0.00000\n",
      "Feature: 273, Score: 0.00000\n",
      "Feature: 274, Score: 0.00000\n",
      "Feature: 275, Score: 0.00000\n",
      "Feature: 276, Score: 0.00000\n",
      "Feature: 277, Score: 0.00000\n",
      "Feature: 278, Score: 0.00000\n",
      "Feature: 279, Score: 0.00000\n",
      "Feature: 280, Score: 0.00000\n",
      "Feature: 281, Score: 0.00000\n",
      "Feature: 282, Score: 0.00000\n",
      "Feature: 283, Score: 0.00000\n",
      "Feature: 284, Score: 0.00000\n",
      "Feature: 285, Score: 0.00000\n",
      "Feature: 286, Score: 0.00000\n",
      "Feature: 287, Score: 0.00000\n",
      "Feature: 288, Score: 0.00000\n",
      "Feature: 289, Score: 0.00000\n",
      "Feature: 290, Score: 0.00000\n",
      "Feature: 291, Score: 0.00000\n",
      "Feature: 292, Score: 0.00000\n",
      "Feature: 293, Score: 0.00000\n",
      "Feature: 294, Score: 0.00000\n",
      "Feature: 295, Score: 0.00000\n",
      "Feature: 296, Score: 0.00000\n",
      "Feature: 297, Score: 0.00000\n",
      "Feature: 298, Score: 0.00000\n",
      "Feature: 299, Score: 0.00573\n",
      "Feature: 300, Score: 0.00000\n",
      "Feature: 301, Score: 0.00000\n",
      "Feature: 302, Score: 0.00000\n",
      "Feature: 303, Score: 0.00000\n",
      "Feature: 304, Score: 0.00000\n",
      "Feature: 305, Score: 0.00000\n",
      "Feature: 306, Score: 0.00000\n",
      "Feature: 307, Score: 0.00000\n",
      "Feature: 308, Score: 0.00000\n",
      "Feature: 309, Score: 0.00000\n",
      "Feature: 310, Score: 0.00000\n",
      "Feature: 311, Score: 0.00000\n",
      "Feature: 312, Score: 0.00000\n",
      "Feature: 313, Score: 0.00000\n",
      "Feature: 314, Score: 0.00000\n",
      "Feature: 315, Score: 0.00000\n",
      "Feature: 316, Score: 0.00000\n",
      "Feature: 317, Score: 0.00000\n",
      "Feature: 318, Score: 0.00000\n",
      "Feature: 319, Score: 0.00000\n",
      "Feature: 320, Score: 0.00000\n",
      "Feature: 321, Score: 0.00000\n",
      "Feature: 322, Score: 0.00000\n",
      "Feature: 323, Score: 0.00000\n",
      "Feature: 324, Score: 0.00000\n",
      "Feature: 325, Score: 0.00000\n",
      "Feature: 326, Score: 0.00000\n",
      "Feature: 327, Score: 0.00000\n",
      "Feature: 328, Score: 0.00000\n",
      "Feature: 329, Score: 0.00000\n",
      "Feature: 330, Score: 0.00000\n",
      "Feature: 331, Score: 0.00000\n",
      "Feature: 332, Score: 0.00000\n",
      "Feature: 333, Score: 0.00000\n",
      "Feature: 334, Score: 0.00000\n",
      "Feature: 335, Score: 0.00000\n",
      "Feature: 336, Score: 0.00000\n",
      "Feature: 337, Score: 0.00000\n",
      "Feature: 338, Score: 0.00000\n",
      "Feature: 339, Score: 0.00000\n",
      "Feature: 340, Score: 0.00000\n",
      "Feature: 341, Score: 0.00000\n",
      "Feature: 342, Score: 0.00000\n",
      "Feature: 343, Score: 0.00000\n",
      "Feature: 344, Score: 0.00000\n",
      "Feature: 345, Score: 0.00000\n",
      "Feature: 346, Score: 0.00000\n",
      "Feature: 347, Score: 0.00000\n",
      "Feature: 348, Score: 0.00000\n",
      "Feature: 349, Score: 0.00000\n",
      "Feature: 350, Score: 0.00000\n",
      "Feature: 351, Score: 0.00000\n",
      "Feature: 352, Score: 0.00000\n",
      "Feature: 353, Score: 0.00000\n",
      "Feature: 354, Score: 0.00000\n",
      "Feature: 355, Score: 0.00000\n",
      "Feature: 356, Score: 0.00000\n",
      "Feature: 357, Score: 0.00000\n",
      "Feature: 358, Score: 0.00000\n",
      "Feature: 359, Score: 0.00000\n",
      "Feature: 360, Score: 0.00000\n",
      "Feature: 361, Score: 0.00000\n",
      "Feature: 362, Score: 0.00000\n",
      "Feature: 363, Score: 0.00000\n",
      "Feature: 364, Score: 0.00000\n",
      "Feature: 365, Score: 0.00000\n",
      "Feature: 366, Score: 0.00000\n",
      "Feature: 367, Score: 0.00000\n",
      "Feature: 368, Score: 0.00000\n",
      "Feature: 369, Score: 0.00000\n",
      "Feature: 370, Score: 0.00000\n",
      "Feature: 371, Score: 0.00000\n",
      "Feature: 372, Score: 0.00000\n",
      "Feature: 373, Score: 0.00000\n",
      "Feature: 374, Score: 0.00000\n",
      "Feature: 375, Score: 0.00000\n",
      "Feature: 376, Score: 0.00000\n",
      "Feature: 377, Score: 0.00000\n",
      "Feature: 378, Score: 0.00000\n",
      "Feature: 379, Score: 0.00000\n",
      "Feature: 380, Score: 0.00000\n",
      "Feature: 381, Score: 0.00000\n",
      "Feature: 382, Score: 0.00000\n",
      "Feature: 383, Score: 0.00000\n",
      "Feature: 384, Score: 0.00000\n",
      "Feature: 385, Score: 0.00000\n",
      "Feature: 386, Score: 0.00000\n",
      "Feature: 387, Score: 0.00000\n",
      "Feature: 388, Score: 0.00000\n",
      "Feature: 389, Score: 0.00000\n",
      "Feature: 390, Score: 0.00000\n",
      "Feature: 391, Score: 0.00000\n",
      "Feature: 392, Score: 0.00000\n",
      "Feature: 393, Score: 0.00000\n",
      "Feature: 394, Score: 0.00000\n",
      "Feature: 395, Score: 0.00000\n",
      "Feature: 396, Score: 0.00000\n",
      "Feature: 397, Score: 0.00000\n",
      "Feature: 398, Score: 0.00000\n",
      "Feature: 399, Score: 0.00000\n",
      "Feature: 400, Score: 0.00000\n",
      "Feature: 401, Score: 0.00000\n",
      "Feature: 402, Score: 0.00000\n",
      "Feature: 403, Score: 0.00000\n",
      "Feature: 404, Score: 0.00000\n",
      "Feature: 405, Score: 0.00000\n",
      "Feature: 406, Score: 0.00000\n",
      "Feature: 407, Score: 0.00000\n",
      "Feature: 408, Score: 0.00000\n",
      "Feature: 409, Score: 0.00000\n",
      "Feature: 410, Score: 0.00000\n",
      "Feature: 411, Score: 0.00000\n",
      "Feature: 412, Score: 0.00000\n",
      "Feature: 413, Score: 0.00000\n",
      "Feature: 414, Score: 0.00000\n",
      "Feature: 415, Score: 0.00000\n",
      "Feature: 416, Score: 0.00000\n",
      "Feature: 417, Score: 0.00000\n",
      "Feature: 418, Score: 0.00000\n",
      "Feature: 419, Score: 0.00000\n",
      "Feature: 420, Score: 0.00000\n",
      "Feature: 421, Score: 0.00000\n",
      "Feature: 422, Score: 0.00000\n",
      "Feature: 423, Score: 0.00000\n",
      "Feature: 424, Score: 0.00000\n",
      "Feature: 425, Score: 0.00000\n",
      "Feature: 426, Score: 0.00000\n",
      "Feature: 427, Score: 0.00000\n",
      "Feature: 428, Score: 0.00000\n",
      "Feature: 429, Score: 0.00000\n",
      "Feature: 430, Score: 0.00000\n",
      "Feature: 431, Score: 0.00000\n",
      "Feature: 432, Score: 0.00000\n",
      "Feature: 433, Score: 0.00000\n",
      "Feature: 434, Score: 0.00000\n",
      "Feature: 435, Score: 0.00000\n",
      "Feature: 436, Score: 0.00000\n",
      "Feature: 437, Score: 0.00000\n",
      "Feature: 438, Score: 0.00000\n",
      "Feature: 439, Score: 0.00000\n",
      "Feature: 440, Score: 0.00000\n",
      "Feature: 441, Score: 0.00000\n",
      "Feature: 442, Score: 0.00000\n",
      "Feature: 443, Score: 0.00000\n",
      "Feature: 444, Score: 0.00000\n",
      "Feature: 445, Score: 0.00000\n",
      "Feature: 446, Score: 0.00000\n",
      "Feature: 447, Score: 0.00000\n",
      "Feature: 448, Score: 0.00000\n",
      "Feature: 449, Score: 0.00000\n",
      "Feature: 450, Score: 0.00000\n",
      "Feature: 451, Score: 0.00000\n",
      "Feature: 452, Score: 0.00000\n",
      "Feature: 453, Score: 0.00000\n",
      "Feature: 454, Score: 0.00000\n",
      "Feature: 455, Score: 0.00000\n",
      "Feature: 456, Score: 0.00000\n",
      "Feature: 457, Score: 0.00000\n",
      "Feature: 458, Score: 0.00000\n",
      "Feature: 459, Score: 0.00000\n",
      "Feature: 460, Score: 0.00000\n",
      "Feature: 461, Score: 0.03285\n",
      "Feature: 462, Score: 0.00000\n",
      "Feature: 463, Score: 0.00000\n",
      "Feature: 464, Score: 0.00000\n",
      "Feature: 465, Score: 0.00000\n",
      "Feature: 466, Score: 0.00000\n",
      "Feature: 467, Score: 0.00000\n",
      "Feature: 468, Score: 0.00000\n",
      "Feature: 469, Score: 0.00000\n",
      "Feature: 470, Score: 0.00000\n",
      "Feature: 471, Score: 0.00000\n",
      "Feature: 472, Score: 0.00000\n",
      "Feature: 473, Score: 0.00000\n",
      "Feature: 474, Score: 0.00000\n",
      "Feature: 475, Score: 0.00000\n",
      "Feature: 476, Score: 0.00000\n",
      "Feature: 477, Score: 0.00000\n",
      "Feature: 478, Score: 0.00000\n",
      "Feature: 479, Score: 0.00000\n",
      "Feature: 480, Score: 0.00000\n",
      "Feature: 481, Score: 0.00000\n",
      "Feature: 482, Score: 0.00000\n",
      "Feature: 483, Score: 0.00000\n",
      "Feature: 484, Score: 0.00000\n",
      "Feature: 485, Score: 0.00000\n",
      "Feature: 486, Score: 0.00000\n",
      "Feature: 487, Score: 0.00000\n",
      "Feature: 488, Score: 0.00000\n",
      "Feature: 489, Score: 0.00000\n",
      "Feature: 490, Score: 0.00000\n",
      "Feature: 491, Score: 0.00000\n",
      "Feature: 492, Score: 0.00000\n",
      "Feature: 493, Score: 0.00000\n",
      "Feature: 494, Score: 0.00000\n",
      "Feature: 495, Score: 0.00000\n",
      "Feature: 496, Score: 0.00000\n",
      "Feature: 497, Score: 0.00000\n",
      "Feature: 498, Score: 0.00000\n",
      "Feature: 499, Score: 0.00000\n",
      "Feature: 500, Score: 0.00000\n",
      "Feature: 501, Score: 0.00000\n",
      "Feature: 502, Score: 0.00000\n",
      "Feature: 503, Score: 0.00000\n",
      "Feature: 504, Score: 0.00000\n",
      "Feature: 505, Score: 0.00000\n",
      "Feature: 506, Score: 0.00000\n",
      "Feature: 507, Score: 0.00000\n",
      "Feature: 508, Score: 0.00000\n",
      "Feature: 509, Score: 0.00000\n",
      "Feature: 510, Score: 0.00000\n",
      "Feature: 511, Score: 0.00000\n",
      "Feature: 512, Score: 0.00000\n",
      "Feature: 513, Score: 0.00000\n",
      "Feature: 514, Score: 0.00000\n",
      "Feature: 515, Score: 0.00000\n",
      "Feature: 516, Score: 0.00000\n",
      "Feature: 517, Score: 0.00000\n",
      "Feature: 518, Score: 0.00000\n",
      "Feature: 519, Score: 0.00000\n",
      "Feature: 520, Score: 0.00000\n",
      "Feature: 521, Score: 0.00000\n",
      "Feature: 522, Score: 0.00000\n",
      "Feature: 523, Score: 0.00000\n",
      "Feature: 524, Score: 0.00000\n",
      "Feature: 525, Score: 0.00000\n",
      "Feature: 526, Score: 0.00000\n",
      "Feature: 527, Score: 0.00000\n",
      "Feature: 528, Score: 0.00000\n",
      "Feature: 529, Score: 0.00000\n",
      "Feature: 530, Score: 0.00000\n",
      "Feature: 531, Score: 0.00000\n",
      "Feature: 532, Score: 0.00000\n",
      "Feature: 533, Score: 0.00000\n",
      "Feature: 534, Score: 0.00000\n",
      "Feature: 535, Score: 0.00000\n",
      "Feature: 536, Score: 0.00000\n",
      "Feature: 537, Score: 0.00000\n",
      "Feature: 538, Score: 0.00000\n",
      "Feature: 539, Score: 0.00000\n",
      "Feature: 540, Score: 0.00000\n",
      "Feature: 541, Score: 0.00000\n",
      "Feature: 542, Score: 0.00000\n",
      "Feature: 543, Score: 0.00000\n",
      "Feature: 544, Score: 0.00000\n",
      "Feature: 545, Score: 0.00000\n",
      "Feature: 546, Score: 0.00000\n",
      "Feature: 547, Score: 0.00000\n",
      "Feature: 548, Score: 0.00000\n",
      "Feature: 549, Score: 0.00000\n",
      "Feature: 550, Score: 0.00000\n",
      "Feature: 551, Score: 0.00000\n",
      "Feature: 552, Score: 0.00000\n",
      "Feature: 553, Score: 0.00000\n",
      "Feature: 554, Score: 0.00000\n",
      "Feature: 555, Score: 0.00000\n",
      "Feature: 556, Score: 0.00000\n",
      "Feature: 557, Score: 0.00000\n",
      "Feature: 558, Score: 0.00000\n",
      "Feature: 559, Score: 0.00000\n",
      "Feature: 560, Score: 0.00000\n",
      "Feature: 561, Score: 0.00000\n",
      "Feature: 562, Score: 0.00000\n",
      "Feature: 563, Score: 0.00000\n",
      "Feature: 564, Score: 0.00000\n",
      "Feature: 565, Score: 0.00000\n",
      "Feature: 566, Score: 0.00000\n",
      "Feature: 567, Score: 0.00000\n",
      "Feature: 568, Score: 0.00000\n",
      "Feature: 569, Score: 0.00000\n",
      "Feature: 570, Score: 0.00000\n",
      "Feature: 571, Score: 0.00000\n",
      "Feature: 572, Score: 0.00000\n",
      "Feature: 573, Score: 0.00000\n",
      "Feature: 574, Score: 0.00000\n",
      "Feature: 575, Score: 0.00000\n",
      "Feature: 576, Score: 0.00000\n",
      "Feature: 577, Score: 0.00000\n",
      "Feature: 578, Score: 0.00000\n",
      "Feature: 579, Score: 0.00000\n",
      "Feature: 580, Score: 0.00000\n",
      "Feature: 581, Score: 0.00000\n",
      "Feature: 582, Score: 0.00000\n",
      "Feature: 583, Score: 0.00000\n",
      "Feature: 584, Score: 0.00000\n",
      "Feature: 585, Score: 0.00000\n",
      "Feature: 586, Score: 0.00000\n",
      "Feature: 587, Score: 0.00000\n",
      "Feature: 588, Score: 0.00000\n",
      "Feature: 589, Score: 0.00000\n",
      "Feature: 590, Score: 0.00000\n",
      "Feature: 591, Score: 0.00000\n",
      "Feature: 592, Score: 0.00000\n",
      "Feature: 593, Score: 0.00000\n",
      "Feature: 594, Score: 0.00000\n",
      "Feature: 595, Score: 0.00000\n",
      "Feature: 596, Score: 0.00000\n",
      "Feature: 597, Score: 0.00000\n",
      "Feature: 598, Score: 0.00000\n",
      "Feature: 599, Score: 0.00000\n",
      "Feature: 600, Score: 0.00000\n",
      "Feature: 601, Score: 0.00000\n",
      "Feature: 602, Score: 0.00000\n",
      "Feature: 603, Score: 0.00000\n",
      "Feature: 604, Score: 0.00000\n",
      "Feature: 605, Score: 0.00000\n",
      "Feature: 606, Score: 0.00000\n",
      "Feature: 607, Score: 0.00000\n",
      "Feature: 608, Score: 0.00000\n",
      "Feature: 609, Score: 0.00000\n",
      "Feature: 610, Score: 0.00000\n",
      "Feature: 611, Score: 0.00000\n",
      "Feature: 612, Score: 0.00000\n",
      "Feature: 613, Score: 0.00000\n",
      "Feature: 614, Score: 0.00000\n",
      "Feature: 615, Score: 0.00000\n",
      "Feature: 616, Score: 0.00000\n",
      "Feature: 617, Score: 0.00000\n",
      "Feature: 618, Score: 0.00000\n",
      "Feature: 619, Score: 0.00000\n",
      "Feature: 620, Score: 0.00000\n",
      "Feature: 621, Score: 0.00000\n",
      "Feature: 622, Score: 0.00000\n",
      "Feature: 623, Score: 0.00000\n",
      "Feature: 624, Score: 0.00000\n",
      "Feature: 625, Score: 0.00000\n",
      "Feature: 626, Score: 0.00000\n",
      "Feature: 627, Score: 0.00000\n",
      "Feature: 628, Score: 0.00000\n",
      "Feature: 629, Score: 0.00000\n",
      "Feature: 630, Score: 0.00000\n",
      "Feature: 631, Score: 0.00000\n",
      "Feature: 632, Score: 0.00000\n",
      "Feature: 633, Score: 0.00000\n",
      "Feature: 634, Score: 0.00000\n",
      "Feature: 635, Score: 0.00000\n",
      "Feature: 636, Score: 0.00000\n",
      "Feature: 637, Score: 0.00000\n",
      "Feature: 638, Score: 0.00000\n",
      "Feature: 639, Score: 0.00000\n",
      "Feature: 640, Score: 0.00000\n",
      "Feature: 641, Score: 0.00000\n",
      "Feature: 642, Score: 0.00000\n",
      "Feature: 643, Score: 0.00000\n",
      "Feature: 644, Score: 0.00000\n",
      "Feature: 645, Score: 0.00000\n",
      "Feature: 646, Score: 0.00000\n",
      "Feature: 647, Score: 0.00000\n",
      "Feature: 648, Score: 0.00000\n",
      "Feature: 649, Score: 0.00000\n",
      "Feature: 650, Score: 0.00000\n",
      "Feature: 651, Score: 0.00000\n",
      "Feature: 652, Score: 0.00000\n",
      "Feature: 653, Score: 0.00000\n",
      "Feature: 654, Score: 0.00000\n",
      "Feature: 655, Score: 0.00000\n",
      "Feature: 656, Score: 0.00000\n",
      "Feature: 657, Score: 0.00000\n",
      "Feature: 658, Score: 0.00000\n",
      "Feature: 659, Score: 0.00000\n",
      "Feature: 660, Score: 0.00000\n",
      "Feature: 661, Score: 0.00000\n",
      "Feature: 662, Score: 0.00000\n",
      "Feature: 663, Score: 0.00000\n",
      "Feature: 664, Score: 0.00000\n",
      "Feature: 665, Score: 0.00000\n",
      "Feature: 666, Score: 0.00000\n",
      "Feature: 667, Score: 0.00000\n",
      "Feature: 668, Score: 0.00000\n",
      "Feature: 669, Score: 0.00000\n",
      "Feature: 670, Score: 0.00000\n",
      "Feature: 671, Score: 0.00000\n",
      "Feature: 672, Score: 0.00000\n",
      "Feature: 673, Score: 0.00000\n",
      "Feature: 674, Score: 0.00000\n",
      "Feature: 675, Score: 0.00000\n",
      "Feature: 676, Score: 0.00000\n",
      "Feature: 677, Score: 0.00000\n",
      "Feature: 678, Score: 0.00000\n",
      "Feature: 679, Score: 0.00000\n",
      "Feature: 680, Score: 0.00000\n",
      "Feature: 681, Score: 0.00000\n",
      "Feature: 682, Score: 0.00000\n",
      "Feature: 683, Score: 0.00000\n",
      "Feature: 684, Score: 0.00000\n",
      "Feature: 685, Score: 0.00000\n",
      "Feature: 686, Score: 0.00000\n",
      "Feature: 687, Score: 0.00000\n",
      "Feature: 688, Score: 0.00000\n",
      "Feature: 689, Score: 0.00000\n",
      "Feature: 690, Score: 0.00000\n",
      "Feature: 691, Score: 0.00000\n",
      "Feature: 692, Score: 0.00000\n",
      "Feature: 693, Score: 0.00000\n",
      "Feature: 694, Score: 0.00000\n",
      "Feature: 695, Score: 0.00000\n",
      "Feature: 696, Score: 0.00000\n",
      "Feature: 697, Score: 0.00000\n",
      "Feature: 698, Score: 0.00000\n",
      "Feature: 699, Score: 0.00000\n",
      "Feature: 700, Score: 0.00000\n",
      "Feature: 701, Score: 0.00000\n",
      "Feature: 702, Score: 0.00000\n",
      "Feature: 703, Score: 0.00000\n",
      "Feature: 704, Score: 0.00000\n",
      "Feature: 705, Score: 0.00000\n",
      "Feature: 706, Score: 0.00000\n",
      "Feature: 707, Score: 0.00000\n",
      "Feature: 708, Score: 0.00000\n",
      "Feature: 709, Score: 0.00000\n",
      "Feature: 710, Score: 0.00000\n",
      "Feature: 711, Score: 0.00000\n",
      "Feature: 712, Score: 0.00000\n",
      "Feature: 713, Score: 0.00000\n",
      "Feature: 714, Score: 0.00000\n",
      "Feature: 715, Score: 0.00000\n",
      "Feature: 716, Score: 0.00000\n",
      "Feature: 717, Score: 0.00000\n",
      "Feature: 718, Score: 0.00000\n",
      "Feature: 719, Score: 0.00000\n",
      "Feature: 720, Score: 0.00000\n",
      "Feature: 721, Score: 0.00000\n",
      "Feature: 722, Score: 0.00000\n",
      "Feature: 723, Score: 0.00000\n",
      "Feature: 724, Score: 0.00000\n",
      "Feature: 725, Score: 0.00000\n",
      "Feature: 726, Score: 0.00000\n",
      "Feature: 727, Score: 0.00000\n",
      "Feature: 728, Score: 0.00000\n",
      "Feature: 729, Score: 0.00000\n",
      "Feature: 730, Score: 0.00000\n",
      "Feature: 731, Score: 0.00000\n",
      "Feature: 732, Score: 0.00000\n",
      "Feature: 733, Score: 0.00000\n",
      "Feature: 734, Score: 0.00000\n",
      "Feature: 735, Score: 0.00000\n",
      "Feature: 736, Score: 0.00000\n",
      "Feature: 737, Score: 0.00000\n",
      "Feature: 738, Score: 0.00000\n",
      "Feature: 739, Score: 0.00000\n",
      "Feature: 740, Score: 0.00000\n",
      "Feature: 741, Score: 0.00000\n",
      "Feature: 742, Score: 0.00000\n",
      "Feature: 743, Score: 0.00000\n",
      "Feature: 744, Score: 0.00000\n",
      "Feature: 745, Score: 0.00000\n",
      "Feature: 746, Score: 0.00000\n",
      "Feature: 747, Score: 0.00000\n",
      "Feature: 748, Score: 0.00000\n",
      "Feature: 749, Score: 0.00000\n",
      "Feature: 750, Score: 0.00000\n",
      "Feature: 751, Score: 0.00000\n",
      "Feature: 752, Score: 0.00000\n",
      "Feature: 753, Score: 0.00000\n",
      "Feature: 754, Score: 0.00000\n",
      "Feature: 755, Score: 0.00000\n",
      "Feature: 756, Score: 0.00000\n",
      "Feature: 757, Score: 0.00000\n",
      "Feature: 758, Score: 0.00000\n",
      "Feature: 759, Score: 0.00000\n",
      "Feature: 760, Score: 0.00000\n",
      "Feature: 761, Score: 0.00000\n",
      "Feature: 762, Score: 0.00000\n",
      "Feature: 763, Score: 0.00000\n",
      "Feature: 764, Score: 0.00000\n",
      "Feature: 765, Score: 0.00000\n",
      "Feature: 766, Score: 0.00000\n",
      "Feature: 767, Score: 0.00000\n",
      "Feature: 768, Score: 0.00000\n",
      "Feature: 769, Score: 0.00000\n",
      "Feature: 770, Score: 0.00000\n",
      "Feature: 771, Score: 0.00000\n",
      "Feature: 772, Score: 0.00000\n",
      "Feature: 773, Score: 0.00000\n",
      "Feature: 774, Score: 0.00000\n",
      "Feature: 775, Score: 0.00000\n",
      "Feature: 776, Score: 0.00000\n",
      "Feature: 777, Score: 0.00000\n",
      "Feature: 778, Score: 0.00000\n",
      "Feature: 779, Score: 0.00000\n",
      "Feature: 780, Score: 0.00000\n",
      "Feature: 781, Score: 0.00000\n",
      "Feature: 782, Score: 0.00000\n",
      "Feature: 783, Score: 0.00000\n",
      "Feature: 784, Score: 0.00000\n",
      "Feature: 785, Score: 0.00000\n",
      "Feature: 786, Score: 0.00000\n",
      "Feature: 787, Score: 0.00000\n",
      "Feature: 788, Score: 0.00000\n",
      "Feature: 789, Score: 0.00000\n",
      "Feature: 790, Score: 0.00000\n",
      "Feature: 791, Score: 0.00000\n",
      "Feature: 792, Score: 0.00000\n",
      "Feature: 793, Score: 0.00000\n",
      "Feature: 794, Score: 0.00000\n",
      "Feature: 795, Score: 0.00000\n",
      "Feature: 796, Score: 0.00000\n",
      "Feature: 797, Score: 0.00000\n",
      "Feature: 798, Score: 0.00000\n",
      "Feature: 799, Score: 0.00000\n",
      "Feature: 800, Score: 0.00000\n",
      "Feature: 801, Score: 0.00000\n",
      "Feature: 802, Score: 0.00000\n",
      "Feature: 803, Score: 0.00000\n",
      "Feature: 804, Score: 0.00000\n",
      "Feature: 805, Score: 0.00000\n",
      "Feature: 806, Score: 0.00000\n",
      "Feature: 807, Score: 0.00000\n",
      "Feature: 808, Score: 0.00000\n",
      "Feature: 809, Score: 0.00000\n",
      "Feature: 810, Score: 0.00000\n",
      "Feature: 811, Score: 0.00000\n",
      "Feature: 812, Score: 0.00000\n",
      "Feature: 813, Score: 0.00000\n",
      "Feature: 814, Score: 0.00000\n",
      "Feature: 815, Score: 0.00000\n",
      "Feature: 816, Score: 0.00000\n",
      "Feature: 817, Score: 0.00000\n",
      "Feature: 818, Score: 0.00000\n",
      "Feature: 819, Score: 0.00000\n",
      "Feature: 820, Score: 0.00000\n",
      "Feature: 821, Score: 0.00000\n",
      "Feature: 822, Score: 0.00000\n",
      "Feature: 823, Score: 0.00000\n",
      "Feature: 824, Score: 0.00000\n",
      "Feature: 825, Score: 0.00000\n",
      "Feature: 826, Score: 0.00000\n",
      "Feature: 827, Score: 0.00000\n",
      "Feature: 828, Score: 0.00000\n",
      "Feature: 829, Score: 0.00000\n",
      "Feature: 830, Score: 0.00000\n",
      "Feature: 831, Score: 0.00000\n",
      "Feature: 832, Score: 0.00000\n",
      "Feature: 833, Score: 0.00000\n",
      "Feature: 834, Score: 0.00000\n",
      "Feature: 835, Score: 0.00000\n",
      "Feature: 836, Score: 0.00000\n",
      "Feature: 837, Score: 0.00000\n",
      "Feature: 838, Score: 0.00000\n",
      "Feature: 839, Score: 0.00000\n",
      "Feature: 840, Score: 0.00000\n",
      "Feature: 841, Score: 0.00000\n",
      "Feature: 842, Score: 0.00000\n",
      "Feature: 843, Score: 0.00000\n",
      "Feature: 844, Score: 0.00000\n",
      "Feature: 845, Score: 0.00000\n",
      "Feature: 846, Score: 0.00000\n",
      "Feature: 847, Score: 0.00000\n",
      "Feature: 848, Score: 0.00000\n",
      "Feature: 849, Score: 0.00000\n",
      "Feature: 850, Score: 0.00000\n",
      "Feature: 851, Score: 0.00000\n",
      "Feature: 852, Score: 0.00000\n",
      "Feature: 853, Score: 0.00000\n",
      "Feature: 854, Score: 0.00000\n",
      "Feature: 855, Score: 0.00000\n",
      "Feature: 856, Score: 0.00000\n",
      "Feature: 857, Score: 0.00000\n",
      "Feature: 858, Score: 0.00000\n",
      "Feature: 859, Score: 0.00000\n",
      "Feature: 860, Score: 0.00000\n",
      "Feature: 861, Score: 0.00000\n",
      "Feature: 862, Score: 0.00000\n",
      "Feature: 863, Score: 0.00000\n",
      "Feature: 864, Score: 0.00000\n",
      "Feature: 865, Score: 0.00000\n",
      "Feature: 866, Score: 0.00000\n",
      "Feature: 867, Score: 0.00000\n",
      "Feature: 868, Score: 0.00000\n",
      "Feature: 869, Score: 0.00000\n",
      "Feature: 870, Score: 0.00000\n",
      "Feature: 871, Score: 0.00000\n",
      "Feature: 872, Score: 0.00000\n",
      "Feature: 873, Score: 0.00000\n",
      "Feature: 874, Score: 0.00000\n",
      "Feature: 875, Score: 0.00000\n",
      "Feature: 876, Score: 0.00000\n",
      "Feature: 877, Score: 0.00000\n",
      "Feature: 878, Score: 0.00000\n",
      "Feature: 879, Score: 0.00000\n",
      "Feature: 880, Score: 0.00000\n",
      "Feature: 881, Score: 0.00000\n",
      "Feature: 882, Score: 0.00000\n",
      "Feature: 883, Score: 0.00000\n",
      "Feature: 884, Score: 0.00000\n",
      "Feature: 885, Score: 0.00000\n",
      "Feature: 886, Score: 0.00000\n",
      "Feature: 887, Score: 0.00000\n",
      "Feature: 888, Score: 0.00000\n",
      "Feature: 889, Score: 0.00000\n",
      "Feature: 890, Score: 0.00000\n",
      "Feature: 891, Score: 0.00000\n",
      "Feature: 892, Score: 0.00000\n",
      "Feature: 893, Score: 0.00000\n",
      "Feature: 894, Score: 0.00000\n",
      "Feature: 895, Score: 0.00000\n",
      "Feature: 896, Score: 0.00000\n",
      "Feature: 897, Score: 0.00000\n",
      "Feature: 898, Score: 0.00000\n",
      "Feature: 899, Score: 0.00000\n",
      "Feature: 900, Score: 0.00000\n",
      "Feature: 901, Score: 0.00000\n",
      "Feature: 902, Score: 0.00000\n",
      "Feature: 903, Score: 0.00000\n",
      "Feature: 904, Score: 0.00000\n",
      "Feature: 905, Score: 0.00000\n",
      "Feature: 906, Score: 0.00000\n",
      "Feature: 907, Score: 0.00000\n",
      "Feature: 908, Score: 0.00000\n",
      "Feature: 909, Score: 0.00000\n",
      "Feature: 910, Score: 0.00000\n",
      "Feature: 911, Score: 0.00000\n",
      "Feature: 912, Score: 0.00000\n",
      "Feature: 913, Score: 0.00000\n",
      "Feature: 914, Score: 0.00000\n",
      "Feature: 915, Score: 0.00000\n",
      "Feature: 916, Score: 0.00000\n",
      "Feature: 917, Score: 0.00000\n",
      "Feature: 918, Score: 0.00000\n",
      "Feature: 919, Score: 0.00000\n",
      "Feature: 920, Score: 0.00000\n",
      "Feature: 921, Score: 0.00000\n",
      "Feature: 922, Score: 0.00000\n",
      "Feature: 923, Score: 0.00000\n",
      "Feature: 924, Score: 0.00000\n",
      "Feature: 925, Score: 0.00000\n",
      "Feature: 926, Score: 0.00000\n",
      "Feature: 927, Score: 0.00000\n",
      "Feature: 928, Score: 0.00000\n",
      "Feature: 929, Score: 0.00000\n",
      "Feature: 930, Score: 0.00000\n",
      "Feature: 931, Score: 0.00000\n",
      "Feature: 932, Score: 0.00000\n",
      "Feature: 933, Score: 0.00000\n",
      "Feature: 934, Score: 0.00000\n",
      "Feature: 935, Score: 0.00000\n",
      "Feature: 936, Score: 0.00000\n",
      "Feature: 937, Score: 0.00000\n",
      "Feature: 938, Score: 0.00000\n",
      "Feature: 939, Score: 0.00000\n",
      "Feature: 940, Score: 0.00000\n",
      "Feature: 941, Score: 0.00000\n",
      "Feature: 942, Score: 0.00000\n",
      "Feature: 943, Score: 0.00000\n",
      "Feature: 944, Score: 0.00000\n",
      "Feature: 945, Score: 0.00000\n",
      "Feature: 946, Score: 0.00000\n",
      "Feature: 947, Score: 0.00000\n",
      "Feature: 948, Score: 0.00000\n",
      "Feature: 949, Score: 0.00000\n",
      "Feature: 950, Score: 0.00000\n",
      "Feature: 951, Score: 0.00000\n",
      "Feature: 952, Score: 0.00000\n",
      "Feature: 953, Score: 0.00000\n",
      "Feature: 954, Score: 0.00000\n",
      "Feature: 955, Score: 0.00000\n",
      "Feature: 956, Score: 0.00000\n",
      "Feature: 957, Score: 0.00000\n",
      "Feature: 958, Score: 0.00000\n",
      "Feature: 959, Score: 0.00000\n",
      "Feature: 960, Score: 0.00000\n",
      "Feature: 961, Score: 0.00000\n",
      "Feature: 962, Score: 0.00000\n",
      "Feature: 963, Score: 0.00000\n",
      "Feature: 964, Score: 0.00000\n",
      "Feature: 965, Score: 0.00000\n",
      "Feature: 966, Score: 0.00000\n",
      "Feature: 967, Score: 0.00000\n",
      "Feature: 968, Score: 0.00000\n",
      "Feature: 969, Score: 0.00000\n",
      "Feature: 970, Score: 0.00000\n",
      "Feature: 971, Score: 0.00000\n",
      "Feature: 972, Score: 0.00000\n",
      "Feature: 973, Score: 0.00000\n",
      "Feature: 974, Score: 0.00000\n",
      "Feature: 975, Score: 0.00000\n",
      "Feature: 976, Score: 0.00000\n",
      "Feature: 977, Score: 0.00000\n",
      "Feature: 978, Score: 0.00000\n",
      "Feature: 979, Score: 0.00000\n",
      "Feature: 980, Score: 0.00000\n",
      "Feature: 981, Score: 0.00000\n",
      "Feature: 982, Score: 0.00000\n",
      "Feature: 983, Score: 0.00000\n",
      "Feature: 984, Score: 0.00000\n",
      "Feature: 985, Score: 0.00000\n",
      "Feature: 986, Score: 0.00000\n",
      "Feature: 987, Score: 0.00000\n",
      "Feature: 988, Score: 0.00000\n",
      "Feature: 989, Score: 0.00000\n",
      "Feature: 990, Score: 0.00000\n",
      "Feature: 991, Score: 0.00000\n",
      "Feature: 992, Score: 0.00000\n",
      "Feature: 993, Score: 0.00000\n",
      "Feature: 994, Score: 0.00000\n",
      "Feature: 995, Score: 0.00000\n",
      "Feature: 996, Score: 0.00000\n",
      "Feature: 997, Score: 0.00000\n",
      "Feature: 998, Score: 0.00000\n",
      "Feature: 999, Score: 0.00000\n",
      "Feature: 1000, Score: 0.00000\n",
      "Feature: 1001, Score: 0.00000\n",
      "Feature: 1002, Score: 0.00000\n",
      "Feature: 1003, Score: 0.00000\n",
      "Feature: 1004, Score: 0.00000\n",
      "Feature: 1005, Score: 0.00000\n",
      "Feature: 1006, Score: 0.00000\n",
      "Feature: 1007, Score: 0.00000\n",
      "Feature: 1008, Score: 0.00000\n",
      "Feature: 1009, Score: 0.00000\n",
      "Feature: 1010, Score: 0.00000\n",
      "Feature: 1011, Score: 0.00000\n",
      "Feature: 1012, Score: 0.00000\n",
      "Feature: 1013, Score: 0.00000\n",
      "Feature: 1014, Score: 0.00000\n",
      "Feature: 1015, Score: 0.00000\n",
      "Feature: 1016, Score: 0.00000\n",
      "Feature: 1017, Score: 0.00000\n",
      "Feature: 1018, Score: 0.00000\n",
      "Feature: 1019, Score: 0.00000\n",
      "Feature: 1020, Score: 0.00000\n",
      "Feature: 1021, Score: 0.00000\n",
      "Feature: 1022, Score: 0.00000\n",
      "Feature: 1023, Score: 0.00000\n",
      "Feature: 1024, Score: 0.00000\n",
      "Feature: 1025, Score: 0.00000\n",
      "Feature: 1026, Score: 0.00000\n",
      "Feature: 1027, Score: 0.00000\n",
      "Feature: 1028, Score: 0.00000\n",
      "Feature: 1029, Score: 0.00000\n",
      "Feature: 1030, Score: 0.00000\n",
      "Feature: 1031, Score: 0.00000\n",
      "Feature: 1032, Score: 0.00000\n",
      "Feature: 1033, Score: 0.00000\n",
      "Feature: 1034, Score: 0.00000\n",
      "Feature: 1035, Score: 0.00000\n",
      "Feature: 1036, Score: 0.00000\n",
      "Feature: 1037, Score: 0.00000\n",
      "Feature: 1038, Score: 0.00000\n",
      "Feature: 1039, Score: 0.00000\n",
      "Feature: 1040, Score: 0.00000\n",
      "Feature: 1041, Score: 0.00000\n",
      "Feature: 1042, Score: 0.00000\n",
      "Feature: 1043, Score: 0.00000\n",
      "Feature: 1044, Score: 0.00000\n",
      "Feature: 1045, Score: 0.02450\n",
      "Feature: 1046, Score: 0.00000\n",
      "Feature: 1047, Score: 0.00000\n",
      "Feature: 1048, Score: 0.00000\n",
      "Feature: 1049, Score: 0.00000\n",
      "Feature: 1050, Score: 0.00000\n",
      "Feature: 1051, Score: 0.00000\n",
      "Feature: 1052, Score: 0.00000\n",
      "Feature: 1053, Score: 0.00000\n",
      "Feature: 1054, Score: 0.00000\n",
      "Feature: 1055, Score: 0.00000\n",
      "Feature: 1056, Score: 0.00000\n",
      "Feature: 1057, Score: 0.00000\n",
      "Feature: 1058, Score: 0.00000\n",
      "Feature: 1059, Score: 0.00000\n",
      "Feature: 1060, Score: 0.00000\n",
      "Feature: 1061, Score: 0.00000\n",
      "Feature: 1062, Score: 0.00000\n",
      "Feature: 1063, Score: 0.00000\n",
      "Feature: 1064, Score: 0.00000\n",
      "Feature: 1065, Score: 0.00000\n",
      "Feature: 1066, Score: 0.00000\n",
      "Feature: 1067, Score: 0.00000\n",
      "Feature: 1068, Score: 0.00000\n",
      "Feature: 1069, Score: 0.00000\n",
      "Feature: 1070, Score: 0.00000\n",
      "Feature: 1071, Score: 0.00000\n",
      "Feature: 1072, Score: 0.00000\n",
      "Feature: 1073, Score: 0.00000\n",
      "Feature: 1074, Score: 0.00000\n",
      "Feature: 1075, Score: 0.00000\n",
      "Feature: 1076, Score: 0.00000\n",
      "Feature: 1077, Score: 0.00000\n",
      "Feature: 1078, Score: 0.00000\n",
      "Feature: 1079, Score: 0.00000\n",
      "Feature: 1080, Score: 0.00000\n",
      "Feature: 1081, Score: 0.00000\n",
      "Feature: 1082, Score: 0.00000\n",
      "Feature: 1083, Score: 0.00000\n",
      "Feature: 1084, Score: 0.00000\n",
      "Feature: 1085, Score: 0.00000\n",
      "Feature: 1086, Score: 0.00000\n",
      "Feature: 1087, Score: 0.00000\n",
      "Feature: 1088, Score: 0.00000\n",
      "Feature: 1089, Score: 0.00000\n",
      "Feature: 1090, Score: 0.00000\n",
      "Feature: 1091, Score: 0.00000\n",
      "Feature: 1092, Score: 0.00000\n",
      "Feature: 1093, Score: 0.00000\n",
      "Feature: 1094, Score: 0.00000\n",
      "Feature: 1095, Score: 0.00000\n",
      "Feature: 1096, Score: 0.00000\n",
      "Feature: 1097, Score: 0.00000\n",
      "Feature: 1098, Score: 0.00000\n",
      "Feature: 1099, Score: 0.00000\n",
      "Feature: 1100, Score: 0.00000\n",
      "Feature: 1101, Score: 0.00000\n",
      "Feature: 1102, Score: 0.00000\n",
      "Feature: 1103, Score: 0.00000\n",
      "Feature: 1104, Score: 0.00000\n",
      "Feature: 1105, Score: 0.00000\n",
      "Feature: 1106, Score: 0.00000\n",
      "Feature: 1107, Score: 0.00000\n",
      "Feature: 1108, Score: 0.00000\n",
      "Feature: 1109, Score: 0.00000\n",
      "Feature: 1110, Score: 0.00000\n",
      "Feature: 1111, Score: 0.00000\n",
      "Feature: 1112, Score: 0.00000\n",
      "Feature: 1113, Score: 0.00000\n",
      "Feature: 1114, Score: 0.00000\n",
      "Feature: 1115, Score: 0.00000\n",
      "Feature: 1116, Score: 0.00000\n",
      "Feature: 1117, Score: 0.00000\n",
      "Feature: 1118, Score: 0.00000\n",
      "Feature: 1119, Score: 0.00000\n",
      "Feature: 1120, Score: 0.00000\n",
      "Feature: 1121, Score: 0.00000\n",
      "Feature: 1122, Score: 0.00000\n",
      "Feature: 1123, Score: 0.00000\n",
      "Feature: 1124, Score: 0.00000\n",
      "Feature: 1125, Score: 0.00000\n",
      "Feature: 1126, Score: 0.00000\n",
      "Feature: 1127, Score: 0.00000\n",
      "Feature: 1128, Score: 0.00000\n",
      "Feature: 1129, Score: 0.00000\n",
      "Feature: 1130, Score: 0.00000\n",
      "Feature: 1131, Score: 0.00000\n",
      "Feature: 1132, Score: 0.00000\n",
      "Feature: 1133, Score: 0.00000\n",
      "Feature: 1134, Score: 0.00000\n",
      "Feature: 1135, Score: 0.00000\n",
      "Feature: 1136, Score: 0.00000\n",
      "Feature: 1137, Score: 0.00000\n",
      "Feature: 1138, Score: 0.00000\n",
      "Feature: 1139, Score: 0.00000\n",
      "Feature: 1140, Score: 0.00000\n",
      "Feature: 1141, Score: 0.00000\n",
      "Feature: 1142, Score: 0.00000\n",
      "Feature: 1143, Score: 0.00000\n",
      "Feature: 1144, Score: 0.00000\n",
      "Feature: 1145, Score: 0.00000\n",
      "Feature: 1146, Score: 0.00000\n",
      "Feature: 1147, Score: 0.00000\n",
      "Feature: 1148, Score: 0.00000\n",
      "Feature: 1149, Score: 0.00000\n",
      "Feature: 1150, Score: 0.00000\n",
      "Feature: 1151, Score: 0.00000\n",
      "Feature: 1152, Score: 0.00000\n",
      "Feature: 1153, Score: 0.00000\n",
      "Feature: 1154, Score: 0.00000\n",
      "Feature: 1155, Score: 0.00000\n",
      "Feature: 1156, Score: 0.00000\n",
      "Feature: 1157, Score: 0.00000\n",
      "Feature: 1158, Score: 0.00000\n",
      "Feature: 1159, Score: 0.00000\n",
      "Feature: 1160, Score: 0.00000\n",
      "Feature: 1161, Score: 0.00000\n",
      "Feature: 1162, Score: 0.00000\n",
      "Feature: 1163, Score: 0.00000\n",
      "Feature: 1164, Score: 0.00000\n",
      "Feature: 1165, Score: 0.00000\n",
      "Feature: 1166, Score: 0.00000\n",
      "Feature: 1167, Score: 0.00000\n",
      "Feature: 1168, Score: 0.00000\n",
      "Feature: 1169, Score: 0.00000\n",
      "Feature: 1170, Score: 0.00000\n",
      "Feature: 1171, Score: 0.00000\n",
      "Feature: 1172, Score: 0.00000\n",
      "Feature: 1173, Score: 0.00000\n",
      "Feature: 1174, Score: 0.00000\n",
      "Feature: 1175, Score: 0.00000\n",
      "Feature: 1176, Score: 0.00000\n",
      "Feature: 1177, Score: 0.00000\n",
      "Feature: 1178, Score: 0.00000\n",
      "Feature: 1179, Score: 0.00000\n",
      "Feature: 1180, Score: 0.00000\n",
      "Feature: 1181, Score: 0.00000\n",
      "Feature: 1182, Score: 0.00000\n",
      "Feature: 1183, Score: 0.00000\n",
      "Feature: 1184, Score: 0.00000\n",
      "Feature: 1185, Score: 0.00000\n",
      "Feature: 1186, Score: 0.00000\n",
      "Feature: 1187, Score: 0.00000\n",
      "Feature: 1188, Score: 0.00000\n",
      "Feature: 1189, Score: 0.00000\n",
      "Feature: 1190, Score: 0.00000\n",
      "Feature: 1191, Score: 0.00000\n",
      "Feature: 1192, Score: 0.00000\n",
      "Feature: 1193, Score: 0.00000\n",
      "Feature: 1194, Score: 0.00000\n",
      "Feature: 1195, Score: 0.00000\n",
      "Feature: 1196, Score: 0.00000\n",
      "Feature: 1197, Score: 0.00000\n",
      "Feature: 1198, Score: 0.00000\n",
      "Feature: 1199, Score: 0.00000\n",
      "Feature: 1200, Score: 0.00000\n",
      "Feature: 1201, Score: 0.00000\n",
      "Feature: 1202, Score: 0.00000\n",
      "Feature: 1203, Score: 0.00000\n",
      "Feature: 1204, Score: 0.00000\n",
      "Feature: 1205, Score: 0.00000\n",
      "Feature: 1206, Score: 0.00000\n",
      "Feature: 1207, Score: 0.00000\n",
      "Feature: 1208, Score: 0.00000\n",
      "Feature: 1209, Score: 0.00000\n",
      "Feature: 1210, Score: 0.00000\n",
      "Feature: 1211, Score: 0.00000\n",
      "Feature: 1212, Score: 0.00000\n",
      "Feature: 1213, Score: 0.00000\n",
      "Feature: 1214, Score: 0.00000\n",
      "Feature: 1215, Score: 0.00000\n",
      "Feature: 1216, Score: 0.00000\n",
      "Feature: 1217, Score: 0.00000\n",
      "Feature: 1218, Score: 0.00000\n",
      "Feature: 1219, Score: 0.00000\n",
      "Feature: 1220, Score: 0.00000\n",
      "Feature: 1221, Score: 0.00000\n",
      "Feature: 1222, Score: 0.00000\n",
      "Feature: 1223, Score: 0.00000\n",
      "Feature: 1224, Score: 0.00000\n",
      "Feature: 1225, Score: 0.00000\n",
      "Feature: 1226, Score: 0.00000\n",
      "Feature: 1227, Score: 0.00000\n",
      "Feature: 1228, Score: 0.00000\n",
      "Feature: 1229, Score: 0.00000\n",
      "Feature: 1230, Score: 0.00000\n",
      "Feature: 1231, Score: 0.00000\n",
      "Feature: 1232, Score: 0.00000\n",
      "Feature: 1233, Score: 0.00000\n",
      "Feature: 1234, Score: 0.00000\n",
      "Feature: 1235, Score: 0.00000\n",
      "Feature: 1236, Score: 0.00000\n",
      "Feature: 1237, Score: 0.00000\n",
      "Feature: 1238, Score: 0.00000\n",
      "Feature: 1239, Score: 0.00000\n",
      "Feature: 1240, Score: 0.00000\n",
      "Feature: 1241, Score: 0.00000\n",
      "Feature: 1242, Score: 0.00000\n",
      "Feature: 1243, Score: 0.00000\n",
      "Feature: 1244, Score: 0.00000\n",
      "Feature: 1245, Score: 0.00000\n",
      "Feature: 1246, Score: 0.00000\n",
      "Feature: 1247, Score: 0.00000\n",
      "Feature: 1248, Score: 0.00000\n",
      "Feature: 1249, Score: 0.00000\n",
      "Feature: 1250, Score: 0.00000\n",
      "Feature: 1251, Score: 0.00000\n",
      "Feature: 1252, Score: 0.00000\n",
      "Feature: 1253, Score: 0.00000\n",
      "Feature: 1254, Score: 0.00000\n",
      "Feature: 1255, Score: 0.00000\n",
      "Feature: 1256, Score: 0.00000\n",
      "Feature: 1257, Score: 0.00000\n",
      "Feature: 1258, Score: 0.00000\n",
      "Feature: 1259, Score: 0.00000\n",
      "Feature: 1260, Score: 0.00000\n",
      "Feature: 1261, Score: 0.00000\n",
      "Feature: 1262, Score: 0.00000\n",
      "Feature: 1263, Score: 0.00000\n",
      "Feature: 1264, Score: 0.00000\n",
      "Feature: 1265, Score: 0.00000\n",
      "Feature: 1266, Score: 0.00000\n",
      "Feature: 1267, Score: 0.00000\n",
      "Feature: 1268, Score: 0.00000\n",
      "Feature: 1269, Score: 0.00000\n",
      "Feature: 1270, Score: 0.00000\n",
      "Feature: 1271, Score: 0.00000\n",
      "Feature: 1272, Score: 0.00000\n",
      "Feature: 1273, Score: 0.00000\n",
      "Feature: 1274, Score: 0.00000\n",
      "Feature: 1275, Score: 0.00000\n",
      "Feature: 1276, Score: 0.00000\n",
      "Feature: 1277, Score: 0.00000\n",
      "Feature: 1278, Score: 0.00000\n",
      "Feature: 1279, Score: 0.00000\n",
      "Feature: 1280, Score: 0.00000\n",
      "Feature: 1281, Score: 0.00000\n",
      "Feature: 1282, Score: 0.00000\n",
      "Feature: 1283, Score: 0.00000\n",
      "Feature: 1284, Score: 0.00000\n",
      "Feature: 1285, Score: 0.00000\n",
      "Feature: 1286, Score: 0.00000\n",
      "Feature: 1287, Score: 0.00000\n",
      "Feature: 1288, Score: 0.00000\n",
      "Feature: 1289, Score: 0.00000\n",
      "Feature: 1290, Score: 0.00000\n",
      "Feature: 1291, Score: 0.00000\n",
      "Feature: 1292, Score: 0.00000\n",
      "Feature: 1293, Score: 0.00000\n",
      "Feature: 1294, Score: 0.00000\n",
      "Feature: 1295, Score: 0.00000\n",
      "Feature: 1296, Score: 0.00000\n",
      "Feature: 1297, Score: 0.00000\n",
      "Feature: 1298, Score: 0.00000\n",
      "Feature: 1299, Score: 0.00000\n",
      "Feature: 1300, Score: 0.00000\n",
      "Feature: 1301, Score: 0.00000\n",
      "Feature: 1302, Score: 0.00000\n",
      "Feature: 1303, Score: 0.00000\n",
      "Feature: 1304, Score: 0.00000\n",
      "Feature: 1305, Score: 0.00000\n",
      "Feature: 1306, Score: 0.00000\n",
      "Feature: 1307, Score: 0.00000\n",
      "Feature: 1308, Score: 0.00000\n",
      "Feature: 1309, Score: 0.00000\n",
      "Feature: 1310, Score: 0.00000\n",
      "Feature: 1311, Score: 0.00000\n",
      "Feature: 1312, Score: 0.00000\n",
      "Feature: 1313, Score: 0.01541\n",
      "Feature: 1314, Score: 0.00000\n",
      "Feature: 1315, Score: 0.00000\n",
      "Feature: 1316, Score: 0.00000\n",
      "Feature: 1317, Score: 0.00000\n",
      "Feature: 1318, Score: 0.03054\n",
      "Feature: 1319, Score: 0.00286\n",
      "Feature: 1320, Score: 0.00000\n",
      "Feature: 1321, Score: 0.00000\n"
     ]
    }
   ],
   "source": [
    "for i,v in enumerate(importance):\n",
    "\tprint('Feature: %0d, Score: %.5f' % (i,v))"
   ]
  },
  {
   "cell_type": "code",
   "execution_count": 42,
   "metadata": {},
   "outputs": [],
   "source": [
    "from matplotlib import pyplot"
   ]
  },
  {
   "cell_type": "code",
   "execution_count": 43,
   "metadata": {},
   "outputs": [
    {
     "data": {
      "text/plain": [
       "<BarContainer object of 1322 artists>"
      ]
     },
     "execution_count": 43,
     "metadata": {},
     "output_type": "execute_result"
    },
    {
     "data": {
      "image/png": "[encoded data removed]",
      "text/plain": [
       "<Figure size 432x288 with 1 Axes>"
      ]
     },
     "metadata": {
      "needs_background": "light"
     },
     "output_type": "display_data"
    }
   ],
   "source": [
    "pyplot.bar([x for x in range(len(importance))], importance)"
   ]
  },
  {
   "cell_type": "code",
   "execution_count": 44,
   "metadata": {},
   "outputs": [],
   "source": [
    "pyplot.show()"
   ]
  },
  {
   "cell_type": "markdown",
   "metadata": {},
   "source": [
    "### Train accuracy"
   ]
  },
  {
   "cell_type": "code",
   "execution_count": 45,
   "metadata": {},
   "outputs": [
    {
     "name": "stdout",
     "output_type": "stream",
     "text": [
      "0.6231454005934718\n"
     ]
    }
   ],
   "source": [
    "#Train accuracy:\n",
    "train_y_pred = tree_gs.best_estimator_.predict(train_x)\n",
    "\n",
    "print(accuracy_score(train_y, train_y_pred))"
   ]
  },
  {
   "cell_type": "markdown",
   "metadata": {},
   "source": [
    "### Test accuracy "
   ]
  },
  {
   "cell_type": "code",
   "execution_count": 46,
   "metadata": {},
   "outputs": [
    {
     "name": "stdout",
     "output_type": "stream",
     "text": [
      "0.6080769230769231\n"
     ]
    }
   ],
   "source": [
    "#Test accuracy:\n",
    "test_y_pred = tree_gs.best_estimator_.predict(test_x)\n",
    "\n",
    "print(accuracy_score(test_y, test_y_pred))##best model can be"
   ]
  },
  {
   "cell_type": "code",
   "execution_count": 47,
   "metadata": {},
   "outputs": [
    {
     "data": {
      "text/plain": [
       "array([[925, 470],\n",
       "       [549, 656]], dtype=int64)"
      ]
     },
     "execution_count": 47,
     "metadata": {},
     "output_type": "execute_result"
    }
   ],
   "source": [
    "#Test confusion matrix\n",
    "confusion_matrix(test_y, test_y_pred)"
   ]
  },
  {
   "cell_type": "markdown",
   "metadata": {},
   "source": [
    "# Discussion\n",
    " \n",
    "1) Which model performs the best (and why)?<br>\n",
    "2) Does the best model perform better than the baseline (and why)?<br>\n",
    "3) Does the best model exhibit any overfitting; what did you do about it?"
   ]
  },
  {
   "cell_type": "markdown",
   "metadata": {},
   "source": [
    "1)Decision Tree Model 3 with best estimators for random grid search performs best with test accuracy of 61% higher than other models. \n",
    "2)The best model performs better than baseline model(accuracy=53%) with accuracy of 61%.\n",
    "3)The best model does not exhibit any overfitting."
   ]
  },
  {
   "cell_type": "markdown",
   "metadata": {},
   "source": [
    "## Extra"
   ]
  },
  {
   "cell_type": "code",
   "execution_count": 48,
   "metadata": {},
   "outputs": [],
   "source": [
    "healthcare_competition = pd.read_csv(\"healthcare_competition.csv\")"
   ]
  },
  {
   "cell_type": "code",
   "execution_count": 50,
   "metadata": {},
   "outputs": [],
   "source": [
    "PatientID=healthcare_competition['patient_id']"
   ]
  },
  {
   "cell_type": "code",
   "execution_count": 51,
   "metadata": {},
   "outputs": [],
   "source": [
    "healthcare_competition=healthcare_competition.drop(['patient_id'],axis=1)"
   ]
  },
  {
   "cell_type": "code",
   "execution_count": 52,
   "metadata": {},
   "outputs": [
    {
     "data": {
      "text/html": [
       "<div>\n",
       "<style scoped>\n",
       "    .dataframe tbody tr th:only-of-type {\n",
       "        vertical-align: middle;\n",
       "    }\n",
       "\n",
       "    .dataframe tbody tr th {\n",
       "        vertical-align: top;\n",
       "    }\n",
       "\n",
       "    .dataframe thead th {\n",
       "        text-align: right;\n",
       "    }\n",
       "</style>\n",
       "<table border=\"1\" class=\"dataframe\">\n",
       "  <thead>\n",
       "    <tr style=\"text-align: right;\">\n",
       "      <th></th>\n",
       "      <th>A1cTestDone</th>\n",
       "    </tr>\n",
       "  </thead>\n",
       "  <tbody>\n",
       "    <tr>\n",
       "      <th>0</th>\n",
       "      <td>0</td>\n",
       "    </tr>\n",
       "    <tr>\n",
       "      <th>1</th>\n",
       "      <td>0</td>\n",
       "    </tr>\n",
       "    <tr>\n",
       "      <th>2</th>\n",
       "      <td>0</td>\n",
       "    </tr>\n",
       "    <tr>\n",
       "      <th>3</th>\n",
       "      <td>0</td>\n",
       "    </tr>\n",
       "    <tr>\n",
       "      <th>4</th>\n",
       "      <td>0</td>\n",
       "    </tr>\n",
       "    <tr>\n",
       "      <th>...</th>\n",
       "      <td>...</td>\n",
       "    </tr>\n",
       "    <tr>\n",
       "      <th>495</th>\n",
       "      <td>0</td>\n",
       "    </tr>\n",
       "    <tr>\n",
       "      <th>496</th>\n",
       "      <td>0</td>\n",
       "    </tr>\n",
       "    <tr>\n",
       "      <th>497</th>\n",
       "      <td>1</td>\n",
       "    </tr>\n",
       "    <tr>\n",
       "      <th>498</th>\n",
       "      <td>0</td>\n",
       "    </tr>\n",
       "    <tr>\n",
       "      <th>499</th>\n",
       "      <td>0</td>\n",
       "    </tr>\n",
       "  </tbody>\n",
       "</table>\n",
       "<p>500 rows × 1 columns</p>\n",
       "</div>"
      ],
      "text/plain": [
       "     A1cTestDone\n",
       "0              0\n",
       "1              0\n",
       "2              0\n",
       "3              0\n",
       "4              0\n",
       "..           ...\n",
       "495            0\n",
       "496            0\n",
       "497            1\n",
       "498            0\n",
       "499            0\n",
       "\n",
       "[500 rows x 1 columns]"
      ]
     },
     "execution_count": 52,
     "metadata": {},
     "output_type": "execute_result"
    }
   ],
   "source": [
    "subset_df = healthcare_competition[['A1Cresult']]\n",
    "\n",
    "# Send the new dataframe to the function we created\n",
    "new_col(subset_df)"
   ]
  },
  {
   "cell_type": "code",
   "execution_count": 53,
   "metadata": {},
   "outputs": [
    {
     "data": {
      "text/plain": [
       "race                     object\n",
       "gender                   object\n",
       "age                      object\n",
       "admission_type            int64\n",
       "discharge_disposition     int64\n",
       "admission_source          int64\n",
       "time_in_hospital          int64\n",
       "payer_code               object\n",
       "medical_specialty        object\n",
       "num_lab_procedures        int64\n",
       "num_procedures            int64\n",
       "num_medications           int64\n",
       "number_outpatient         int64\n",
       "number_emergency          int64\n",
       "number_inpatient          int64\n",
       "diag_1                   object\n",
       "diag_2                   object\n",
       "diag_3                   object\n",
       "number_diagnoses          int64\n",
       "max_glu_serum            object\n",
       "A1Cresult                object\n",
       "insulin                  object\n",
       "change                   object\n",
       "diabetesMed              object\n",
       "dtype: object"
      ]
     },
     "execution_count": 53,
     "metadata": {},
     "output_type": "execute_result"
    }
   ],
   "source": [
    "healthcare_competition.dtypes"
   ]
  },
  {
   "cell_type": "code",
   "execution_count": 54,
   "metadata": {},
   "outputs": [
    {
     "data": {
      "text/plain": [
       "<500x1322 sparse matrix of type '<class 'numpy.float64'>'\n",
       "\twith 12040 stored elements in Compressed Sparse Row format>"
      ]
     },
     "execution_count": 54,
     "metadata": {},
     "output_type": "execute_result"
    }
   ],
   "source": [
    "# Transform the test data\n",
    "testhealth = preprocessor.transform(healthcare_competition)\n",
    "\n",
    "testhealth"
   ]
  },
  {
   "cell_type": "code",
   "execution_count": 55,
   "metadata": {},
   "outputs": [],
   "source": [
    "\n",
    "bestprediction = tree_gs.best_estimator_.predict(testhealth)\n"
   ]
  },
  {
   "cell_type": "code",
   "execution_count": 56,
   "metadata": {},
   "outputs": [],
   "source": [
    "bestpredictiondf=pd.DataFrame(bestprediction,columns=['Readmitted'])"
   ]
  },
  {
   "cell_type": "code",
   "execution_count": 57,
   "metadata": {},
   "outputs": [],
   "source": [
    "#bestprediction=np.append(bestprediction, Result)\n",
    "#bestprediction=np.reshape(bestprediction, Result)\n",
    "bestpredictiondf.insert(1, \"ID\", np.arange(1, 501, 1).tolist(), False)"
   ]
  },
  {
   "cell_type": "code",
   "execution_count": 58,
   "metadata": {},
   "outputs": [
    {
     "data": {
      "text/html": [
       "<div>\n",
       "<style scoped>\n",
       "    .dataframe tbody tr th:only-of-type {\n",
       "        vertical-align: middle;\n",
       "    }\n",
       "\n",
       "    .dataframe tbody tr th {\n",
       "        vertical-align: top;\n",
       "    }\n",
       "\n",
       "    .dataframe thead th {\n",
       "        text-align: right;\n",
       "    }\n",
       "</style>\n",
       "<table border=\"1\" class=\"dataframe\">\n",
       "  <thead>\n",
       "    <tr style=\"text-align: right;\">\n",
       "      <th></th>\n",
       "      <th>Readmitted</th>\n",
       "      <th>ID</th>\n",
       "    </tr>\n",
       "  </thead>\n",
       "  <tbody>\n",
       "    <tr>\n",
       "      <th>0</th>\n",
       "      <td>0</td>\n",
       "      <td>1</td>\n",
       "    </tr>\n",
       "    <tr>\n",
       "      <th>1</th>\n",
       "      <td>1</td>\n",
       "      <td>2</td>\n",
       "    </tr>\n",
       "    <tr>\n",
       "      <th>2</th>\n",
       "      <td>0</td>\n",
       "      <td>3</td>\n",
       "    </tr>\n",
       "    <tr>\n",
       "      <th>3</th>\n",
       "      <td>0</td>\n",
       "      <td>4</td>\n",
       "    </tr>\n",
       "    <tr>\n",
       "      <th>4</th>\n",
       "      <td>0</td>\n",
       "      <td>5</td>\n",
       "    </tr>\n",
       "  </tbody>\n",
       "</table>\n",
       "</div>"
      ],
      "text/plain": [
       "   Readmitted  ID\n",
       "0           0   1\n",
       "1           1   2\n",
       "2           0   3\n",
       "3           0   4\n",
       "4           0   5"
      ]
     },
     "execution_count": 58,
     "metadata": {},
     "output_type": "execute_result"
    }
   ],
   "source": [
    "bestpredictiondf.head()"
   ]
  },
  {
   "cell_type": "code",
   "execution_count": 59,
   "metadata": {},
   "outputs": [],
   "source": [
    "bestpredictiondf.to_csv('salian_dt_competition.csv',index=False)"
   ]
  },
  {
   "cell_type": "code",
   "execution_count": 60,
   "metadata": {},
   "outputs": [
    {
     "data": {
      "text/plain": [
       "(500,)"
      ]
     },
     "execution_count": 60,
     "metadata": {},
     "output_type": "execute_result"
    }
   ],
   "source": [
    "bestprediction.shape"
   ]
  },
  {
   "cell_type": "code",
   "execution_count": null,
   "metadata": {},
   "outputs": [],
   "source": []
  }
 ],
 "metadata": {
  "kernelspec": {
   "display_name": "Python 3",
   "language": "python",
   "name": "python3"
  },
  "language_info": {
   "codemirror_mode": {
    "name": "ipython",
    "version": 3
   },
   "file_extension": ".py",
   "mimetype": "text/x-python",
   "name": "python",
   "nbconvert_exporter": "python",
   "pygments_lexer": "ipython3",
   "version": "3.8.5"
  }
 },
 "nbformat": 4,
 "nbformat_minor": 2
}
